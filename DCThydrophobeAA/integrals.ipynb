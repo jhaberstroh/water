{
 "metadata": {
  "name": "integrals"
 },
 "nbformat": 3,
 "nbformat_minor": 0,
 "worksheets": [
  {
   "cells": [
    {
     "cell_type": "code",
     "collapsed": false,
     "input": [
      "x = np.zeros((5,5))\n",
      "\n",
      "print x"
     ],
     "language": "python",
     "metadata": {},
     "outputs": [
      {
       "output_type": "stream",
       "stream": "stdout",
       "text": [
        "[[ 0.  0.  0.  0.  0.]\n",
        " [ 0.  0.  0.  0.  0.]\n",
        " [ 0.  0.  0.  0.  0.]\n",
        " [ 0.  0.  0.  0.  0.]\n",
        " [ 0.  0.  0.  0.  0.]]\n"
       ]
      }
     ],
     "prompt_number": 1
    },
    {
     "cell_type": "code",
     "collapsed": false,
     "input": [
      "\n",
      "\n",
      "def rn(n_index, R, numgrid):\n",
      "    r = np.linspace(0,R,numgrid)\n",
      "    func = np.power((r - R)/ R, n_index) \n",
      "    #print r\n",
      "    return r, func\n",
      "\n",
      "x, y = rn(0, 5, 11)\n",
      "\n",
      "\n",
      "\n",
      "plt.plot(x,y)\n",
      "\n",
      "    "
     ],
     "language": "python",
     "metadata": {},
     "outputs": [
      {
       "output_type": "pyout",
       "prompt_number": 41,
       "text": [
        "[<matplotlib.lines.Line2D at 0x5f3d090>]"
       ]
      },
      {
       "output_type": "display_data",
       "png": "[encoded data removed]"
      }
     ],
     "prompt_number": 41
    },
    {
     "cell_type": "code",
     "collapsed": false,
     "input": [
      "import numpy.polynomial.legendre as LG\n",
      "\n",
      "def leg_l(l_index, numgrid):\n",
      "    leg_access = np.zeros(l_index + 1)\n",
      "    leg_access[l_index] = 1\n",
      "    #print leg_access\n",
      "    x = np.linspace(0,1,numgrid)\n",
      "    y = LG.legval(x, leg_access)\n",
      "    return x,y\n",
      "   \n",
      "    \n",
      "x, y = leg_l(2, 101)\n",
      "\n",
      "plt.plot(x,y)"
     ],
     "language": "python",
     "metadata": {},
     "outputs": [
      {
       "output_type": "pyout",
       "prompt_number": 40,
       "text": [
        "[<matplotlib.lines.Line2D at 0x5b28c50>]"
       ]
      },
      {
       "output_type": "display_data",
       "png": "[encoded data removed]"
      }
     ],
     "prompt_number": 40
    },
    {
     "cell_type": "code",
     "collapsed": false,
     "input": [
      "R1G = 10\n",
      "R2G = 10\n",
      "C1G = 10\n",
      "C2G = 10\n",
      "PG = 10\n",
      "\n",
      "def Jnlmj(n,l,m,j):\n",
      "    t1, l1 = leg_l(l,C1G)\n",
      "    t2, l2 = leg_l(j,C2G)\n",
      "    r1, rn1 = rn(n, 3, R1G)\n",
      "    r2, rn2 = rn(m, 3, R2G)\n",
      "    \n",
      "    lv = np.outer(l1,l2)\n",
      "    #lv.shape = (100,)\n",
      "    rnv = np.outer(rn1, rn2)\n",
      "    #print \"rnv shape:\",rnv.shape\n",
      "    #rnv.shape = (100,)\n",
      "\n",
      "    res = np.einsum('nm,lj',rnv, lv)\n",
      "    \n",
      "    #res = np.outer(np.outer(t1,t2), np.outer(r1,r2))\n",
      "    return res\n",
      "\n",
      "res = Jnlmj(1,1,1,1)\n",
      "print res.shape\n",
      "np.sum(res)"
     ],
     "language": "python",
     "metadata": {},
     "outputs": [
      {
       "output_type": "stream",
       "stream": "stdout",
       "text": [
        "(10, 10, 10, 10)\n"
       ]
      },
      {
       "output_type": "pyout",
       "prompt_number": 52,
       "text": [
        "624.99999999999773"
       ]
      }
     ],
     "prompt_number": 52
    },
    {
     "cell_type": "code",
     "collapsed": false,
     "input": [],
     "language": "python",
     "metadata": {},
     "outputs": []
    }
   ],
   "metadata": {}
  }
 ]
}