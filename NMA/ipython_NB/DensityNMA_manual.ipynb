{
 "metadata": {
  "name": "DensityNMA_manual"
 },
 "nbformat": 3,
 "nbformat_minor": 0,
 "worksheets": [
  {
   "cells": [
    {
     "cell_type": "code",
     "collapsed": false,
     "input": [
      "import numpy as np\n",
      "import matplotlib as mpl\n",
      "import scipy\n",
      "import mdp\n",
      "import bimdp\n",
      "import re\n",
      "import os\n",
      "\n",
      "\n",
      "Xti = []\n",
      "Vti = []\n",
      "first_line = True\n",
      "first_pass = True\n",
      "\n",
      "fpath = \"ProductionMD/md_traj.gro\"\n",
      "fsize = os.path.getsize(fpath)\n",
      "print \"File size:\", fsize, \"bytes (~\", fsize / 1000000 , \"MB )\"\n",
      "\n",
      "N = 0\n",
      "with open(fpath, 'rb') as f:\n",
      "    f.readline()\n",
      "    N = int(f.readline())\n",
      "\n",
      "print \"Number of particles:\", N\n",
      "x_i = np.ndarray(shape=(N,3), dtype=float)\n",
      "v_i = np.ndarray(shape=(N,3), dtype=float)\n",
      "type_i = []\n",
      "sys_size_t = []\n",
      "times = []\n",
      "i = 0\n"
     ],
     "language": "python",
     "metadata": {},
     "outputs": [
      {
       "output_type": "stream",
       "stream": "stdout",
       "text": [
        "File size: 146273464 bytes (~ 146 MB )\n",
        "Number of particles: 4230\n"
       ]
      }
     ],
     "prompt_number": 1
    },
    {
     "cell_type": "code",
     "collapsed": false,
     "input": [
      "print \"Loading Xti, Vti, type_i, and times into memory, assuming fixed number of particles...\"\n",
      "print \"[L]: nm\"\n",
      "print \"[T]: ps\"\n",
      "with open(fpath, 'rb') as f:\n",
      "    header_flag = 0\n",
      "    N_particles = 0\n",
      "    system_size = 0\n",
      "    count = 0\n",
      "    for l in f:\n",
      "        \n",
      "        count = count+1\n",
      "        if count % (4234 * 20) == 0:\n",
      "            print float(f.tell()) / float(fsize) * 100, \"% progress\"\n",
      "            \n",
      "        if re.match(\".*SOL.*\", l):\n",
      "            #print l.split()\n",
      "            x = []\n",
      "            v = []\n",
      "            if first_pass:\n",
      "                type_i.append(l.split()[1])\n",
      "                \n",
      "            for val in l.split()[3:6]:\n",
      "                x.append(float(val))\n",
      "            for val in l.split()[6:]:\n",
      "                v.append(float(val))\n",
      "            x_i[i][:] = x\n",
      "            v_i[i][:] = v\n",
      "            i = i+1\n",
      "        elif re.match(\".*t=.*\", l):\n",
      "            #print float(re.split(\"t=\",l)[1])\n",
      "            i = 0\n",
      "            header_flag = 1\n",
      "            times.append(float(re.split(\"t=\",l)[1]))\n",
      "                     \n",
      "            if not first_line:\n",
      "                first_pass = False\n",
      "                Xti.append(x_i)\n",
      "                Vti.append(v_i)\n",
      "                sys_size_t.append(system_size)\n",
      "            elif first_line:\n",
      "                first_line = False\n",
      "        elif header_flag == 1:\n",
      "            header_flag = 2\n",
      "            N_particles = int(l)\n",
      "        elif header_flag == 2:\n",
      "            header_flag = 0\n",
      "            system_size = float(l.split()[0])\n",
      "        else:\n",
      "            print \"Warning: bad line\"\n",
      "            print l,\n",
      "            print header_flag\n",
      "                           \n",
      "Xti.append(x_i)\n",
      "Vti.append(v_i)\n",
      "sys_size_t.append(system_size)\n",
      "\n",
      "assert len(Xti) == len(Vti)\n",
      "assert len(Xti) == len(times)\n",
      "assert len(Xti[0]) == len(type_i)\n",
      "\n",
      "print \"\"\n",
      "print \"Number of time points:\", len(Xti)\n",
      "\n",
      "Xti = np.array(Xti)\n",
      "Vti = np.array(Vti)\n",
      "sys_size_t = np.array(sys_size_t)\n"
     ],
     "language": "python",
     "metadata": {},
     "outputs": [
      {
       "output_type": "stream",
       "stream": "stdout",
       "text": [
        "Loading Xti, Vti, type_i, and times into memory, assuming fixed number of particles...\n",
        "[L]: nm\n",
        "[T]: ps\n",
        "3.99733474556"
       ]
      },
      {
       "output_type": "stream",
       "stream": "stdout",
       "text": [
        " % progress\n",
        "7.99186925661"
       ]
      },
      {
       "output_type": "stream",
       "stream": "stdout",
       "text": [
        " % progress\n",
        "11.9822034159"
       ]
      },
      {
       "output_type": "stream",
       "stream": "stdout",
       "text": [
        " % progress\n",
        "15.9781380442"
       ]
      },
      {
       "output_type": "stream",
       "stream": "stdout",
       "text": [
        " % progress\n",
        "19.965671969"
       ]
      },
      {
       "output_type": "stream",
       "stream": "stdout",
       "text": [
        " % progress\n",
        "23.9616065974"
       ]
      },
      {
       "output_type": "stream",
       "stream": "stdout",
       "text": [
        " % progress\n",
        "27.9519407567"
       ]
      },
      {
       "output_type": "stream",
       "stream": "stdout",
       "text": [
        " % progress\n",
        "31.9450751505"
       ]
      },
      {
       "output_type": "stream",
       "stream": "stdout",
       "text": [
        " % progress\n",
        "35.936809427"
       ]
      },
      {
       "output_type": "stream",
       "stream": "stdout",
       "text": [
        " % progress\n",
        "39.9355442898"
       ]
      },
      {
       "output_type": "stream",
       "stream": "stdout",
       "text": [
        " % progress\n",
        "43.9230782147"
       ]
      },
      {
       "output_type": "stream",
       "stream": "stdout",
       "text": [
        " % progress\n",
        "47.9218130775"
       ]
      },
      {
       "output_type": "stream",
       "stream": "stdout",
       "text": [
        " % progress\n",
        "51.9093470023"
       ]
      },
      {
       "output_type": "stream",
       "stream": "stdout",
       "text": [
        " % progress\n",
        "55.9052816306"
       ]
      },
      {
       "output_type": "stream",
       "stream": "stdout",
       "text": [
        " % progress\n",
        "59.8956157899"
       ]
      },
      {
       "output_type": "stream",
       "stream": "stdout",
       "text": [
        " % progress\n",
        "63.8901503009"
       ]
      },
      {
       "output_type": "stream",
       "stream": "stdout",
       "text": [
        " % progress\n",
        "67.8860849293"
       ]
      },
      {
       "output_type": "stream",
       "stream": "stdout",
       "text": [
        " % progress\n",
        "71.8764190886"
       ]
      },
      {
       "output_type": "stream",
       "stream": "stdout",
       "text": [
        " % progress\n",
        "75.8695534824"
       ]
      },
      {
       "output_type": "stream",
       "stream": "stdout",
       "text": [
        " % progress\n",
        "79.8612877589"
       ]
      },
      {
       "output_type": "stream",
       "stream": "stdout",
       "text": [
        " % progress\n",
        "83.8530220355"
       ]
      },
      {
       "output_type": "stream",
       "stream": "stdout",
       "text": [
        " % progress\n",
        "87.8475565466"
       ]
      },
      {
       "output_type": "stream",
       "stream": "stdout",
       "text": [
        " % progress\n",
        "91.8392908231"
       ]
      },
      {
       "output_type": "stream",
       "stream": "stdout",
       "text": [
        " % progress\n",
        "95.8338253342"
       ]
      },
      {
       "output_type": "stream",
       "stream": "stdout",
       "text": [
        " % progress\n",
        "99.8241594935"
       ]
      },
      {
       "output_type": "stream",
       "stream": "stdout",
       "text": [
        " % progress\n"
       ]
      },
      {
       "output_type": "stream",
       "stream": "stdout",
       "text": [
        "\n",
        "Number of time points: 501\n"
       ]
      }
     ],
     "prompt_number": 2
    },
    {
     "cell_type": "code",
     "collapsed": false,
     "input": [
      "print (np.linspace(-6,6,16),) * 3\n",
      "print Xti[0,:,0]\n",
      "print sys_size_t"
     ],
     "language": "python",
     "metadata": {},
     "outputs": [
      {
       "output_type": "stream",
       "stream": "stdout",
       "text": [
        "(array([-6. , -5.2, -4.4, -3.6, -2.8, -2. , -1.2, -0.4,  0.4,  1.2,  2. ,\n",
        "        2.8,  3.6,  4.4,  5.2,  6. ]), array([-6. , -5.2, -4.4, -3.6, -2.8, -2. , -1.2, -0.4,  0.4,  1.2,  2. ,\n",
        "        2.8,  3.6,  4.4,  5.2,  6. ]), array([-6. , -5.2, -4.4, -3.6, -2.8, -2. , -1.2, -0.4,  0.4,  1.2,  2. ,\n",
        "        2.8,  3.6,  4.4,  5.2,  6. ]))\n",
        "[ 0.565  0.645  0.484 ...,  2.595  2.603  2.499]\n",
        "[ 3.47935  3.48688  3.47457  3.48688  3.48545  3.47166  3.48121  3.48994\n",
        "  3.48146  3.46547  3.47738  3.48706  3.4803   3.48041  3.49081  3.46748\n",
        "  3.47983  3.48029  3.47359  3.48141  3.4713   3.47657  3.4808   3.487\n",
        "  3.48043  3.47862  3.46824  3.47247  3.49153  3.48687  3.48224  3.48546\n",
        "  3.47994  3.48607  3.4764   3.48468  3.48005  3.47976  3.48423  3.47069\n",
        "  3.48216  3.48564  3.48996  3.48807  3.48535  3.48574  3.49004  3.47092\n",
        "  3.48656  3.5      3.49458  3.47435  3.49307  3.48852  3.48516  3.4901\n",
        "  3.47436  3.48744  3.4835   3.48213  3.49085  3.48785  3.48969  3.48098\n",
        "  3.48457  3.49069  3.48933  3.48848  3.48724  3.47655  3.47423  3.47714\n",
        "  3.48129  3.47839  3.48923  3.48672  3.47218  3.49274  3.48157  3.48091\n",
        "  3.45883  3.4734   3.47869  3.50315  3.4728   3.49387  3.47327  3.47671\n",
        "  3.49187  3.4874   3.48102  3.48197  3.4926   3.50521  3.49426  3.48934\n",
        "  3.48203  3.4763   3.47598  3.48165  3.49779  3.48722  3.47254  3.48146\n",
        "  3.49167  3.47253  3.47728  3.48476  3.46912  3.48512  3.47937  3.47604\n",
        "  3.47346  3.47267  3.47086  3.47251  3.48651  3.47866  3.49674  3.50902\n",
        "  3.49001  3.47469  3.47863  3.47694  3.48594  3.49156  3.47408  3.48249\n",
        "  3.48108  3.49003  3.49173  3.49028  3.48005  3.47648  3.48555  3.48231\n",
        "  3.49077  3.48209  3.47863  3.49077  3.48254  3.4969   3.48794  3.5009\n",
        "  3.47778  3.48711  3.48822  3.48539  3.48268  3.47621  3.48045  3.49583\n",
        "  3.49639  3.48704  3.49115  3.48125  3.47576  3.49972  3.4899   3.48915\n",
        "  3.48944  3.47989  3.48943  3.46783  3.47454  3.47885  3.49205  3.48163\n",
        "  3.47678  3.48868  3.47514  3.48358  3.47719  3.48486  3.48123  3.48101\n",
        "  3.49942  3.49825  3.46681  3.47041  3.48836  3.48607  3.48834  3.48997\n",
        "  3.48981  3.48796  3.48143  3.47998  3.48493  3.47419  3.47554  3.47522\n",
        "  3.4819   3.48574  3.47695  3.47554  3.48621  3.48426  3.47173  3.47808\n",
        "  3.47177  3.48691  3.48537  3.47751  3.47462  3.49483  3.4799   3.4715\n",
        "  3.46917  3.47539  3.49009  3.48525  3.48984  3.486    3.49763  3.4803\n",
        "  3.48612  3.4752   3.49621  3.49358  3.48635  3.48976  3.49299  3.47216\n",
        "  3.47802  3.48122  3.4959   3.49586  3.4995   3.48625  3.46892  3.48328\n",
        "  3.48882  3.48469  3.49787  3.48731  3.48616  3.48531  3.47724  3.48047\n",
        "  3.49613  3.48638  3.48676  3.48695  3.48187  3.47354  3.48301  3.47926\n",
        "  3.48907  3.48856  3.47827  3.48924  3.48773  3.47711  3.47648  3.47065\n",
        "  3.49584  3.49017  3.47845  3.49513  3.49361  3.48231  3.48709  3.4856\n",
        "  3.48567  3.48595  3.48119  3.48197  3.48148  3.49597  3.49397  3.49457\n",
        "  3.48508  3.4772   3.49642  3.47183  3.48469  3.49237  3.48746  3.49352\n",
        "  3.48759  3.50009  3.50576  3.47874  3.49238  3.475    3.48328  3.47296\n",
        "  3.49464  3.48594  3.50212  3.48405  3.48114  3.48169  3.48745  3.4905\n",
        "  3.50384  3.47172  3.4866   3.48737  3.48132  3.47115  3.48794  3.47999\n",
        "  3.48252  3.49039  3.50123  3.49503  3.47579  3.48192  3.48086  3.47998\n",
        "  3.48875  3.4868   3.48096  3.49612  3.48578  3.46729  3.47596  3.48239\n",
        "  3.47673  3.48541  3.49273  3.45876  3.47698  3.48655  3.48993  3.48797\n",
        "  3.49386  3.48304  3.47803  3.46729  3.46693  3.47457  3.47694  3.47709\n",
        "  3.48114  3.4784   3.50031  3.4914   3.4888   3.48296  3.4735   3.48587\n",
        "  3.48724  3.48762  3.48014  3.48472  3.49677  3.48488  3.48925  3.48123\n",
        "  3.48185  3.48464  3.49128  3.47495  3.49136  3.48557  3.48613  3.48388\n",
        "  3.50056  3.49292  3.48564  3.47519  3.49363  3.48479  3.48721  3.48329\n",
        "  3.47515  3.47907  3.49006  3.49979  3.48669  3.49507  3.49502  3.48783\n",
        "  3.47543  3.48909  3.49975  3.48221  3.48648  3.49054  3.4797   3.48283\n",
        "  3.47532  3.47881  3.47347  3.48243  3.47683  3.48723  3.48045  3.4716\n",
        "  3.49114  3.48265  3.4829   3.4799   3.47819  3.47568  3.48058  3.48718\n",
        "  3.47275  3.49487  3.47557  3.47811  3.4817   3.49064  3.48005  3.48033\n",
        "  3.47588  3.48278  3.48772  3.48527  3.48106  3.47512  3.48042  3.47725\n",
        "  3.48426  3.47678  3.4678   3.46985  3.47291  3.47579  3.50243  3.48261\n",
        "  3.484    3.47157  3.47742  3.46752  3.47442  3.47843  3.47964  3.48709\n",
        "  3.48253  3.48462  3.47611  3.4976   3.48495  3.47788  3.48356  3.47899\n",
        "  3.4741   3.4865   3.49053  3.48277  3.49375  3.4838   3.48107  3.48165\n",
        "  3.48892  3.48172  3.46751  3.47743  3.48925  3.46916  3.48953  3.48517\n",
        "  3.48664  3.48735  3.49772  3.48924  3.4875   3.47526  3.47387  3.48559\n",
        "  3.4986   3.49814  3.48499  3.48382  3.48238  3.48297  3.48365  3.46401\n",
        "  3.48763  3.47484  3.47049  3.4952   3.47962  3.48804  3.48564  3.48662\n",
        "  3.4793   3.46684  3.48128  3.48227  3.47846  3.49336  3.49182  3.47412\n",
        "  3.48499  3.48762  3.47995  3.49246  3.47672  3.48722  3.48567  3.47631\n",
        "  3.4973   3.49583  3.47749  3.48726  3.49351]\n"
       ]
      }
     ],
     "prompt_number": 200
    },
    {
     "cell_type": "code",
     "collapsed": false,
     "input": [
      "import matplotlib.pyplot as plt\n",
      "\n",
      "time_slice_index = 10\n",
      "\n",
      "N = 10\n",
      "system_len = sys_size_t[time_slice_index]\n",
      "print N\n",
      "\n",
      "x_hist_bins = np.linspace(0, system_len, N+1)  #np.linspace avoids floating point errors in binning\n",
      "print x_hist_bins\n",
      "x_col = Xti[0,:,0].copy()\n",
      "\n",
      "# Only one addition and one modulo is necessary because deviation outside of the computation box is very small;\n",
      "# This does not work when values are further than one system_len below zero\n",
      "x_col_clean = (x_col + system_len) % system_len\n",
      "\n",
      "x_hist,x_axis = np.histogram(x_col_clean, bins=x_hist_bins)\n",
      "\n",
      "print len(x_axis[0:N])\n",
      "print len(x_hist[0:N])\n",
      "print x_axis[0:N]\n",
      "#plt.plot(hist[1][0:my_end], hist[0][0:my_end])\n",
      "#plt.show()\n",
      "\n"
     ],
     "language": "python",
     "metadata": {},
     "outputs": [
      {
       "output_type": "stream",
       "stream": "stdout",
       "text": [
        "10\n",
        "[ 0.        0.347738  0.695476  1.043214  1.390952  1.73869   2.086428\n",
        "  2.434166  2.781904  3.129642  3.47738 ]\n",
        "10\n",
        "10\n",
        "[ 0.        0.347738  0.695476  1.043214  1.390952  1.73869   2.086428\n",
        "  2.434166  2.781904  3.129642]\n"
       ]
      }
     ],
     "prompt_number": 201
    },
    {
     "cell_type": "code",
     "collapsed": false,
     "input": [
      "# Density, delta-functions\n",
      "#-----------------------------------\n",
      "\n",
      "\n",
      "print \"Length of time slice 401: \", len(Xti[401,:,1])\n",
      "# Weights in amu\n",
      "weight_dict = {'OW': 15.9994, 'HW1': 1.008, 'HW2':1.008}\n",
      "weight_i = [weight_dict[t] for t in type_i]\n",
      "\n",
      "time_slice_index = 130\n",
      "system_len = sys_size_t[time_slice_index]\n",
      "N = 10\n",
      "\n",
      "V = system_len * system_len * system_len / N / N / N # Volume of one cell in nm^3\n",
      "histbins = ( np.linspace(0, system_len, N+1), ) * 3\n",
      "print histbins\n",
      "\n",
      "this_Xti_clean = Xti[time_slice_index].copy()\n",
      "this_Xti_clean = (this_Xti_clean + system_len) % system_len\n",
      "density_field,edges = np.histogramdd(this_Xti_clean, bins = histbins, weights = weight_i)\n",
      "density_field = density_field / V * 1.66054 #conversion for amu/nm^3 -> kg/m^3\n",
      "print \"DENSITY FIELD MEAN: \"\n",
      "print np.mean(density_field)\n",
      "print #density_field\n",
      "#print edges"
     ],
     "language": "python",
     "metadata": {},
     "outputs": [
      {
       "output_type": "stream",
       "stream": "stdout",
       "text": [
        "Length of time slice 401:  4230\n",
        "(array([ 0.      ,  0.349173,  0.698346,  1.047519,  1.396692,  1.745865,\n",
        "        2.095038,  2.444211,  2.793384,  3.142557,  3.49173 ]), array([ 0.      ,  0.349173,  0.698346,  1.047519,  1.396692,  1.745865,\n",
        "        2.095038,  2.444211,  2.793384,  3.142557,  3.49173 ]), array([ 0.      ,  0.349173,  0.698346,  1.047519,  1.396692,  1.745865,\n",
        "        2.095038,  2.444211,  2.793384,  3.142557,  3.49173 ]))\n",
        "DENSITY FIELD MEAN: \n",
        "990.810044685\n",
        "\n"
       ]
      }
     ],
     "prompt_number": 202
    },
    {
     "cell_type": "code",
     "collapsed": false,
     "input": [
      "# Density, erf-coarsened\n",
      "#-----------------------------------\n",
      "\n",
      "import math\n",
      "from operator import mul\n",
      "import itertools as itt\n",
      "import numpy as np\n",
      "import time\n",
      "\n",
      "def ErfContribution(dx, sigma, N):\n",
      "    \"\"\"\n",
      "    Solves for the distance to the closest periodic replica of x1 to x2. Integrates a gaussian of stdev sigma.\n",
      "    x1 and x2 are in reduced units, and N is the number of reduced units in the cubic system.\n",
      "    \"\"\"\n",
      "    dist_vec = [ ((x+N)%N) % (N/2) for x in dx]\n",
      "    my_erf = lambda x : 1 + math.erf(1/sigma - 1/sigma * x)\n",
      "    contribution = reduce( mul, [ my_erf(x) for x in dist_vec] ) / 8\n",
      "    return contribution\n",
      "\n",
      "def GaussianContribution(dx, sigma_sq, N):\n",
      "    \"\"\"\n",
      "    Solves for the distance to the closest periodic replica of x1 to x2. Computes a gaussian of stdev sigma.\n",
      "    x1 and x2 are in reduced units, and N is the number of reduced units in the cubic system.\n",
      "    \"\"\"\n",
      "    dist_v = [ ((x+N)%N) % (N/2) for x in dx]\n",
      "    dist_scaled = sum([x*x for x in dist_v]) / sigma_sq\n",
      "    return math.exp(-dist_scaled)\n",
      "\n",
      "\n",
      "print ErfContribution([0,0,0], .2, 10)\n",
      "print ErfContribution([1,0,0], .2, 10)\n",
      "print ErfContribution([1,1,0], .2, 10)\n",
      "print GaussianContribution([1,0,0],.2,10)\n",
      "print GaussianContribution([.5,0,0],.2,10)\n"
     ],
     "language": "python",
     "metadata": {},
     "outputs": [
      {
       "output_type": "stream",
       "stream": "stdout",
       "text": [
        "0.999999999998\n",
        "0.499999999999\n",
        "0.25\n",
        "0.00673794699909\n",
        "0.28650479686\n"
       ]
      }
     ],
     "prompt_number": 33
    },
    {
     "cell_type": "code",
     "collapsed": false,
     "input": [
      "# Density, erf-coarsened\n",
      "#-----------------------------------\n",
      "\n",
      "\n",
      "print \"Length of time slice 401: \", len(Xti[401,:,1])\n",
      "# Weights in amu\n",
      "weight_dict = {'OW': 15.9994, 'HW1': 1.008, 'HW2':1.008}\n",
      "weight_i = [weight_dict[t] for t in type_i]\n",
      "\n",
      "import math\n",
      "from operator import mul\n",
      "import itertools as itt\n",
      "import numpy as np\n",
      "import time\n",
      "\n",
      "\n",
      "def XToDensity(time_slice, system_len, N):\n",
      "    density_field = np.zeros((N,N,N))\n",
      "    weight_dict = {'OW': 15.9994, 'HW1': 1.008, 'HW2':1.008} #amu\n",
      "    size_dict = {'OW': .3 * N /system_len, 'HW1': .1 * N /system_len, 'HW2': .1 * N /system_len} #angstroms\n",
      "    weight_i = [weight_dict[t] for t in type_i]\n",
      "    size_i = [size_dict[t] for t in type_i]\n",
      "    size_sq_i = [size_dict[t] * size_dict[t] for t in type_i]\n",
      "    \n",
      "    this_Xti_clean = time_slice\n",
      "    this_Xti_clean = ((this_Xti_clean + system_len) %system_len) /system_len *N  # In reduced units\n",
      "    \n",
      "    den_iter = np.nditer(density_field, flags=['multi_index'], op_flags=['writeonly'])\n",
      "    count = 0\n",
      "    clock_0 = time.clock()\n",
      "    last = 0\n",
      "    while not den_iter.finished:\n",
      "        count = count + 1\n",
      "        if int(time.clock() - clock_0) / 3 > last:\n",
      "            print time.clock() - clock_0, \":\", \"{0:.2f} %\".format(float(count) / float(density_field.size) * 100)\n",
      "            last = int(time.clock() - clock_0) / 3\n",
      "        neg_pos1 = [-x for x in den_iter.multi_index]\n",
      "        \n",
      "        # Map the particle iterator & the weights to a single iterator via imap and lambda.\n",
      "        gauss_lambda = lambda particle, size, weight: ErfContribution( map(sum, zip(neg_pos1, particle)),  size, N) * weight\n",
      "        den_iter[0] = sum( itt.imap( gauss_lambda, this_Xti_clean, size_i, weight_i ) )\n",
      "        den_iter.iternext()\n",
      "        \n",
      "    return density_field\n",
      "\n",
      "\n",
      "\n",
      "time_slice_index = 130\n",
      "system_len = sys_size_t[time_slice_index]\n",
      "N = 10\n",
      "\n",
      "this_Xti_clean = Xti[time_slice_index].copy()\n",
      "this_Xti_clean = (this_Xti_clean + system_len) % system_len\n",
      "density_field = XToDensity(this_Xti_clean, system_len, 10)\n",
      "\n",
      "V = system_len * system_len * system_len / N / N / N\n",
      "\n",
      "density_field = density_field / V * 1.66054 #conversion for amu/nm^3 -> kg/m^3\n",
      "print \"DENSITY FIELD MEAN: \"\n",
      "print np.mean(density_field)\n",
      "print #density_field\n"
     ],
     "language": "python",
     "metadata": {},
     "outputs": [
      {
       "output_type": "stream",
       "stream": "stdout",
       "text": [
        " Length of time slice 401:  4230\n",
        "3.11"
       ]
      },
      {
       "output_type": "stream",
       "stream": "stdout",
       "text": [
        " : 2.70 %\n",
        "6.02"
       ]
      },
      {
       "output_type": "stream",
       "stream": "stdout",
       "text": [
        " : 5.10 %\n",
        "9.03"
       ]
      },
      {
       "output_type": "stream",
       "stream": "stdout",
       "text": [
        " : 7.60 %\n",
        "12.03"
       ]
      },
      {
       "output_type": "stream",
       "stream": "stdout",
       "text": [
        " : 10.10 %\n",
        "15.09"
       ]
      },
      {
       "output_type": "stream",
       "stream": "stdout",
       "text": [
        " : 12.60 %\n",
        "18.09"
       ]
      },
      {
       "output_type": "stream",
       "stream": "stdout",
       "text": [
        " : 15.10 %\n",
        "21.02"
       ]
      },
      {
       "output_type": "stream",
       "stream": "stdout",
       "text": [
        " : 17.50 %\n",
        "24.0"
       ]
      },
      {
       "output_type": "stream",
       "stream": "stdout",
       "text": [
        " : 20.00 %\n",
        "27.09"
       ]
      },
      {
       "output_type": "stream",
       "stream": "stdout",
       "text": [
        " : 22.60 %\n",
        "30.1"
       ]
      },
      {
       "output_type": "stream",
       "stream": "stdout",
       "text": [
        " : 25.10 %\n",
        "33.07"
       ]
      },
      {
       "output_type": "stream",
       "stream": "stdout",
       "text": [
        " : 27.60 %\n",
        "36.03"
       ]
      },
      {
       "output_type": "stream",
       "stream": "stdout",
       "text": [
        " : 30.10 %\n",
        "39.07"
       ]
      },
      {
       "output_type": "stream",
       "stream": "stdout",
       "text": [
        " : 32.60 %\n",
        "42.06"
       ]
      },
      {
       "output_type": "stream",
       "stream": "stdout",
       "text": [
        " : 35.10 %\n",
        "45.11"
       ]
      },
      {
       "output_type": "stream",
       "stream": "stdout",
       "text": [
        " : 37.60 %\n",
        "48.12"
       ]
      },
      {
       "output_type": "stream",
       "stream": "stdout",
       "text": [
        " : 40.10 %\n",
        "51.0"
       ]
      },
      {
       "output_type": "stream",
       "stream": "stdout",
       "text": [
        " : 42.50 %\n",
        "54.11"
       ]
      },
      {
       "output_type": "stream",
       "stream": "stdout",
       "text": [
        " : 45.10 %\n",
        "57.04"
       ]
      },
      {
       "output_type": "stream",
       "stream": "stdout",
       "text": [
        " : 47.50 %\n",
        "60.04"
       ]
      },
      {
       "output_type": "stream",
       "stream": "stdout",
       "text": [
        " : 50.00 %\n",
        "63.0"
       ]
      },
      {
       "output_type": "stream",
       "stream": "stdout",
       "text": [
        " : 52.40 %\n",
        "66.05"
       ]
      },
      {
       "output_type": "stream",
       "stream": "stdout",
       "text": [
        " : 54.90 %\n",
        "69.08"
       ]
      },
      {
       "output_type": "stream",
       "stream": "stdout",
       "text": [
        " : 57.40 %\n",
        "72.06"
       ]
      },
      {
       "output_type": "stream",
       "stream": "stdout",
       "text": [
        " : 59.90 %\n",
        "75.08"
       ]
      },
      {
       "output_type": "stream",
       "stream": "stdout",
       "text": [
        " : 62.40 %\n",
        "78.04"
       ]
      },
      {
       "output_type": "stream",
       "stream": "stdout",
       "text": [
        " : 64.80 %\n",
        "81.03"
       ]
      },
      {
       "output_type": "stream",
       "stream": "stdout",
       "text": [
        " : 67.20 %\n",
        "84.04"
       ]
      },
      {
       "output_type": "stream",
       "stream": "stdout",
       "text": [
        " : 69.70 %\n",
        "87.06"
       ]
      },
      {
       "output_type": "stream",
       "stream": "stdout",
       "text": [
        " : 72.20 %\n",
        "90.08"
       ]
      },
      {
       "output_type": "stream",
       "stream": "stdout",
       "text": [
        " : 74.70 %\n",
        "93.07"
       ]
      },
      {
       "output_type": "stream",
       "stream": "stdout",
       "text": [
        " : 77.20 %\n",
        "96.08"
       ]
      },
      {
       "output_type": "stream",
       "stream": "stdout",
       "text": [
        " : 79.70 %\n",
        "99.07"
       ]
      },
      {
       "output_type": "stream",
       "stream": "stdout",
       "text": [
        " : 82.20 %\n",
        "102.09"
       ]
      },
      {
       "output_type": "stream",
       "stream": "stdout",
       "text": [
        " : 84.70 %\n",
        "105.06"
       ]
      },
      {
       "output_type": "stream",
       "stream": "stdout",
       "text": [
        " : 87.10 %\n",
        "108.05"
       ]
      },
      {
       "output_type": "stream",
       "stream": "stdout",
       "text": [
        " : 89.60 %\n",
        "111.09"
       ]
      },
      {
       "output_type": "stream",
       "stream": "stdout",
       "text": [
        " : 92.00 %\n",
        "114.05"
       ]
      },
      {
       "output_type": "stream",
       "stream": "stdout",
       "text": [
        " : 94.40 %\n",
        "117.05"
       ]
      },
      {
       "output_type": "stream",
       "stream": "stdout",
       "text": [
        " : 96.90 %\n",
        "120.06"
       ]
      },
      {
       "output_type": "stream",
       "stream": "stdout",
       "text": [
        " : 99.40 %\n",
        "DENSITY FIELD MEAN: "
       ]
      },
      {
       "output_type": "stream",
       "stream": "stdout",
       "text": [
        "\n",
        "8.20664188123\n",
        "\n"
       ]
      }
     ],
     "prompt_number": 21
    },
    {
     "cell_type": "code",
     "collapsed": false,
     "input": [
      "# Scatter plot of atoms, \"VMD\" style\n",
      "#---------------------------------------------\n",
      "#from mpl_toolkits.mplot3d import Axes3D\n",
      "#import math\n",
      "#\n",
      "#fig = plt.figure()\n",
      "#ax = fig.add_subplot(111, projection='3d')\n",
      "#\n",
      "#print len(Xti[100,:,0])\n",
      "#print len(weight_i)\n",
      "#scatter_size = np.array([14 * math.sqrt(x) for x in weight_i])\n",
      "\n",
      "#color_dict = {'OW':'r', 'HW1':'k', 'HW2':'k'}\n",
      "#scatter_color = [color_dict[x] for x in type_i]\n",
      "\n",
      "#ax.scatter(Xti[100,:,0], Xti[100,:,1], Xti[100,:,2], s=scatter_size, c=scatter_color)\n",
      "\n",
      "\n",
      "#ax.set_xlabel('X Label')\n",
      "#ax.set_ylabel('Y Label')\n",
      "#ax.set_zlabel('Z Label')\n",
      "\n",
      "#plt.show()"
     ],
     "language": "python",
     "metadata": {},
     "outputs": [
      {
       "output_type": "stream",
       "stream": "stdout",
       "text": [
        "4230\n",
        "4230\n"
       ]
      }
     ],
     "prompt_number": 104
    },
    {
     "cell_type": "code",
     "collapsed": false,
     "input": [
      "# Correlation v1\n",
      "#---------------------\n",
      "\n",
      "import random\n",
      "import copy\n",
      "\n",
      "t0 = time.clock()\n",
      "\n",
      "N = 10\n",
      "density_field = np.array(density_field)\n",
      "Corr = np.ndarray(shape=(N*N*N))\n",
      "\n",
      "density_field.shape = (N*N*N)\n",
      "\n",
      "# Resize operation test\n",
      "#--------------------------\n",
      "#density_field.shape = (N,N,N)\n",
      "#density_field_copy = copy.deepcopy(density_field)\n",
      "#density_field.shape = (N*N*N)\n",
      "#print density_field_copy.shape\n",
      "\n",
      "#for repeat_count in xrange(100):\n",
      "#    rx = random.randint(0,N-1)\n",
      "#    ry = random.randint(0,N-1)\n",
      "#    rz = random.randint(0,N-1)\n",
      "#    \n",
      "#    val_before = density_field_copy[rx, ry, rz]\n",
      "#    val_after = density_field[rx*N*N + ry*N + rz]\n",
      "#    assert val_before == val_after\n",
      "#print \"Test passed: resize operation works as expected.\"\n",
      "\n",
      "\n",
      "for dx in xrange(N*N*N):\n",
      "    for x in xrange(N*N*N):\n",
      "        xcopy = x\n",
      "        dxcopy = dx\n",
      "        \n",
      "        pd_index = 0\n",
      "        factor = 1\n",
      "        \n",
      "        # Add the lowest index to pd_index first\n",
      "        pd_index = pd_index + (dxcopy % N + xcopy % N) % N * factor\n",
      "        \n",
      "        for i in xrange(2):\n",
      "            factor = factor * N\n",
      "            xcopy = xcopy / N\n",
      "            dxcopy = dxcopy / N\n",
      "            pd_index = pd_index + (dxcopy % N + xcopy % N) % N * factor\n",
      "                \n",
      "        Corr[dx] = Corr[dx] + density_field[x] * density_field[pd_index]\n",
      "    Corr[dx] = Corr[dx] / float(N*N*N)\n",
      "Corr = Corr / Corr[0]\n",
      "\n",
      "#print \"Corr size:\", Corr.size\n",
      "#print N*N*N\n",
      "Corr.shape = (N,N,N)\n",
      "density_field.shape = (N,N,N)\n",
      "#print Corr\n",
      "\n",
      "print \"Time taken: \", time.clock() - t0"
     ],
     "language": "python",
     "metadata": {},
     "outputs": [
      {
       "output_type": "stream",
       "stream": "stdout",
       "text": [
        "Time taken:  3.77\n"
       ]
      }
     ],
     "prompt_number": 246
    },
    {
     "cell_type": "code",
     "collapsed": false,
     "input": [],
     "language": "python",
     "metadata": {},
     "outputs": []
    },
    {
     "cell_type": "code",
     "collapsed": false,
     "input": [
      "# Correlation v1.1\n",
      "#--------------------------------\n",
      "import random\n",
      "import copy\n",
      "import itertools as itt\n",
      "\n",
      "def PdShiftD(x,y,N,D):\n",
      "    pd_index = 0\n",
      "    factor = 1\n",
      "    pd_index = pd_index + (x%N + y%N) % N * factor\n",
      "    for i in xrange(D-1):\n",
      "        x = x / N\n",
      "        y = y / N\n",
      "        factor = factor * N\n",
      "        pd_index = pd_index + (x%N + y%N) % N * factor\n",
      "    return pd_index\n",
      "\n",
      "t0 = time.clock()\n",
      "N = 10\n",
      "\n",
      "Corr = np.ndarray(shape=(N*N*N))\n",
      "density_field.shape = (N*N*N)\n",
      "\n",
      "for dx in xrange(N*N*N):\n",
      "    ShiftProdDen = lambda x: density_field[x] * density_field[ PdShiftD(x, dx, N, 3) ]\n",
      "    Corr[dx] = sum( itt.imap(ShiftProdDen, xrange(N*N*N)) )\n",
      "    Corr[dx] = Corr[dx] / float(N*N*N)\n",
      "Corr = Corr / Corr[0]\n",
      "\n",
      "#print \"Corr size:\", Corr.size\n",
      "#print N*N*N\n",
      "Corr.shape = (N,N,N)\n",
      "density_field.shape = (N,N,N)\n",
      "#print Corr\n",
      "\n",
      "print \"Time taken: \", time.clock() - t0"
     ],
     "language": "python",
     "metadata": {},
     "outputs": [
      {
       "output_type": "stream",
       "stream": "stdout",
       "text": [
        "Time taken:  2.78\n"
       ]
      }
     ],
     "prompt_number": 297
    },
    {
     "cell_type": "code",
     "collapsed": false,
     "input": [
      "# Correlation v2\n",
      "#---------------------\n",
      "import time\n",
      "import itertools as itt\n",
      "\n",
      "t0 = time.clock()\n",
      "\n",
      "N = 10\n",
      "ModN = lambda x: x % N\n",
      "    \n",
      "Corr2 = np.zeros( (N,N,N) )\n",
      "Corr_it = np.nditer(Corr2, flags=['multi_index'], op_flags=['writeonly'])\n",
      "\n",
      "first = True\n",
      "\n",
      "index_mtx = np.zeros( (N,N,N) )\n",
      "index_itr = np.nditer( index_mtx, flags=['multi_index'], op_flags=['writeonly'])\n",
      "\n",
      "\n",
      "while not Corr_it.finished:\n",
      "    den_it = np.nditer(density_field, flags=['multi_index'], op_flags=['readonly'])\n",
      "    ShiftProdDen = lambda itr: density_field[itr.multi_index]\n",
      "    sum_it = itt.imap( ShiftProdDen, den_it )\n",
      "    Corr_it[0] = sum(sum_it)\n",
      "    #while not sum_it.finished:\n",
      "    #    #shift_ind = tuple(map(ModN, map(sum,zip(sum_it.multi_index, Corr_it.multi_index))))\n",
      "    #    Corr_it[0] = Corr_it[0] + ( sum_it[0] * density_field[Corr_it.multi_index])\n",
      "    #    sum_it.iternext()\n",
      "    if first:\n",
      "        first = False\n",
      "    else:\n",
      "        Corr_it[0] = Corr_it[0]/Corr2[0,0,0]\n",
      "    Corr_it.iternext()\n",
      "\n",
      "#Corr2[0] = 1\n",
      "\n",
      "#print \"Time taken: \", time.clock() - t0\n"
     ],
     "language": "python",
     "metadata": {},
     "outputs": [
      {
       "ename": "AttributeError",
       "evalue": "'numpy.ndarray' object has no attribute 'multi_index'",
       "output_type": "pyerr",
       "traceback": [
        "\u001b[1;31m---------------------------------------------------------------------------\u001b[0m\n\u001b[1;31mAttributeError\u001b[0m                            Traceback (most recent call last)",
        "\u001b[1;32m<ipython-input-278-3b2e2c771525>\u001b[0m in \u001b[0;36m<module>\u001b[1;34m()\u001b[0m\n\u001b[0;32m     22\u001b[0m     \u001b[0mShiftProdDen\u001b[0m \u001b[1;33m=\u001b[0m \u001b[1;32mlambda\u001b[0m \u001b[0mitr\u001b[0m\u001b[1;33m:\u001b[0m \u001b[0mdensity_field\u001b[0m\u001b[1;33m[\u001b[0m\u001b[0mitr\u001b[0m\u001b[1;33m.\u001b[0m\u001b[0mmulti_index\u001b[0m\u001b[1;33m]\u001b[0m\u001b[1;33m\u001b[0m\u001b[0m\n\u001b[0;32m     23\u001b[0m     \u001b[0msum_it\u001b[0m \u001b[1;33m=\u001b[0m \u001b[0mitt\u001b[0m\u001b[1;33m.\u001b[0m\u001b[0mimap\u001b[0m\u001b[1;33m(\u001b[0m \u001b[0mShiftProdDen\u001b[0m\u001b[1;33m,\u001b[0m \u001b[0mden_it\u001b[0m \u001b[1;33m)\u001b[0m\u001b[1;33m\u001b[0m\u001b[0m\n\u001b[1;32m---> 24\u001b[1;33m     \u001b[0mCorr_it\u001b[0m\u001b[1;33m[\u001b[0m\u001b[1;36m0\u001b[0m\u001b[1;33m]\u001b[0m \u001b[1;33m=\u001b[0m \u001b[0msum\u001b[0m\u001b[1;33m(\u001b[0m\u001b[0msum_it\u001b[0m\u001b[1;33m)\u001b[0m\u001b[1;33m\u001b[0m\u001b[0m\n\u001b[0m\u001b[0;32m     25\u001b[0m     \u001b[1;31m#while not sum_it.finished:\u001b[0m\u001b[1;33m\u001b[0m\u001b[1;33m\u001b[0m\u001b[0m\n\u001b[0;32m     26\u001b[0m     \u001b[1;31m#    #shift_ind = tuple(map(ModN, map(sum,zip(sum_it.multi_index, Corr_it.multi_index))))\u001b[0m\u001b[1;33m\u001b[0m\u001b[1;33m\u001b[0m\u001b[0m\n",
        "\u001b[1;32m<ipython-input-278-3b2e2c771525>\u001b[0m in \u001b[0;36m<lambda>\u001b[1;34m(itr)\u001b[0m\n\u001b[0;32m     20\u001b[0m \u001b[1;32mwhile\u001b[0m \u001b[1;32mnot\u001b[0m \u001b[0mCorr_it\u001b[0m\u001b[1;33m.\u001b[0m\u001b[0mfinished\u001b[0m\u001b[1;33m:\u001b[0m\u001b[1;33m\u001b[0m\u001b[0m\n\u001b[0;32m     21\u001b[0m     \u001b[0mden_it\u001b[0m \u001b[1;33m=\u001b[0m \u001b[0mnp\u001b[0m\u001b[1;33m.\u001b[0m\u001b[0mnditer\u001b[0m\u001b[1;33m(\u001b[0m\u001b[0mdensity_field\u001b[0m\u001b[1;33m,\u001b[0m \u001b[0mflags\u001b[0m\u001b[1;33m=\u001b[0m\u001b[1;33m[\u001b[0m\u001b[1;34m'multi_index'\u001b[0m\u001b[1;33m]\u001b[0m\u001b[1;33m,\u001b[0m \u001b[0mop_flags\u001b[0m\u001b[1;33m=\u001b[0m\u001b[1;33m[\u001b[0m\u001b[1;34m'readonly'\u001b[0m\u001b[1;33m]\u001b[0m\u001b[1;33m)\u001b[0m\u001b[1;33m\u001b[0m\u001b[0m\n\u001b[1;32m---> 22\u001b[1;33m     \u001b[0mShiftProdDen\u001b[0m \u001b[1;33m=\u001b[0m \u001b[1;32mlambda\u001b[0m \u001b[0mitr\u001b[0m\u001b[1;33m:\u001b[0m \u001b[0mdensity_field\u001b[0m\u001b[1;33m[\u001b[0m\u001b[0mitr\u001b[0m\u001b[1;33m.\u001b[0m\u001b[0mmulti_index\u001b[0m\u001b[1;33m]\u001b[0m\u001b[1;33m\u001b[0m\u001b[0m\n\u001b[0m\u001b[0;32m     23\u001b[0m     \u001b[0msum_it\u001b[0m \u001b[1;33m=\u001b[0m \u001b[0mitt\u001b[0m\u001b[1;33m.\u001b[0m\u001b[0mimap\u001b[0m\u001b[1;33m(\u001b[0m \u001b[0mShiftProdDen\u001b[0m\u001b[1;33m,\u001b[0m \u001b[0mden_it\u001b[0m \u001b[1;33m)\u001b[0m\u001b[1;33m\u001b[0m\u001b[0m\n\u001b[0;32m     24\u001b[0m     \u001b[0mCorr_it\u001b[0m\u001b[1;33m[\u001b[0m\u001b[1;36m0\u001b[0m\u001b[1;33m]\u001b[0m \u001b[1;33m=\u001b[0m \u001b[0msum\u001b[0m\u001b[1;33m(\u001b[0m\u001b[0msum_it\u001b[0m\u001b[1;33m)\u001b[0m\u001b[1;33m\u001b[0m\u001b[0m\n",
        "\u001b[1;31mAttributeError\u001b[0m: 'numpy.ndarray' object has no attribute 'multi_index'"
       ]
      }
     ],
     "prompt_number": 278
    },
    {
     "cell_type": "code",
     "collapsed": false,
     "input": [
      "\n",
      "\n",
      "test_it = itt.cycle( np.nditer(density_field, flags=['multi_index']) )\n",
      "\n",
      "print density_field[0,0,0]\n",
      "print test_it.next()\n",
      "\n",
      "\n",
      "#it1 = np.nditer(Corr, order = 'F')\n",
      "#it2 = np.nditer(Corr2, order = 'F')\n",
      "\n",
      "#print Corr.size\n",
      "#print Corr2.size\n",
      "\n",
      "\n",
      "#while not it1.finished and not it2.finished:\n",
      "#    it1.iternext()\n",
      "#    it2.iternext()\n",
      "#    print it1[0], it2[0]\n",
      "#    assert it1[0] == it2[0]"
     ],
     "language": "python",
     "metadata": {},
     "outputs": [
      {
       "output_type": "stream",
       "stream": "stdout",
       "text": [
        "78.635364924\n",
        "78.635364924\n"
       ]
      }
     ],
     "prompt_number": 266
    },
    {
     "cell_type": "code",
     "collapsed": false,
     "input": [
      "# Method creating a shifted iterable in 2D (Does not quite work)\n",
      "#----------------------------------------------\n",
      "import itertools as it\n",
      "\n",
      "base_array = np.array([[1,2,3],[4,5,6],[7,8,9]])\n",
      "\n",
      "dx = 0\n",
      "dy = 2\n",
      "\n",
      "my_new_it = it.islice(it.cycle(base_array), dx, len(base_array) + dx)\n",
      "\n",
      "for term in my_new_it:\n",
      "    print \"PRE: \",\n",
      "    for y in term:\n",
      "        print y,\n",
      "    print \n",
      "    \n",
      "    term = it.islice(it.cycle(term), dy, len(term) + dy)\n",
      "\n",
      "    print \"POST: \",\n",
      "    for y in term:\n",
      "        print y,\n",
      "    print\n",
      "\n",
      "for term1 in my_new_it:\n",
      "    \n",
      "    for term2 in my_new_it:\n",
      "        print term2,\n",
      "    print \"Hi\""
     ],
     "language": "python",
     "metadata": {},
     "outputs": [
      {
       "output_type": "stream",
       "stream": "stdout",
       "text": [
        "PRE:  1 2 3\n",
        "POST:  3 1 2\n",
        "PRE:  4 5 6\n",
        "POST:  6 4 5\n",
        "PRE:  7 8 9\n",
        "POST:  9 7 8\n"
       ]
      }
     ],
     "prompt_number": 138
    },
    {
     "cell_type": "code",
     "collapsed": false,
     "input": [],
     "language": "python",
     "metadata": {},
     "outputs": []
    }
   ],
   "metadata": {}
  }
 ]
}