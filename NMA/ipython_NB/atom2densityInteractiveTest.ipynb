{
 "metadata": {
  "name": "atom2densityInteractiveTest"
 },
 "nbformat": 3,
 "nbformat_minor": 0,
 "worksheets": [
  {
   "cells": [
    {
     "cell_type": "code",
     "collapsed": false,
     "input": [
      "import sys\n",
      "\n",
      "sys.path.append('..')\n",
      "\n",
      "print sys.path\n",
      "from atom2density import *\n",
      "print dir()"
     ],
     "language": "python",
     "metadata": {},
     "outputs": [
      {
       "output_type": "stream",
       "stream": "stdout",
       "text": [
        "['', '/usr/local/lib/python2.7/dist-packages/msmbuilder-2.6.0-py2.7-linux-x86_64.egg', '/usr/local/lib/python2.7/dist-packages/fastcluster-1.1.11-py2.7-linux-x86_64.egg', '/usr/local/lib/python2.7/dist-packages', '/usr/lib/pymodules/python2.7', '/usr/local/lib/python2.7/dist-packages/ProDy-1.4.5-py2.7-linux-x86_64.egg', '/home/jhaberstroh/Code/mypytools', '/home/jhaberstroh/.pythonbrew/lib', '/usr/lib/python2.7', '/usr/lib/python2.7/plat-linux2', '/usr/lib/python2.7/lib-tk', '/usr/lib/python2.7/lib-old', '/usr/lib/python2.7/lib-dynload', '/usr/local/lib/python2.7/dist-packages', '/usr/lib/python2.7/dist-packages', '/usr/lib/python2.7/dist-packages/PIL', '/usr/lib/python2.7/dist-packages/gst-0.10', '/usr/lib/python2.7/dist-packages/gtk-2.0', '/usr/lib/python2.7/dist-packages/ubuntu-sso-client', '/usr/local/lib/python2.7/dist-packages/IPython/extensions', '..']\n",
        "['In', 'Out', '_', '__', '___', '__builtin__', '__builtins__', '__name__', '__package__', '_dh', '_i', '_i1', '_i2', '_ih', '_ii', '_iii', '_oh', '_sh', 'atomToDeltaDensity', 'atomToDensity', 'densityToCorr', 'erfContribution', 'exit', 'gaussianContribution', 'get_ipython', 'help', 'itt', 'loadAtomFromFile', 'loadOneAtomTimeFromFile', 'math', 'mul', 'np', 'os', 'pdShiftD', 'printFileInfo', 'quit', 're', 'sys', 'time']\n"
       ]
      }
     ],
     "prompt_number": 2
    },
    {
     "cell_type": "code",
     "collapsed": false,
     "input": [
      "from atom2density import *\n",
      "\n",
      "time_index = 200\n",
      "N = 10\n",
      "Xi, Vi, system_size, type_i = loadOneAtomTimeFromFile(time_index, '../data/ProductionMD/md_traj.gro')\n",
      "density = atomToDensityErf(Xi, system_size, N, type_i)\n",
      "corr    = densityToCorr(density, N)\n"
     ],
     "language": "python",
     "metadata": {},
     "outputs": [
      {
       "output_type": "stream",
       "stream": "stdout",
       "text": [
        "Loading a single Xi, Vi, type_i, into memory, using timeslice 200..."
       ]
      },
      {
       "output_type": "stream",
       "stream": "stdout",
       "text": [
        " Time slice loaded.\n",
        "\tComputing density field..."
       ]
      },
      {
       "output_type": "stream",
       "stream": "stdout",
       "text": [
        " t = 3.03 s : 2.40 %\n",
        "t ="
       ]
      },
      {
       "output_type": "stream",
       "stream": "stdout",
       "text": [
        " 6.09 s : 4.80 %\n",
        "t ="
       ]
      },
      {
       "output_type": "stream",
       "stream": "stdout",
       "text": [
        " 9.05 s : 7.10 %\n",
        "t ="
       ]
      },
      {
       "output_type": "stream",
       "stream": "stdout",
       "text": [
        " 12.06 s : 9.40 %\n",
        "t ="
       ]
      },
      {
       "output_type": "stream",
       "stream": "stdout",
       "text": [
        " 15.05 s : 11.70 %\n",
        "t ="
       ]
      },
      {
       "output_type": "stream",
       "stream": "stdout",
       "text": [
        " 18.04 s : 14.00 %\n",
        "t ="
       ]
      },
      {
       "output_type": "stream",
       "stream": "stdout",
       "text": [
        " 21.02 s : 16.30 %\n",
        "t ="
       ]
      },
      {
       "output_type": "stream",
       "stream": "stdout",
       "text": [
        " 24.0 s : 18.60 %\n",
        "t ="
       ]
      },
      {
       "output_type": "stream",
       "stream": "stdout",
       "text": [
        " 27.1 s : 21.00 %\n",
        "t ="
       ]
      },
      {
       "output_type": "stream",
       "stream": "stdout",
       "text": [
        " 30.08 s : 23.30 %\n",
        "t ="
       ]
      },
      {
       "output_type": "stream",
       "stream": "stdout",
       "text": [
        " 33.06 s : 25.60 %\n",
        "t ="
       ]
      },
      {
       "output_type": "stream",
       "stream": "stdout",
       "text": [
        " 36.07 s : 27.90 %\n",
        "t ="
       ]
      },
      {
       "output_type": "stream",
       "stream": "stdout",
       "text": [
        " 39.09 s : 30.20 %\n",
        "t ="
       ]
      },
      {
       "output_type": "stream",
       "stream": "stdout",
       "text": [
        " 42.09 s : 32.50 %\n",
        "t ="
       ]
      },
      {
       "output_type": "stream",
       "stream": "stdout",
       "text": [
        " 45.02 s : 34.70 %\n",
        "t ="
       ]
      },
      {
       "output_type": "stream",
       "stream": "stdout",
       "text": [
        " 48.11 s : 37.00 %\n",
        "t ="
       ]
      },
      {
       "output_type": "stream",
       "stream": "stdout",
       "text": [
        " 51.02 s : 39.20 %\n",
        "t ="
       ]
      },
      {
       "output_type": "stream",
       "stream": "stdout",
       "text": [
        " 54.0 s : 41.50 %\n",
        "t ="
       ]
      },
      {
       "output_type": "stream",
       "stream": "stdout",
       "text": [
        " 57.12 s : 43.90 %\n",
        "t ="
       ]
      },
      {
       "output_type": "stream",
       "stream": "stdout",
       "text": [
        " 60.1 s : 46.10 %\n",
        "t ="
       ]
      },
      {
       "output_type": "stream",
       "stream": "stdout",
       "text": [
        " 63.03 s : 48.30 %\n",
        "t ="
       ]
      },
      {
       "output_type": "stream",
       "stream": "stdout",
       "text": [
        " 66.04 s : 50.60 %\n",
        "t ="
       ]
      },
      {
       "output_type": "stream",
       "stream": "stdout",
       "text": [
        " 69.11 s : 53.00 %\n",
        "t ="
       ]
      },
      {
       "output_type": "stream",
       "stream": "stdout",
       "text": [
        " 72.06 s : 55.30 %\n",
        "t ="
       ]
      },
      {
       "output_type": "stream",
       "stream": "stdout",
       "text": [
        " 75.03 s : 57.60 %\n",
        "t ="
       ]
      },
      {
       "output_type": "stream",
       "stream": "stdout",
       "text": [
        " 78.12 s : 60.00 %\n",
        "t ="
       ]
      },
      {
       "output_type": "stream",
       "stream": "stdout",
       "text": [
        " 81.08 s : 62.30 %\n",
        "t ="
       ]
      },
      {
       "output_type": "stream",
       "stream": "stdout",
       "text": [
        " 84.03 s : 64.60 %\n",
        "t ="
       ]
      },
      {
       "output_type": "stream",
       "stream": "stdout",
       "text": [
        " 87.04 s : 66.90 %\n",
        "t ="
       ]
      },
      {
       "output_type": "stream",
       "stream": "stdout",
       "text": [
        " 90.04 s : 69.20 %\n",
        "t ="
       ]
      },
      {
       "output_type": "stream",
       "stream": "stdout",
       "text": [
        " 93.06 s : 71.40 %\n",
        "t ="
       ]
      },
      {
       "output_type": "stream",
       "stream": "stdout",
       "text": [
        " 96.06 s : 73.70 %\n",
        "t ="
       ]
      },
      {
       "output_type": "stream",
       "stream": "stdout",
       "text": [
        " 99.11 s : 76.00 %\n",
        "t ="
       ]
      },
      {
       "output_type": "stream",
       "stream": "stdout",
       "text": [
        " 102.14 s : 78.30 %\n",
        "t ="
       ]
      },
      {
       "output_type": "stream",
       "stream": "stdout",
       "text": [
        " 105.09 s : 80.50 %\n",
        "t ="
       ]
      },
      {
       "output_type": "stream",
       "stream": "stdout",
       "text": [
        " 108.11 s : 82.80 %\n",
        "t ="
       ]
      },
      {
       "output_type": "stream",
       "stream": "stdout",
       "text": [
        " 111.14 s : 85.10 %\n",
        "t ="
       ]
      },
      {
       "output_type": "stream",
       "stream": "stdout",
       "text": [
        " 114.0 s : 87.30 %\n",
        "t ="
       ]
      },
      {
       "output_type": "stream",
       "stream": "stdout",
       "text": [
        " 117.02 s : 89.60 %\n",
        "t ="
       ]
      },
      {
       "output_type": "stream",
       "stream": "stdout",
       "text": [
        " 120.04 s : 91.90 %\n",
        "t ="
       ]
      },
      {
       "output_type": "stream",
       "stream": "stdout",
       "text": [
        " 123.03 s : 94.20 %\n",
        "t ="
       ]
      },
      {
       "output_type": "stream",
       "stream": "stdout",
       "text": [
        " 126.05 s : 96.50 %\n",
        "t ="
       ]
      },
      {
       "output_type": "stream",
       "stream": "stdout",
       "text": [
        " 129.02 s : 98.80 %\n",
        "Done."
       ]
      },
      {
       "output_type": "stream",
       "stream": "stdout",
       "text": [
        "\n",
        "\t\tComputing correlation..."
       ]
      },
      {
       "output_type": "stream",
       "stream": "stdout",
       "text": [
        " Done.\n"
       ]
      }
     ],
     "prompt_number": 6
    },
    {
     "cell_type": "code",
     "collapsed": false,
     "input": [
      "import matplotlib.pylab as plt\n",
      "\n",
      "plt.plot(corr[1])\n",
      "plt.show()"
     ],
     "language": "python",
     "metadata": {},
     "outputs": [],
     "prompt_number": 46
    },
    {
     "cell_type": "code",
     "collapsed": false,
     "input": [
      "import numpy as np\n",
      "import scipy.sparse as sparse\n",
      "\n",
      "dat = np.array( [[ 1, 2, 0, 0, 0, 0 ],\n",
      "                 [ 2, 1, 2, 0, 0, 0 ],\n",
      "                 [ 0, 2, 1, 2, 0, 0 ],\n",
      "                 [ 0, 0, 2, 1, 2, 0 ],\n",
      "                 [ 0, 0, 0, 2, 1, 2 ],\n",
      "                 [ 0, 0, 0, 0, 2, 1 ]])\n",
      "\n",
      "sp_dat = sparse.dia_matrix(dat)\n",
      "\n",
      "print dat.nbytes\n",
      "\n",
      "print sp_dat.todense()\n",
      "\n",
      "data = np.array([[1,2,3,4]]).repeat(3,axis=0)\n",
      "print data\n",
      "\n",
      "\n",
      "offsets = np.array([0,1,2])\n",
      "print sparse.dia_matrix( (data,offsets), shape=(4,4)).todense()"
     ],
     "language": "python",
     "metadata": {},
     "outputs": [
      {
       "output_type": "stream",
       "stream": "stdout",
       "text": [
        "288\n",
        "[[1 2 0 0 0 0]\n",
        " [2 1 2 0 0 0]\n",
        " [0 2 1 2 0 0]\n",
        " [0 0 2 1 2 0]\n",
        " [0 0 0 2 1 2]\n",
        " [0 0 0 0 2 1]]\n",
        "[[1 2 3 4]\n",
        " [1 2 3 4]\n",
        " [1 2 3 4]]\n",
        "[[1 2 3 0]\n",
        " [0 2 3 4]\n",
        " [0 0 3 4]\n",
        " [0 0 0 4]]\n"
       ]
      }
     ],
     "prompt_number": 41
    },
    {
     "cell_type": "code",
     "collapsed": false,
     "input": [],
     "language": "python",
     "metadata": {},
     "outputs": []
    }
   ],
   "metadata": {}
  }
 ]
}