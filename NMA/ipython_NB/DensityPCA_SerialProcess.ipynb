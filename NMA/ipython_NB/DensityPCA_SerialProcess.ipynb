{
 "metadata": {
  "name": "DensityPCA_SerialProcess"
 },
 "nbformat": 3,
 "nbformat_minor": 0,
 "worksheets": [
  {
   "cells": [
    {
     "cell_type": "code",
     "collapsed": false,
     "input": [
      "import numpy as np\n",
      "import itertools as itt\n",
      "\n",
      "def PdShiftD(x,y,N,D):\n",
      "    \"\"\"\n",
      "    Does cubic periodic replication in D dimensions of length N.\n",
      "    Assumes that [x,y,z] -> x * N*N + y * N + z, conversion from vector into base-N.\n",
      "    \"\"\"\n",
      "    pd_index = 0\n",
      "    factor = 1\n",
      "    pd_index = pd_index + (x%N + y%N) % N * factor\n",
      "    for i in xrange(D-1):\n",
      "        x = x / N\n",
      "        y = y / N\n",
      "        factor = factor * N\n",
      "        pd_index = pd_index + (x%N + y%N) % N * factor\n",
      "    return pd_index\n",
      "\n",
      "\n",
      "def XToDensity(time_slice, system_len, N):\n",
      "    \"\"\" \n",
      "    Takes a time slice, [x,y,z] positions of particles i, stored as an numpy.ndarray. Returns an xyz\n",
      "    ndarray, broken into N components (N = 10). system_len is the size of the box in nm. Only works\n",
      "    for water atoms OW, HW1, and HW2.\n",
      "    \"\"\"\n",
      "    \n",
      "    # Weights in amu\n",
      "    weight_dict = {'OW': 15.9994, 'HW1': 1.008, 'HW2':1.008}\n",
      "    weight_i = [weight_dict[t] for t in type_i]\n",
      "\n",
      "    V = system_len * system_len * system_len / N / N / N # Volume of one cell in nm^3\n",
      "    histbins = ( np.linspace(0, system_len, N+1), ) * 3\n",
      "    #print histbins\n",
      "\n",
      "    this_Xti_clean = time_slice\n",
      "    this_Xti_clean = (this_Xti_clean + system_len) % system_len\n",
      "    density_field,edges = np.histogramdd(this_Xti_clean, bins = histbins, weights = weight_i)\n",
      "    density_field = np.array( density_field / V * 1.66054 ) #conversion for amu/nm^3 -> kg/m^3\n",
      "    print \"DENSITY FIELD MEAN: \", np.mean(density_field)\n",
      "    #print #density_field\n",
      "    #print edges\n",
      "    return density_field - np.mean(density_field)\n",
      "    \n",
      "\n",
      "def DensityToCorr(density_field):\n",
      "    \"\"\" \n",
      "    Takes a density field, density rho as a function of [x,y,z] positions, stored as a 3D numpy.ndarray. Returns a 3D xyz\n",
      "    ndarray for the correlation, assuming periodicity and translational invariance. The correlation matrix is M(0,r), where\n",
      "    r matches with the convention for the density array (in the first octant). Assumes the shape is cubic.\n",
      "    \"\"\"\n",
      "    N = len(density_field[0,0])\n",
      "    Corr = np.ndarray(shape=(N*N*N))\n",
      "    density_field.shape = (N*N*N)\n",
      "\n",
      "    for dx in xrange(N*N*N):\n",
      "        ShiftProdDen = lambda x: density_field[x] * density_field[PdShiftD(x,dx,N,3)]\n",
      "        Corr[dx] = sum( itt.imap(ShiftProdDen, xrange(N*N*N)) )\n",
      "        Corr[dx] = Corr[dx] / float(N*N*N)\n",
      "    Corr = Corr / Corr[0]\n",
      "\n",
      "    #print \"Corr size:\", Corr.size\n",
      "    #print N*N*N\n",
      "    Corr.shape = (N,N,N)\n",
      "    density_field.shape = (N,N,N)\n",
      "    print \"X-direction from 0 in correlation tensor: \", Corr[0,0,:]\n",
      "    #print \"Shape of Correlation: \", Corr.shape\n",
      "    #return Corr\n",
      "    \n",
      "    \n"
     ],
     "language": "python",
     "metadata": {},
     "outputs": [],
     "prompt_number": 68
    },
    {
     "cell_type": "code",
     "collapsed": false,
     "input": [
      "import numpy as np\n",
      "import matplotlib as mpl\n",
      "import scipy\n",
      "import mdp\n",
      "import bimdp\n",
      "import re\n",
      "import os\n",
      "\n",
      "corr_N = 10\n",
      "Corr = np.zeros((corr_N,corr_N,corr_N))\n",
      "\n",
      "first_line = True\n",
      "first_pass = True\n",
      "\n",
      "fpath = \"ProductionMD/md_traj.gro\"\n",
      "fsize = os.path.getsize(fpath)\n",
      "print \"File size:\", fsize, \"bytes (~\", fsize / 1000000 , \"MB )\"\n",
      "\n",
      "N = 0\n",
      "with open(fpath, 'rb') as f:\n",
      "    f.readline()\n",
      "    N = int(f.readline())\n",
      "\n",
      "print \"Number of particles:\", N\n",
      "x_i = np.ndarray(shape=(N,3), dtype=float)\n",
      "v_i = np.ndarray(shape=(N,3), dtype=float)\n",
      "type_i = []\n",
      "sys_size_t = []\n",
      "times = []\n",
      "i = 0\n",
      "\n",
      "\n",
      "print \"Loading Corr, type_i, and times into memory, assuming fixed number of particles...\"\n",
      "print \"[L]: nm\"\n",
      "print \"[T]: ps\"\n",
      "\n",
      "with open(fpath, 'rb') as f:\n",
      "    header_flag = 0\n",
      "    N_particles = 0\n",
      "    system_size = 0\n",
      "    count = 0\n",
      "    for l in f:\n",
      "        count = count+1\n",
      "        if count % (4234 * 5) == 0:\n",
      "            print float(f.tell()) / float(fsize) * 100, \"% progress\"\n",
      "            \n",
      "        if re.match(\".*SOL.*\", l):\n",
      "            #print l.split()\n",
      "            x = []\n",
      "            v = []\n",
      "            if first_pass:\n",
      "                type_i.append(l.split()[1])\n",
      "                \n",
      "            for val in l.split()[3:6]:\n",
      "                x.append(float(val))\n",
      "            for val in l.split()[6:]:\n",
      "                v.append(float(val))\n",
      "            x_i[i][:] = x\n",
      "            v_i[i][:] = v\n",
      "            i = i+1\n",
      "        elif re.match(\".*t=.*\", l):\n",
      "            if not first_line:\n",
      "                first_pass = False\n",
      "                # Beastly operation: convert the positions to a density field\n",
      "                # Then convert the density field to a correlation function\n",
      "                Corr = np.sum( [Corr, DensityToCorr( XToDensity(x_i, system_size, corr_N) )], axis = 0 )\n",
      "                sys_size_t.append(system_size)\n",
      "                assert len(sys_size_t) == len(times)\n",
      "            \n",
      "            elif first_line:\n",
      "                first_line = False\n",
      "            \n",
      "            #print float(re.split(\"t=\",l)[1])\n",
      "            i = 0\n",
      "            header_flag = 1\n",
      "            times.append(float(re.split(\"t=\",l)[1]))\n",
      "                     \n",
      "        elif header_flag == 1:\n",
      "            header_flag = 2\n",
      "            N_particles = int(l)\n",
      "        elif header_flag == 2:\n",
      "            header_flag = 0\n",
      "            system_size = float(l.split()[0])\n",
      "        else:\n",
      "            print \"Warning: bad line\"\n",
      "            print l,\n",
      "            print header_flag\n",
      "Corr = Corr + DensityToCorr( XToDensity(x_i, system_size, corr_N) )\n",
      "sys_size_t.append(system_size)\n",
      "\n",
      "#Average over all of the correlation estimates from the different time slices\n",
      "Corr = Corr / len(sys_size_t)\n",
      "\n",
      "\n",
      "print \"\"\n",
      "print \"Number of time points:\", len(sys_size_t)\n",
      "\n",
      "Xti = np.array(Xti)\n",
      "Vti = np.array(Vti)\n",
      "sys_size_t = np.array(sys_size_t)"
     ],
     "language": "python",
     "metadata": {},
     "outputs": [
      {
       "output_type": "stream",
       "stream": "stdout",
       "text": [
        "File size: 146273464 bytes (~ 146 MB )\n",
        "Number of particles: 4230\n",
        "Loading Corr, type_i, and times into memory, assuming fixed number of particles...\n",
        "[L]: nm\n",
        "[T]: ps\n",
        "DENSITY FIELD MEAN: "
       ]
      },
      {
       "output_type": "stream",
       "stream": "stdout",
       "text": [
        " 1001.42403151\n",
        "Corr size:"
       ]
      },
      {
       "output_type": "stream",
       "stream": "stdout",
       "text": [
        " 1000\n",
        "1000\n",
        "[ 1.         -0.12551376  0.00863778 -0.00606785  0.03598659  0.04998477\n",
        "  0.03598659 -0.00606785  0.00863778 -0.12551376]\n",
        "Shape of Correlation:  (10, 10, 10)\n",
        "DENSITY FIELD MEAN: "
       ]
      },
      {
       "output_type": "stream",
       "stream": "stdout",
       "text": [
        " 994.95023519\n",
        "Corr size:"
       ]
      },
      {
       "output_type": "stream",
       "stream": "stdout",
       "text": [
        " 1000\n",
        "1000\n",
        "[ 1.         -0.13158441 -0.00620493 -0.01068739  0.03725077 -0.01493717\n",
        "  0.03725077 -0.01068739 -0.00620493 -0.13158441]\n",
        "Shape of Correlation:  (10, 10, 10)\n",
        "DENSITY FIELD MEAN: "
       ]
      },
      {
       "output_type": "stream",
       "stream": "stdout",
       "text": [
        " 1005.5627265\n",
        "Corr size:"
       ]
      },
      {
       "output_type": "stream",
       "stream": "stdout",
       "text": [
        " 1000\n",
        "1000\n",
        "[ 1.         -0.11857919 -0.04209857  0.02510419 -0.0321957  -0.0160403\n",
        " -0.0321957   0.02510419 -0.04209857 -0.11857919]\n",
        "Shape of Correlation:  (10, 10, 10)\n",
        "DENSITY FIELD MEAN: "
       ]
      },
      {
       "output_type": "stream",
       "stream": "stdout",
       "text": [
        " 994.95023519\n",
        "Corr size:"
       ]
      },
      {
       "output_type": "stream",
       "stream": "stdout",
       "text": [
        " 1000\n",
        "1000\n",
        "[ 1.         -0.12576763 -0.0277674  -0.05600399  0.05229906  0.03174995\n",
        "  0.05229906 -0.05600399 -0.0277674  -0.12576763]\n",
        "Shape of Correlation:  (10, 10, 10)\n",
        "DENSITY FIELD MEAN: "
       ]
      },
      {
       "output_type": "stream",
       "stream": "stdout",
       "text": [
        " 996.175353309\n",
        "Corr size:"
       ]
      },
      {
       "output_type": "stream",
       "stream": "stdout",
       "text": [
        " 1000\n",
        "1000\n",
        "[ 1.         -0.14413267 -0.026187    0.05641361 -0.03042996 -0.020061\n",
        " -0.03042996  0.05641361 -0.026187   -0.14413267]\n",
        "Shape of Correlation:  (10, 10, 10)\n",
        "1.0024839502 % progress\n",
        "DENSITY FIELD MEAN: "
       ]
      },
      {
       "output_type": "stream",
       "stream": "stdout",
       "text": [
        " 1008.0934821\n",
        "Corr size:"
       ]
      },
      {
       "output_type": "stream",
       "stream": "stdout",
       "text": [
        " 1000\n",
        "1000\n",
        "[ 1.         -0.11129329  0.03846197  0.02249218 -0.04480327 -0.00277634\n",
        " -0.04480327  0.02249218  0.03846197 -0.11129329]\n",
        "Shape of Correlation:  (10, 10, 10)\n",
        "DENSITY FIELD MEAN: "
       ]
      },
      {
       "output_type": "stream",
       "stream": "stdout",
       "text": [
        " 999.819715485\n",
        "Corr size:"
       ]
      },
      {
       "output_type": "stream",
       "stream": "stdout",
       "text": [
        " 1000\n",
        "1000\n",
        "[ 1.         -0.12825564 -0.02620799  0.00993854 -0.01617847  0.03847595\n",
        " -0.01617847  0.00993854 -0.02620799 -0.12825564]\n",
        "Shape of Correlation:  (10, 10, 10)\n",
        "DENSITY FIELD MEAN: "
       ]
      },
      {
       "output_type": "stream",
       "stream": "stdout",
       "text": [
        " 992.335394514\n",
        "Corr size:"
       ]
      },
      {
       "output_type": "stream",
       "stream": "stdout",
       "text": [
        " 1000\n",
        "1000\n",
        "[ 1.         -0.09834966  0.00786805  0.01423773  0.00338715 -0.05698598\n",
        "  0.00338715  0.01423773  0.00786805 -0.09834966]\n",
        "Shape of Correlation:  (10, 10, 10)\n",
        "DENSITY FIELD MEAN: "
       ]
      },
      {
       "output_type": "stream",
       "stream": "stdout",
       "text": [
        " 999.604342928\n",
        "Corr size:"
       ]
      },
      {
       "output_type": "stream",
       "stream": "stdout",
       "text": [
        " 1000\n",
        "1000\n",
        "[ 1.         -0.16204168 -0.00495125  0.03342505 -0.00812477  0.00271916\n",
        " -0.00812477  0.03342505 -0.00495125 -0.16204168]\n",
        "Shape of Correlation:  (10, 10, 10)\n",
        "DENSITY FIELD MEAN: "
       ]
      },
      {
       "output_type": "stream",
       "stream": "stdout",
       "text": [
        " 1013.50508686\n",
        "Corr size:"
       ]
      },
      {
       "output_type": "stream",
       "stream": "stdout",
       "text": [
        " 1000\n",
        "1000\n",
        "[ 1.         -0.15219889  0.00617864  0.00604971 -0.00913693  0.00696573\n",
        " -0.00913693  0.00604971  0.00617864 -0.15219889]\n",
        "Shape of Correlation:  (10, 10, 10)\n",
        "2.00076754865 % progress\n",
        "DENSITY FIELD MEAN: "
       ]
      },
      {
       "output_type": "stream",
       "stream": "stdout",
       "text": [
        " 1003.12697153\n",
        "Corr size:"
       ]
      },
      {
       "output_type": "stream",
       "stream": "stdout",
       "text": [
        " 1000\n",
        "1000\n",
        "[ 1.         -0.13273013 -0.07314157 -0.02199302  0.03855108  0.03408372\n",
        "  0.03855108 -0.02199302 -0.07314157 -0.13273013]\n",
        "Shape of Correlation:  (10, 10, 10)\n",
        "DENSITY FIELD MEAN: "
       ]
      },
      {
       "output_type": "stream",
       "stream": "stdout",
       "text": [
        " 994.796166893\n",
        "Corr size:"
       ]
      },
      {
       "output_type": "stream",
       "stream": "stdout",
       "text": [
        " 1000\n",
        "1000\n",
        "[ 1.         -0.20111632 -0.00857788  0.04123975 -0.0601763   0.02441586\n",
        " -0.0601763   0.04123975 -0.00857788 -0.20111632]\n",
        "Shape of Correlation:  (10, 10, 10)\n",
        "DENSITY FIELD MEAN: "
       ]
      },
      {
       "output_type": "stream",
       "stream": "stdout",
       "text": [
        " 1000.60419429\n",
        "Corr size:"
       ]
      },
      {
       "output_type": "stream",
       "stream": "stdout",
       "text": [
        " 1000\n",
        "1000\n",
        "[ 1.         -0.14093461  0.01667414 -0.01045029 -0.00993777  0.05644948\n",
        " -0.00993777 -0.01045029  0.01667414 -0.14093461]\n",
        "Shape of Correlation:  (10, 10, 10)\n",
        "DENSITY FIELD MEAN: "
       ]
      },
      {
       "output_type": "stream",
       "stream": "stdout",
       "text": [
        " 1000.50932358\n",
        "Corr size:"
       ]
      },
      {
       "output_type": "stream",
       "stream": "stdout",
       "text": [
        " 1000\n",
        "1000\n",
        "[ 1.         -0.13089509 -0.03466125  0.00974462  0.01116575 -0.0172921\n",
        "  0.01116575  0.00974462 -0.03466125 -0.13089509]\n",
        "Shape of Correlation:  (10, 10, 10)\n",
        "DENSITY FIELD MEAN: "
       ]
      },
      {
       "output_type": "stream",
       "stream": "stdout",
       "text": [
        " 991.593632591\n",
        "Corr size:"
       ]
      },
      {
       "output_type": "stream",
       "stream": "stdout",
       "text": [
        " 1000\n",
        "1000\n",
        "[  1.00000000e+00  -1.51234429e-01  -6.23264549e-02   4.44032485e-02\n",
        "   6.24010647e-04  -7.11011622e-02   6.24010647e-04   4.44032485e-02\n",
        "  -6.23264549e-02  -1.51234429e-01]\n",
        "Shape of Correlation:  (10, 10, 10)\n",
        "2.99765102985 % progress\n",
        "DENSITY FIELD MEAN: "
       ]
      },
      {
       "output_type": "stream",
       "stream": "stdout",
       "text": [
        " 1011.74360771\n",
        "Corr size:"
       ]
      },
      {
       "output_type": "stream",
       "stream": "stdout",
       "text": [
        " 1000\n",
        "1000\n",
        "[  1.00000000e+00  -1.30527561e-01  -1.25529558e-02   6.48242867e-02\n",
        "   6.46299341e-02  -1.92220141e-04   6.46299341e-02   6.48242867e-02\n",
        "  -1.25529558e-02  -1.30527561e-01]\n",
        "Shape of Correlation:  (10, 10, 10)\n",
        "DENSITY FIELD MEAN: "
       ]
      },
      {
       "output_type": "stream",
       "stream": "stdout",
       "text": [
        " 1001.00968607\n",
        "Corr size:"
       ]
      },
      {
       "output_type": "stream",
       "stream": "stdout",
       "text": [
        " 1000\n",
        "1000\n",
        "[ 1.         -0.15205417  0.09191627 -0.00552543 -0.02100052 -0.02639178\n",
        " -0.02100052 -0.00552543  0.09191627 -0.15205417]\n",
        "Shape of Correlation:  (10, 10, 10)\n",
        "DENSITY FIELD MEAN: "
       ]
      },
      {
       "output_type": "stream",
       "stream": "stdout",
       "text": [
        " 1000.61281949\n",
        "Corr size:"
       ]
      },
      {
       "output_type": "stream",
       "stream": "stdout",
       "text": [
        " 1000\n",
        "1000\n",
        "[ 1.         -0.1213225  -0.05303268 -0.02956298  0.04375471  0.05692903\n",
        "  0.04375471 -0.02956298 -0.05303268 -0.1213225 ]\n",
        "Shape of Correlation:  (10, 10, 10)\n",
        "DENSITY FIELD MEAN: "
       ]
      },
      {
       "output_type": "stream",
       "stream": "stdout",
       "text": [
        " 1006.41406145\n",
        "Corr size:"
       ]
      },
      {
       "output_type": "stream",
       "stream": "stdout",
       "text": [
        " 1000\n",
        "1000\n",
        "[ 1.         -0.10261931  0.00801475  0.04167381 -0.01749553  0.0069762\n",
        " -0.01749553  0.04167381  0.00801475 -0.10261931]\n",
        "Shape of Correlation:  (10, 10, 10)\n",
        "DENSITY FIELD MEAN: "
       ]
      },
      {
       "output_type": "stream",
       "stream": "stdout",
       "text": [
        " 999.647412491\n",
        "Corr size:"
       ]
      },
      {
       "output_type": "stream",
       "stream": "stdout",
       "text": [
        " 1000\n",
        "1000\n",
        "[ 1.         -0.10109092  0.01900284  0.02564001 -0.02128957 -0.06315898\n",
        " -0.02128957  0.02564001  0.01900284 -0.10109092]\n",
        "Shape of Correlation:  (10, 10, 10)\n",
        "3.99733474556 % progress\n",
        "DENSITY FIELD MEAN: "
       ]
      },
      {
       "output_type": "stream",
       "stream": "stdout",
       "text": [
        " 1008.40715533\n",
        "Corr size:"
       ]
      },
      {
       "output_type": "stream",
       "stream": "stdout",
       "text": [
        " 1000\n",
        "1000\n",
        "[ 1.         -0.15246505  0.01387151 -0.0766203  -0.01793003  0.0840518\n",
        " -0.01793003 -0.0766203   0.01387151 -0.15246505]\n",
        "Shape of Correlation:  (10, 10, 10)\n",
        "DENSITY FIELD MEAN: "
       ]
      },
      {
       "output_type": "stream",
       "stream": "stdout",
       "text": [
        " 1003.82828533\n",
        "Corr size:"
       ]
      },
      {
       "output_type": "stream",
       "stream": "stdout",
       "text": [
        " 1000\n",
        "1000\n",
        "[ 1.         -0.09976275 -0.03809306 -0.02179888 -0.03408588  0.08776849\n",
        " -0.03408588 -0.02179888 -0.03809306 -0.09976275]\n",
        "Shape of Correlation:  (10, 10, 10)\n",
        "DENSITY FIELD MEAN: "
       ]
      },
      {
       "output_type": "stream",
       "stream": "stdout",
       "text": [
        " 1000.17306044\n",
        "Corr size:"
       ]
      },
      {
       "output_type": "stream",
       "stream": "stdout",
       "text": [
        " 1000\n",
        "1000\n",
        "[ 1.         -0.1217461  -0.00512584  0.02750611 -0.00641546  0.03153277\n",
        " -0.00641546  0.02750611 -0.00512584 -0.1217461 ]\n",
        "Shape of Correlation:  (10, 10, 10)\n",
        "DENSITY FIELD MEAN: "
       ]
      },
      {
       "output_type": "stream",
       "stream": "stdout",
       "text": [
        " 994.847519457\n",
        "Corr size:"
       ]
      },
      {
       "output_type": "stream",
       "stream": "stdout",
       "text": [
        " 1000\n",
        "1000\n",
        "[ 1.         -0.16249238  0.00208098  0.04280641 -0.01364178 -0.06234289\n",
        " -0.01364178  0.04280641  0.00208098 -0.16249238]\n",
        "Shape of Correlation:  (10, 10, 10)\n",
        "DENSITY FIELD MEAN: "
       ]
      },
      {
       "output_type": "stream",
       "stream": "stdout",
       "text": [
        " 1000.49207565\n",
        "Corr size:"
       ]
      },
      {
       "output_type": "stream",
       "stream": "stdout",
       "text": [
        " 1000\n",
        "1000\n",
        "[ 1.         -0.1561783   0.00388804  0.06327787 -0.00737683  0.06566612\n",
        " -0.00737683  0.06327787  0.00388804 -0.1561783 ]\n",
        "Shape of Correlation:  (10, 10, 10)\n",
        "4.99281810951 % progress\n",
        "DENSITY FIELD MEAN: "
       ]
      },
      {
       "output_type": "stream",
       "stream": "stdout",
       "text": [
        " 1002.05462034\n",
        "Corr size:"
       ]
      },
      {
       "output_type": "stream",
       "stream": "stdout",
       "text": [
        " 1000\n",
        "1000\n",
        "[ 1.         -0.09623842 -0.02083034  0.01771251 -0.01408158  0.02732811\n",
        " -0.01408158  0.01771251 -0.02083034 -0.09623842]\n",
        "Shape of Correlation:  (10, 10, 10)\n",
        "DENSITY FIELD MEAN: "
       ]
      },
      {
       "output_type": "stream",
       "stream": "stdout",
       "text": [
        " 1011.07863932\n",
        "Corr size:"
       ]
      },
      {
       "output_type": "stream",
       "stream": "stdout",
       "text": [
        " 1000\n",
        "1000\n",
        "[ 1.         -0.15317881  0.0243655   0.01514657 -0.0151947   0.08530365\n",
        " -0.0151947   0.01514657  0.0243655  -0.15317881]\n",
        "Shape of Correlation:  (10, 10, 10)\n",
        "DENSITY FIELD MEAN: "
       ]
      },
      {
       "output_type": "stream",
       "stream": "stdout",
       "text": [
        " 1007.38819284\n",
        "Corr size:"
       ]
      },
      {
       "output_type": "stream",
       "stream": "stdout",
       "text": [
        " 1000\n",
        "1000\n",
        "[ 1.         -0.09929281 -0.05345883 -0.07342354  0.00704573  0.03325158\n",
        "  0.00704573 -0.07342354 -0.05345883 -0.09929281]\n",
        "Shape of Correlation:  (10, 10, 10)\n",
        "DENSITY FIELD MEAN: "
       ]
      },
      {
       "output_type": "stream",
       "stream": "stdout",
       "text": [
        " 990.98031963\n",
        "Corr size:"
       ]
      },
      {
       "output_type": "stream",
       "stream": "stdout",
       "text": [
        " 1000\n",
        "1000\n",
        "[ 1.         -0.09758782 -0.00604925 -0.04324898 -0.0204053  -0.03399566\n",
        " -0.0204053  -0.04324898 -0.00604925 -0.09758782]\n",
        "Shape of Correlation:  (10, 10, 10)\n",
        "DENSITY FIELD MEAN: "
       ]
      },
      {
       "output_type": "stream",
       "stream": "stdout",
       "text": [
        " 994.958795472\n",
        "Corr size:"
       ]
      },
      {
       "output_type": "stream",
       "stream": "stdout",
       "text": [
        " 1000\n",
        "1000\n",
        "[ 1.         -0.13435183  0.00529738 -0.02905347 -0.0254616  -0.0531918\n",
        " -0.0254616  -0.02905347  0.00529738 -0.13435183]\n",
        "Shape of Correlation:  (10, 10, 10)\n",
        "5.98970159071 % progress\n",
        "DENSITY FIELD MEAN: "
       ]
      },
      {
       "output_type": "stream",
       "stream": "stdout",
       "text": [
        " 998.932777998\n",
        "Corr size:"
       ]
      },
      {
       "output_type": "stream",
       "stream": "stdout",
       "text": [
        " 1000\n",
        "1000\n",
        "[ 1.         -0.09107982 -0.03761331 -0.04207864  0.02904795 -0.01683745\n",
        "  0.02904795 -0.04207864 -0.03761331 -0.09107982]\n",
        "Shape of Correlation:  (10, 10, 10)\n",
        "DENSITY FIELD MEAN: "
       ]
      },
      {
       "output_type": "stream",
       "stream": "stdout",
       "text": [
        " 996.166779068\n",
        "Corr size:"
       ]
      },
      {
       "output_type": "stream",
       "stream": "stdout",
       "text": [
        " 1000\n",
        "1000\n",
        "[ 1.         -0.14690045  0.01034941 -0.01461198  0.00512651  0.02451519\n",
        "  0.00512651 -0.01461198  0.01034941 -0.14690045]\n",
        "Shape of Correlation:  (10, 10, 10)\n",
        "DENSITY FIELD MEAN: "
       ]
      },
      {
       "output_type": "stream",
       "stream": "stdout",
       "text": [
        " 1000.9147641\n",
        "Corr size:"
       ]
      },
      {
       "output_type": "stream",
       "stream": "stdout",
       "text": [
        " 1000\n",
        "1000\n",
        "[ 1.         -0.13000572 -0.0125715   0.02806931 -0.02620036  0.04523762\n",
        " -0.02620036  0.02806931 -0.0125715  -0.13000572]\n",
        "Shape of Correlation:  (10, 10, 10)\n",
        "DENSITY FIELD MEAN: "
       ]
      },
      {
       "output_type": "stream",
       "stream": "stdout",
       "text": [
        " 995.643936373\n",
        "Corr size:"
       ]
      },
      {
       "output_type": "stream",
       "stream": "stdout",
       "text": [
        " 1000\n",
        "1000\n",
        "[ 1.         -0.13163907  0.04097651 -0.03768542  0.04727516 -0.01613511\n",
        "  0.04727516 -0.03768542  0.04097651 -0.13163907]\n",
        "Shape of Correlation:  (10, 10, 10)\n",
        "DENSITY FIELD MEAN: "
       ]
      },
      {
       "output_type": "stream",
       "stream": "stdout",
       "text": [
        " 1003.97555764\n",
        "Corr size:"
       ]
      },
      {
       "output_type": "stream",
       "stream": "stdout",
       "text": [
        " 1000\n",
        "1000\n",
        "[  1.00000000e+00  -7.67683803e-02  -2.43894775e-02  -3.03350702e-02\n",
        "   5.97991331e-04   1.34210564e-02   5.97991331e-04  -3.03350702e-02\n",
        "  -2.43894775e-02  -7.67683803e-02]\n",
        "Shape of Correlation:  (10, 10, 10)\n",
        "6.98798518917 % progress\n",
        "DENSITY FIELD MEAN: "
       ]
      },
      {
       "output_type": "stream",
       "stream": "stdout",
       "text": [
        " 996.83586549\n",
        "Corr size:"
       ]
      },
      {
       "output_type": "stream",
       "stream": "stdout",
       "text": [
        " 1000\n",
        "1000\n",
        "[ 1.         -0.12175778 -0.0488892  -0.02651553 -0.00795031  0.03319158\n",
        " -0.00795031 -0.02651553 -0.0488892  -0.12175778]\n",
        "Shape of Correlation:  (10, 10, 10)\n",
        "DENSITY FIELD MEAN: "
       ]
      },
      {
       "output_type": "stream",
       "stream": "stdout",
       "text": [
        " 1000.81985414\n",
        "Corr size:"
       ]
      },
      {
       "output_type": "stream",
       "stream": "stdout",
       "text": [
        " 1000\n",
        "1000\n",
        "[ 1.         -0.14192112  0.05162123 -0.00263159  0.03303921 -0.03154184\n",
        "  0.03303921 -0.00263159  0.05162123 -0.14192112]\n",
        "Shape of Correlation:  (10, 10, 10)\n",
        "DENSITY FIELD MEAN: "
       ]
      },
      {
       "output_type": "stream",
       "stream": "stdout",
       "text": [
        " 1001.07009721\n",
        "Corr size:"
       ]
      },
      {
       "output_type": "stream",
       "stream": "stdout",
       "text": [
        " 1000\n",
        "1000\n",
        "[ 1.         -0.16209023  0.03676461  0.0359606  -0.07446278  0.05381524\n",
        " -0.07446278  0.0359606   0.03676461 -0.16209023]\n",
        "Shape of Correlation:  (10, 10, 10)\n",
        "DENSITY FIELD MEAN: "
       ]
      },
      {
       "output_type": "stream",
       "stream": "stdout",
       "text": [
        " 997.22214947\n",
        "Corr size:"
       ]
      },
      {
       "output_type": "stream",
       "stream": "stdout",
       "text": [
        " 1000\n",
        "1000\n",
        "[ 1.         -0.14568159  0.02004582  0.05479566  0.05150406 -0.05276966\n",
        "  0.05150406  0.05479566  0.02004582 -0.14568159]\n",
        "Shape of Correlation:  (10, 10, 10)\n",
        "DENSITY FIELD MEAN: "
       ]
      },
      {
       "output_type": "stream",
       "stream": "stdout",
       "text": [
        " 1008.93895432\n",
        "Corr size:"
       ]
      },
      {
       "output_type": "stream",
       "stream": "stdout",
       "text": [
        " 1000\n",
        "1000\n",
        "[ 1.         -0.1549898   0.02876645 -0.00460491  0.03153423  0.06276447\n",
        "  0.03153423 -0.00460491  0.02876645 -0.1549898 ]\n",
        "Shape of Correlation:  (10, 10, 10)\n",
        "7.99186925661 % progress\n",
        "DENSITY FIELD MEAN: "
       ]
      },
      {
       "output_type": "stream",
       "stream": "stdout",
       "text": [
        " 999.001628761\n",
        "Corr size:"
       ]
      },
      {
       "output_type": "stream",
       "stream": "stdout",
       "text": [
        " 1000\n",
        "1000\n",
        "[ 1.         -0.11745431 -0.04125559 -0.01351051 -0.01890484 -0.00702576\n",
        " -0.01890484 -0.01351051 -0.04125559 -0.11745431]\n",
        "Shape of Correlation:  (10, 10, 10)\n",
        "DENSITY FIELD MEAN: "
       ]
      },
      {
       "output_type": "stream",
       "stream": "stdout",
       "text": [
        " 996.01245955\n",
        "Corr size:"
       ]
      },
      {
       "output_type": "stream",
       "stream": "stdout",
       "text": [
        " 1000\n",
        "1000\n",
        "[ 1.         -0.12985151  0.00239323  0.01430445 -0.02867872  0.05725075\n",
        " -0.02867872  0.01430445  0.00239323 -0.12985151]\n",
        "Shape of Correlation:  (10, 10, 10)\n",
        "DENSITY FIELD MEAN: "
       ]
      },
      {
       "output_type": "stream",
       "stream": "stdout",
       "text": [
        " 992.318334209\n",
        "Corr size:"
       ]
      },
      {
       "output_type": "stream",
       "stream": "stdout",
       "text": [
        " 1000\n",
        "1000\n",
        "[  1.00000000e+00  -1.66705795e-01  -6.33042868e-04   3.39933796e-02\n",
        "  -7.11774223e-02   1.98413922e-02  -7.11774223e-02   3.39933796e-02\n",
        "  -6.33042868e-04  -1.66705795e-01]\n",
        "Shape of Correlation:  (10, 10, 10)\n",
        "DENSITY FIELD MEAN: "
       ]
      },
      {
       "output_type": "stream",
       "stream": "stdout",
       "text": [
        " 993.932262306\n",
        "Corr size:"
       ]
      },
      {
       "output_type": "stream",
       "stream": "stdout",
       "text": [
        " 1000\n",
        "1000\n",
        "[ 1.         -0.10950642  0.02556146 -0.02611368  0.00709442  0.04714316\n",
        "  0.00709442 -0.02611368  0.02556146 -0.10950642]\n",
        "Shape of Correlation:  (10, 10, 10)\n",
        "DENSITY FIELD MEAN: "
       ]
      },
      {
       "output_type": "stream",
       "stream": "stdout",
       "text": [
        " 996.261101134\n",
        "Corr size:"
       ]
      },
      {
       "output_type": "stream",
       "stream": "stdout",
       "text": [
        " 1000\n",
        "1000\n",
        "[ 1.         -0.16210541  0.05710988  0.03053643 -0.01556964 -0.02263929\n",
        " -0.01556964  0.03053643  0.05710988 -0.16210541]\n",
        "Shape of Correlation:  (10, 10, 10)\n",
        "8.98455238607 % progress\n",
        "DENSITY FIELD MEAN: "
       ]
      },
      {
       "output_type": "stream",
       "stream": "stdout",
       "text": [
        " 995.926740258\n",
        "Corr size:"
       ]
      },
      {
       "output_type": "stream",
       "stream": "stdout",
       "text": [
        " 1000\n",
        "1000\n",
        "[ 1.         -0.14125136  0.05754553  0.00516688  0.02830106 -0.02223012\n",
        "  0.02830106  0.00516688  0.05754553 -0.14125136]\n",
        "Shape of Correlation:  (10, 10, 10)\n",
        "DENSITY FIELD MEAN: "
       ]
      },
      {
       "output_type": "stream",
       "stream": "stdout",
       "text": [
        " 992.250096899\n",
        "Corr size:"
       ]
      },
      {
       "output_type": "stream",
       "stream": "stdout",
       "text": [
        " 1000\n",
        "1000\n",
        "[ 1.         -0.11451869 -0.00556939  0.09311804 -0.08972203  0.08648702\n",
        " -0.08972203  0.09311804 -0.00556939 -0.11451869]\n",
        "Shape of Correlation:  (10, 10, 10)\n",
        "DENSITY FIELD MEAN: "
       ]
      },
      {
       "output_type": "stream",
       "stream": "stdout",
       "text": [
        " 1008.73839604\n",
        "Corr size:"
       ]
      },
      {
       "output_type": "stream",
       "stream": "stdout",
       "text": [
        " 1000\n",
        "1000\n",
        "[ 1.         -0.11664258 -0.02102874  0.04153114 -0.01806145 -0.04807445\n",
        " -0.01806145  0.04153114 -0.02102874 -0.11664258]\n",
        "Shape of Correlation:  (10, 10, 10)\n",
        "DENSITY FIELD MEAN: "
       ]
      },
      {
       "output_type": "stream",
       "stream": "stdout",
       "text": [
        " 995.224212948\n",
        "Corr size:"
       ]
      },
      {
       "output_type": "stream",
       "stream": "stdout",
       "text": [
        " 1000\n",
        "1000\n",
        "[ 1.         -0.11037232 -0.01844602  0.02132937  0.01327683 -0.04997835\n",
        "  0.01327683  0.02132937 -0.01844602 -0.11037232]\n",
        "Shape of Correlation:  (10, 10, 10)\n",
        "DENSITY FIELD MEAN: "
       ]
      },
      {
       "output_type": "stream",
       "stream": "stdout",
       "text": [
        " 983.803199197\n",
        "Corr size:"
       ]
      },
      {
       "output_type": "stream",
       "stream": "stdout",
       "text": [
        " 1000\n",
        "1000\n",
        "[ 1.         -0.14487694 -0.01764057 -0.03745179  0.04105295 -0.07992611\n",
        "  0.04105295 -0.03745179 -0.01764057 -0.14487694]\n",
        "Shape of Correlation:  (10, 10, 10)\n",
        "9.98283598452 % progress\n",
        "DENSITY FIELD MEAN: "
       ]
      },
      {
       "output_type": "stream",
       "stream": "stdout",
       "text": [
        " 988.387859787\n",
        "Corr size:"
       ]
      },
      {
       "output_type": "stream",
       "stream": "stdout",
       "text": [
        " 1000\n",
        "1000\n",
        "[ 1.         -0.15676023 -0.0107292  -0.0231054   0.05410662 -0.05609602\n",
        "  0.05410662 -0.0231054  -0.0107292  -0.15676023]\n",
        "Shape of Correlation:  (10, 10, 10)\n",
        "DENSITY FIELD MEAN: "
       ]
      },
      {
       "output_type": "stream",
       "stream": "stdout",
       "text": [
        " 1005.7537589\n",
        "Corr size:"
       ]
      },
      {
       "output_type": "stream",
       "stream": "stdout",
       "text": [
        " 1000\n",
        "1000\n",
        "[ 1.         -0.11756024  0.00625199 -0.05204533  0.00885265 -0.01202488\n",
        "  0.00885265 -0.05204533  0.00625199 -0.11756024]\n",
        "Shape of Correlation:  (10, 10, 10)\n",
        "DENSITY FIELD MEAN: "
       ]
      },
      {
       "output_type": "stream",
       "stream": "stdout",
       "text": [
        " 989.670208206\n",
        "Corr size:"
       ]
      },
      {
       "output_type": "stream",
       "stream": "stdout",
       "text": [
        " 1000\n",
        "1000\n",
        "[  1.00000000e+00  -7.77645194e-02  -4.98816826e-05   1.37346615e-02\n",
        "   4.81383392e-02  -7.38372078e-02   4.81383392e-02   1.37346615e-02\n",
        "  -4.98816826e-05  -7.77645194e-02]\n",
        "Shape of Correlation:  (10, 10, 10)\n",
        "DENSITY FIELD MEAN: "
       ]
      },
      {
       "output_type": "stream",
       "stream": "stdout",
       "text": [
        " 993.547676443\n",
        "Corr size:"
       ]
      },
      {
       "output_type": "stream",
       "stream": "stdout",
       "text": [
        " 1000\n",
        "1000\n",
        "[ 1.         -0.10597871 -0.04941046  0.02939127 -0.02026511 -0.07160529\n",
        " -0.02026511  0.02939127 -0.04941046 -0.10597871]\n",
        "Shape of Correlation:  (10, 10, 10)\n",
        "DENSITY FIELD MEAN: "
       ]
      },
      {
       "output_type": "stream",
       "stream": "stdout",
       "text": [
        " 996.424049115\n",
        "Corr size:"
       ]
      },
      {
       "output_type": "stream",
       "stream": "stdout",
       "text": [
        " 1000\n",
        "1000\n",
        "[ 1.         -0.12814195  0.02336235  0.01964472  0.02018883 -0.02327742\n",
        "  0.02018883  0.01964472  0.02336235 -0.12814195]\n",
        "Shape of Correlation:  (10, 10, 10)\n",
        "10.9839198175 % progress\n",
        "DENSITY FIELD MEAN: "
       ]
      },
      {
       "output_type": "stream",
       "stream": "stdout",
       "text": [
        " 992.198923022\n",
        "Corr size:"
       ]
      },
      {
       "output_type": "stream",
       "stream": "stdout",
       "text": [
        " 1000\n",
        "1000\n",
        "[ 1.         -0.10013802  0.00357393  0.00957025 -0.02600292  0.06930137\n",
        " -0.02600292  0.00957025  0.00357393 -0.10013802]\n",
        "Shape of Correlation:  (10, 10, 10)\n",
        "DENSITY FIELD MEAN: "
       ]
      },
      {
       "output_type": "stream",
       "stream": "stdout",
       "text": [
        " 1005.74507456\n",
        "Corr size:"
       ]
      },
      {
       "output_type": "stream",
       "stream": "stdout",
       "text": [
        " 1000\n",
        "1000\n",
        "[ 1.         -0.16823226  0.04478318 -0.04358255  0.05957321 -0.02894194\n",
        "  0.05957321 -0.04358255  0.04478318 -0.16823226]\n",
        "Shape of Correlation:  (10, 10, 10)\n",
        "DENSITY FIELD MEAN: "
       ]
      },
      {
       "output_type": "stream",
       "stream": "stdout",
       "text": [
        " 994.471016048\n",
        "Corr size:"
       ]
      },
      {
       "output_type": "stream",
       "stream": "stdout",
       "text": [
        " 1000\n",
        "1000\n",
        "[ 1.         -0.12703495  0.02062799 -0.01825104 -0.05150668 -0.00742615\n",
        " -0.05150668 -0.01825104  0.02062799 -0.12703495]\n",
        "Shape of Correlation:  (10, 10, 10)\n",
        "DENSITY FIELD MEAN: "
       ]
      },
      {
       "output_type": "stream",
       "stream": "stdout",
       "text": [
        " 997.849212538\n",
        "Corr size:"
       ]
      },
      {
       "output_type": "stream",
       "stream": "stdout",
       "text": [
        " 1000\n",
        "1000\n",
        "[ 1.         -0.13136256  0.0281134   0.03736577 -0.00276823 -0.03967802\n",
        " -0.00276823  0.03736577  0.0281134  -0.13136256]\n",
        "Shape of Correlation:  (10, 10, 10)\n",
        "DENSITY FIELD MEAN: "
       ]
      },
      {
       "output_type": "stream",
       "stream": "stdout",
       "text": [
        " 999.027449429\n",
        "Corr size:"
       ]
      },
      {
       "output_type": "stream",
       "stream": "stdout",
       "text": [
        " 1000\n",
        "1000\n",
        "[ 1.         -0.15196373 -0.0189503  -0.02035026  0.03206373  0.00576268\n",
        "  0.03206373 -0.02035026 -0.0189503  -0.15196373]\n",
        "Shape of Correlation:  (10, 10, 10)\n",
        "11.9822034159 % progress\n",
        "DENSITY FIELD MEAN: "
       ]
      },
      {
       "output_type": "stream",
       "stream": "stdout",
       "text": [
        " 991.559546373\n",
        "Corr size:"
       ]
      },
      {
       "output_type": "stream",
       "stream": "stdout",
       "text": [
        " 1000\n",
        "1000\n",
        "[ 1.         -0.14381721 -0.01262171 -0.02757395 -0.02108209 -0.01497143\n",
        " -0.02108209 -0.02757395 -0.01262171 -0.14381721]\n",
        "Shape of Correlation:  (10, 10, 10)\n",
        "DENSITY FIELD MEAN: "
       ]
      },
      {
       "output_type": "stream",
       "stream": "stdout",
       "text": [
        " 994.120354303\n",
        "Corr size:"
       ]
      },
      {
       "output_type": "stream",
       "stream": "stdout",
       "text": [
        " 1000\n",
        "1000\n",
        "[ 1.         -0.11263377 -0.0585184  -0.07671406  0.00969467  0.12433725\n",
        "  0.00969467 -0.07671406 -0.0585184  -0.11263377]\n",
        "Shape of Correlation:  (10, 10, 10)\n",
        "DENSITY FIELD MEAN: "
       ]
      },
      {
       "output_type": "stream",
       "stream": "stdout",
       "text": [
        " 992.548681329\n",
        "Corr size:"
       ]
      },
      {
       "output_type": "stream",
       "stream": "stdout",
       "text": [
        " 1000\n",
        "1000\n",
        "[ 1.         -0.20259114  0.01502566 -0.03738385  0.01718284 -0.05483604\n",
        "  0.01718284 -0.03738385  0.01502566 -0.20259114]\n",
        "Shape of Correlation:  (10, 10, 10)\n",
        "DENSITY FIELD MEAN: "
       ]
      },
      {
       "output_type": "stream",
       "stream": "stdout",
       "text": [
        " 1000.01791289\n",
        "Corr size:"
       ]
      },
      {
       "output_type": "stream",
       "stream": "stdout",
       "text": [
        " 1000\n",
        "1000\n",
        "[ 1.         -0.13903838  0.01811728 -0.02000171  0.02522751  0.04420616\n",
        "  0.02522751 -0.02000171  0.01811728 -0.13903838]\n",
        "Shape of Correlation:  (10, 10, 10)\n",
        "DENSITY FIELD MEAN: "
       ]
      },
      {
       "output_type": "stream",
       "stream": "stdout",
       "text": [
        " 996.930272036\n",
        "Corr size:"
       ]
      },
      {
       "output_type": "stream",
       "stream": "stdout",
       "text": [
        " 1000\n",
        "1000\n",
        "[ 1.         -0.12006942 -0.00164599 -0.03841147 -0.03386776  0.04552344\n",
        " -0.03386776 -0.03841147 -0.00164599 -0.12006942]\n",
        "Shape of Correlation:  (10, 10, 10)\n",
        "12.9790868971 % progress\n",
        "DENSITY FIELD MEAN: "
       ]
      },
      {
       "output_type": "stream",
       "stream": "stdout",
       "text": [
        " 991.695900618\n",
        "Corr size:"
       ]
      },
      {
       "output_type": "stream",
       "stream": "stdout",
       "text": [
        " 1000\n",
        "1000\n",
        "[ 1.         -0.11048667  0.00339753 -0.05813688 -0.0638714   0.09960892\n",
        " -0.0638714  -0.05813688  0.00339753 -0.11048667]\n",
        "Shape of Correlation:  (10, 10, 10)\n",
        "DENSITY FIELD MEAN: "
       ]
      },
      {
       "output_type": "stream",
       "stream": "stdout",
       "text": [
        " 992.855921738\n",
        "Corr size:"
       ]
      },
      {
       "output_type": "stream",
       "stream": "stdout",
       "text": [
        " 1000\n",
        "1000\n",
        "[ 1.         -0.17907422  0.02083723  0.00659869 -0.00878299 -0.01808066\n",
        " -0.00878299  0.00659869  0.02083723 -0.17907422]\n",
        "Shape of Correlation:  (10, 10, 10)\n",
        "DENSITY FIELD MEAN: "
       ]
      },
      {
       "output_type": "stream",
       "stream": "stdout",
       "text": [
        " 993.581853818\n",
        "Corr size:"
       ]
      },
      {
       "output_type": "stream",
       "stream": "stdout",
       "text": [
        " 1000\n",
        "1000\n",
        "[ 1.         -0.22701702  0.0503665  -0.06721135  0.04172561 -0.03595494\n",
        "  0.04172561 -0.06721135  0.0503665  -0.22701702]\n",
        "Shape of Correlation:  (10, 10, 10)\n",
        "DENSITY FIELD MEAN: "
       ]
      },
      {
       "output_type": "stream",
       "stream": "stdout",
       "text": [
        " 994.642130405\n",
        "Corr size:"
       ]
      },
      {
       "output_type": "stream",
       "stream": "stdout",
       "text": [
        " 1000\n",
        "1000\n",
        "[ 1.         -0.2049009   0.02056995 -0.04688377  0.06376135 -0.08032403\n",
        "  0.06376135 -0.04688377  0.02056995 -0.2049009 ]\n",
        "Shape of Correlation:  (10, 10, 10)\n",
        "DENSITY FIELD MEAN: "
       ]
      },
      {
       "output_type": "stream",
       "stream": "stdout",
       "text": [
        " 1003.84560999\n",
        "Corr size:"
       ]
      },
      {
       "output_type": "stream",
       "stream": "stdout",
       "text": [
        " 1000\n",
        "1000\n",
        "[ 1.         -0.16418864  0.01819542 -0.0123855  -0.07956395  0.05803583\n",
        " -0.07956395 -0.0123855   0.01819542 -0.16418864]\n",
        "Shape of Correlation:  (10, 10, 10)\n",
        "13.9815708473 % progress\n",
        "DENSITY FIELD MEAN: "
       ]
      },
      {
       "output_type": "stream",
       "stream": "stdout",
       "text": [
        " 1005.85797879\n",
        "Corr size:"
       ]
      },
      {
       "output_type": "stream",
       "stream": "stdout",
       "text": [
        " 1000\n",
        "1000\n",
        "[ 1.         -0.12060364  0.0193503   0.01038938 -0.04144502 -0.07876917\n",
        " -0.04144502  0.01038938  0.0193503  -0.12060364]\n",
        "Shape of Correlation:  (10, 10, 10)\n",
        "DENSITY FIELD MEAN: "
       ]
      },
      {
       "output_type": "stream",
       "stream": "stdout",
       "text": [
        " 1003.33470009\n",
        "Corr size:"
       ]
      },
      {
       "output_type": "stream",
       "stream": "stdout",
       "text": [
        " 1000\n",
        "1000\n",
        "[ 1.         -0.17025675 -0.02395105  0.00897164 -0.00514234 -0.04104485\n",
        " -0.00514234  0.00897164 -0.02395105 -0.17025675]\n",
        "Shape of Correlation:  (10, 10, 10)\n",
        "DENSITY FIELD MEAN: "
       ]
      },
      {
       "output_type": "stream",
       "stream": "stdout",
       "text": [
        " 999.750789536\n",
        "Corr size:"
       ]
      },
      {
       "output_type": "stream",
       "stream": "stdout",
       "text": [
        " 1000\n",
        "1000\n",
        "[  1.00000000e+00  -1.80368094e-01  -1.32252056e-02  -3.35105063e-02\n",
        "  -2.76829858e-04   3.75991146e-02  -2.76829858e-04  -3.35105063e-02\n",
        "  -1.32252056e-02  -1.80368094e-01]\n",
        "Shape of Correlation:  (10, 10, 10)\n",
        "DENSITY FIELD MEAN: "
       ]
      },
      {
       "output_type": "stream",
       "stream": "stdout",
       "text": [
        " 1002.25340869\n",
        "Corr size:"
       ]
      },
      {
       "output_type": "stream",
       "stream": "stdout",
       "text": [
        " 1000\n",
        "1000\n",
        "[ 1.         -0.0916558   0.02113092 -0.01975574  0.00141791  0.06985983\n",
        "  0.00141791 -0.01975574  0.02113092 -0.0916558 ]\n",
        "Shape of Correlation:  (10, 10, 10)\n",
        "DENSITY FIELD MEAN: "
       ]
      },
      {
       "output_type": "stream",
       "stream": "stdout",
       "text": [
        " 992.941288799\n",
        "Corr size:"
       ]
      },
      {
       "output_type": "stream",
       "stream": "stdout",
       "text": [
        " 1000\n",
        "1000\n",
        "[ 1.         -0.10437751 -0.00828299 -0.02919621 -0.0057515  -0.01334315\n",
        " -0.0057515  -0.02919621 -0.00828299 -0.10437751]\n",
        "Shape of Correlation:  (10, 10, 10)\n",
        "14.9784543285 % progress\n",
        "DENSITY FIELD MEAN: "
       ]
      },
      {
       "output_type": "stream",
       "stream": "stdout",
       "text": [
        " 995.087211497\n",
        "Corr size:"
       ]
      },
      {
       "output_type": "stream",
       "stream": "stdout",
       "text": [
        " 1000\n",
        "1000\n",
        "[ 1.         -0.14101786 -0.00366509  0.01691445  0.00702494 -0.03861506\n",
        "  0.00702494  0.01691445 -0.00366509 -0.14101786]\n",
        "Shape of Correlation:  (10, 10, 10)\n",
        "DENSITY FIELD MEAN: "
       ]
      },
      {
       "output_type": "stream",
       "stream": "stdout",
       "text": [
        " 1007.64062818\n",
        "Corr size:"
       ]
      },
      {
       "output_type": "stream",
       "stream": "stdout",
       "text": [
        " 1000\n",
        "1000\n",
        "[ 1.         -0.10823157  0.03161605  0.01458133  0.02099851  0.0293171\n",
        "  0.02099851  0.01458133  0.03161605 -0.10823157]\n",
        "Shape of Correlation:  (10, 10, 10)\n",
        "DENSITY FIELD MEAN: "
       ]
      },
      {
       "output_type": "stream",
       "stream": "stdout",
       "text": [
        " 989.950751871\n",
        "Corr size:"
       ]
      },
      {
       "output_type": "stream",
       "stream": "stdout",
       "text": [
        " 1000\n",
        "1000\n",
        "[ 1.         -0.07573891  0.03087007 -0.02436247  0.02220508 -0.01854615\n",
        "  0.02220508 -0.02436247  0.03087007 -0.07573891]\n",
        "Shape of Correlation:  (10, 10, 10)\n",
        "DENSITY FIELD MEAN: "
       ]
      },
      {
       "output_type": "stream",
       "stream": "stdout",
       "text": [
        " 999.5095986\n",
        "Corr size:"
       ]
      },
      {
       "output_type": "stream",
       "stream": "stdout",
       "text": [
        " 1000\n",
        "1000\n",
        "[ 1.         -0.14742109  0.01889453  0.03686451 -0.00970631  0.05209967\n",
        " -0.00970631  0.03686451  0.01889453 -0.14742109]\n",
        "Shape of Correlation:  (10, 10, 10)\n",
        "DENSITY FIELD MEAN: "
       ]
      },
      {
       "output_type": "stream",
       "stream": "stdout",
       "text": [
        " 1000.07824423\n",
        "Corr size:"
       ]
      },
      {
       "output_type": "stream",
       "stream": "stdout",
       "text": [
        " 1000\n",
        "1000\n",
        "[  1.00000000e+00  -1.59614704e-01   3.41000277e-02  -5.04464527e-04\n",
        "  -6.60870737e-03   2.93524803e-02  -6.60870737e-03  -5.04464527e-04\n",
        "   3.41000277e-02  -1.59614704e-01]\n",
        "Shape of Correlation:  (10, 10, 10)\n",
        "15.9781380442 % progress\n",
        "DENSITY FIELD MEAN: "
       ]
      },
      {
       "output_type": "stream",
       "stream": "stdout",
       "text": [
        " 1019.3532504\n",
        "Corr size:"
       ]
      },
      {
       "output_type": "stream",
       "stream": "stdout",
       "text": [
        " 1000\n",
        "1000\n",
        "[ 1.         -0.14037674  0.01257879  0.00268932 -0.03707399  0.00743667\n",
        " -0.03707399  0.00268932  0.01257879 -0.14037674]\n",
        "Shape of Correlation:  (10, 10, 10)\n",
        "DENSITY FIELD MEAN: "
       ]
      },
      {
       "output_type": "stream",
       "stream": "stdout",
       "text": [
        " 1006.5792274\n",
        "Corr size:"
       ]
      },
      {
       "output_type": "stream",
       "stream": "stdout",
       "text": [
        " 1000\n",
        "1000\n",
        "[  1.00000000e+00  -1.29486160e-01   8.28434861e-04  -1.67481505e-02\n",
        "   3.42144110e-02  -3.13765159e-03   3.42144110e-02  -1.67481505e-02\n",
        "   8.28434861e-04  -1.29486160e-01]\n",
        "Shape of Correlation:  (10, 10, 10)\n",
        "DENSITY FIELD MEAN: "
       ]
      },
      {
       "output_type": "stream",
       "stream": "stdout",
       "text": [
        " 1001.99412997\n",
        "Corr size:"
       ]
      },
      {
       "output_type": "stream",
       "stream": "stdout",
       "text": [
        " 1000\n",
        "1000\n",
        "[ 1.         -0.13702199 -0.05582135 -0.03251454  0.0018384   0.03311042\n",
        "  0.0018384  -0.03251454 -0.05582135 -0.13702199]\n",
        "Shape of Correlation:  (10, 10, 10)\n",
        "DENSITY FIELD MEAN: "
       ]
      },
      {
       "output_type": "stream",
       "stream": "stdout",
       "text": [
        " 981.15170468\n",
        "Corr size:"
       ]
      },
      {
       "output_type": "stream",
       "stream": "stdout",
       "text": [
        " 1000\n",
        "1000\n",
        "[ 1.         -0.20872147  0.02571423 -0.05185366 -0.00527213  0.01992719\n",
        " -0.00527213 -0.05185366  0.02571423 -0.20872147]\n",
        "Shape of Correlation:  (10, 10, 10)\n",
        "DENSITY FIELD MEAN: "
       ]
      },
      {
       "output_type": "stream",
       "stream": "stdout",
       "text": [
        " 1007.1010414\n",
        "Corr size:"
       ]
      },
      {
       "output_type": "stream",
       "stream": "stdout",
       "text": [
        " 1000\n",
        "1000\n",
        "[ 1.         -0.11794362  0.04394034 -0.06143041 -0.00107177 -0.00802683\n",
        " -0.00107177 -0.06143041  0.04394034 -0.11794362]\n",
        "Shape of Correlation:  (10, 10, 10)\n",
        "16.9764216427 % progress\n",
        "DENSITY FIELD MEAN: "
       ]
      },
      {
       "output_type": "stream",
       "stream": "stdout",
       "text": [
        " 988.990542196\n",
        "Corr size:"
       ]
      },
      {
       "output_type": "stream",
       "stream": "stdout",
       "text": [
        " 1000\n",
        "1000\n",
        "[ 1.         -0.14968547  0.02162002 -0.0177344   0.01125832 -0.02956402\n",
        "  0.01125832 -0.0177344   0.02162002 -0.14968547]\n",
        "Shape of Correlation:  (10, 10, 10)\n",
        "DENSITY FIELD MEAN: "
       ]
      },
      {
       "output_type": "stream",
       "stream": "stdout",
       "text": [
        " 1006.6922565\n",
        "Corr size:"
       ]
      },
      {
       "output_type": "stream",
       "stream": "stdout",
       "text": [
        " 1000\n",
        "1000\n",
        "[ 1.         -0.14947474  0.00187509 -0.06771702 -0.04234453  0.09668656\n",
        " -0.04234453 -0.06771702  0.00187509 -0.14947474]\n",
        "Shape of Correlation:  (10, 10, 10)\n",
        "DENSITY FIELD MEAN: "
       ]
      },
      {
       "output_type": "stream",
       "stream": "stdout",
       "text": [
        " 1003.70702388\n",
        "Corr size:"
       ]
      },
      {
       "output_type": "stream",
       "stream": "stdout",
       "text": [
        " 1000\n",
        "1000\n",
        "[ 1.         -0.10940201  0.04642222  0.00433473 -0.07509563  0.03461503\n",
        " -0.07509563  0.00433473  0.04642222 -0.10940201]\n",
        "Shape of Correlation:  (10, 10, 10)\n",
        "DENSITY FIELD MEAN: "
       ]
      },
      {
       "output_type": "stream",
       "stream": "stdout",
       "text": [
        " 990.690875433\n",
        "Corr size:"
       ]
      },
      {
       "output_type": "stream",
       "stream": "stdout",
       "text": [
        " 1000\n",
        "1000\n",
        "[ 1.         -0.20248115  0.01458057  0.03657499 -0.00428072 -0.07269059\n",
        " -0.00428072  0.03657499  0.01458057 -0.20248115]\n",
        "Shape of Correlation:  (10, 10, 10)\n",
        "DENSITY FIELD MEAN: "
       ]
      },
      {
       "output_type": "stream",
       "stream": "stdout",
       "text": [
        " 994.505235779\n",
        "Corr size:"
       ]
      },
      {
       "output_type": "stream",
       "stream": "stdout",
       "text": [
        " 1000\n",
        "1000\n",
        "[ 1.         -0.0769696  -0.01724192  0.00307588 -0.06805351 -0.08138752\n",
        " -0.06805351  0.00307588 -0.01724192 -0.0769696 ]\n",
        "Shape of Correlation:  (10, 10, 10)\n",
        "17.9733051239 % progress\n",
        "DENSITY FIELD MEAN: "
       ]
      },
      {
       "output_type": "stream",
       "stream": "stdout",
       "text": [
        " 999.983440009\n",
        "Corr size:"
       ]
      },
      {
       "output_type": "stream",
       "stream": "stdout",
       "text": [
        " 1000\n",
        "1000\n",
        "[ 1.         -0.11838409  0.05099094 -0.01408777  0.1022647  -0.10522144\n",
        "  0.1022647  -0.01408777  0.05099094 -0.11838409]\n",
        "Shape of Correlation:  (10, 10, 10)\n",
        "DENSITY FIELD MEAN: "
       ]
      },
      {
       "output_type": "stream",
       "stream": "stdout",
       "text": [
        " 999.165174685\n",
        "Corr size:"
       ]
      },
      {
       "output_type": "stream",
       "stream": "stdout",
       "text": [
        " 1000\n",
        "1000\n",
        "[ 1.         -0.13654962 -0.00690065  0.01110763 -0.00677728  0.01411094\n",
        " -0.00677728  0.01110763 -0.00690065 -0.13654962]\n",
        "Shape of Correlation:  (10, 10, 10)\n",
        "DENSITY FIELD MEAN: "
       ]
      },
      {
       "output_type": "stream",
       "stream": "stdout",
       "text": [
        " 990.06980243\n",
        "Corr size:"
       ]
      },
      {
       "output_type": "stream",
       "stream": "stdout",
       "text": [
        " 1000\n",
        "1000\n",
        "[ 1.         -0.07799948 -0.02444198 -0.01874847 -0.00538841  0.00483862\n",
        " -0.00538841 -0.01874847 -0.02444198 -0.07799948]\n",
        "Shape of Correlation:  (10, 10, 10)\n",
        "DENSITY FIELD MEAN: "
       ]
      },
      {
       "output_type": "stream",
       "stream": "stdout",
       "text": [
        " 979.42286255\n",
        "Corr size:"
       ]
      },
      {
       "output_type": "stream",
       "stream": "stdout",
       "text": [
        " 1000\n",
        "1000\n",
        "[ 1.         -0.17352833 -0.02268263  0.03699483 -0.00257913  0.03948777\n",
        " -0.00257913  0.03699483 -0.02268263 -0.17352833]\n",
        "Shape of Correlation:  (10, 10, 10)\n",
        "DENSITY FIELD MEAN: "
       ]
      },
      {
       "output_type": "stream",
       "stream": "stdout",
       "text": [
        " 988.659430661\n",
        "Corr size:"
       ]
      },
      {
       "output_type": "stream",
       "stream": "stdout",
       "text": [
        " 1000\n",
        "1000\n",
        "[ 1.         -0.12053677 -0.00678264 -0.0145061   0.01642538  0.00981392\n",
        "  0.01642538 -0.0145061  -0.00678264 -0.12053677]\n",
        "Shape of Correlation:  (10, 10, 10)\n",
        "18.9687884878 % progress\n",
        "DENSITY FIELD MEAN: "
       ]
      },
      {
       "output_type": "stream",
       "stream": "stdout",
       "text": [
        " 992.84738557\n",
        "Corr size:"
       ]
      },
      {
       "output_type": "stream",
       "stream": "stdout",
       "text": [
        " 1000\n",
        "1000\n",
        "[ 1.         -0.1223674  -0.01521317 -0.03972379 -0.02250122 -0.04101\n",
        " -0.02250122 -0.03972379 -0.01521317 -0.1223674 ]\n",
        "Shape of Correlation:  (10, 10, 10)\n",
        "DENSITY FIELD MEAN: "
       ]
      },
      {
       "output_type": "stream",
       "stream": "stdout",
       "text": [
        " 999.113524748\n",
        "Corr size:"
       ]
      },
      {
       "output_type": "stream",
       "stream": "stdout",
       "text": [
        " 1000\n",
        "1000\n",
        "[ 1.         -0.12670962  0.02485453  0.01424429 -0.00645651 -0.04190555\n",
        " -0.00645651  0.01424429  0.02485453 -0.12670962]\n",
        "Shape of Correlation:  (10, 10, 10)\n",
        "DENSITY FIELD MEAN: "
       ]
      },
      {
       "output_type": "stream",
       "stream": "stdout",
       "text": [
        " 1004.06220187\n",
        "Corr size:"
       ]
      },
      {
       "output_type": "stream",
       "stream": "stdout",
       "text": [
        " 1000\n",
        "1000\n",
        "[ 1.         -0.07714817  0.01835327 -0.03706088 -0.03486217 -0.01236703\n",
        " -0.03486217 -0.03706088  0.01835327 -0.07714817]\n",
        "Shape of Correlation:  (10, 10, 10)\n",
        "DENSITY FIELD MEAN: "
       ]
      },
      {
       "output_type": "stream",
       "stream": "stdout",
       "text": [
        " 1004.33953041\n",
        "Corr size:"
       ]
      },
      {
       "output_type": "stream",
       "stream": "stdout",
       "text": [
        " 1000\n",
        "1000\n",
        "[ 1.         -0.12710791  0.0098471   0.02148567  0.00920022  0.0070873\n",
        "  0.00920022  0.02148567  0.0098471  -0.12710791]\n",
        "Shape of Correlation:  (10, 10, 10)\n",
        "DENSITY FIELD MEAN: "
       ]
      },
      {
       "output_type": "stream",
       "stream": "stdout",
       "text": [
        " 999.440701154\n",
        "Corr size:"
       ]
      },
      {
       "output_type": "stream",
       "stream": "stdout",
       "text": [
        " 1000\n",
        "1000\n",
        "[ 1.         -0.13827266  0.00174298  0.04934296  0.02707789 -0.02424267\n",
        "  0.02707789  0.04934296  0.00174298 -0.13827266]\n",
        "Shape of Correlation:  (10, 10, 10)\n",
        "19.965671969 % progress\n",
        "DENSITY FIELD MEAN: "
       ]
      },
      {
       "output_type": "stream",
       "stream": "stdout",
       "text": [
        " 985.669159488\n",
        "Corr size:"
       ]
      },
      {
       "output_type": "stream",
       "stream": "stdout",
       "text": [
        " 1000\n",
        "1000\n",
        "[ 1.         -0.11402526  0.01399421 -0.03734904  0.01037318  0.04001946\n",
        "  0.01037318 -0.03734904  0.01399421 -0.11402526]\n",
        "Shape of Correlation:  (10, 10, 10)\n",
        "DENSITY FIELD MEAN: "
       ]
      },
      {
       "output_type": "stream",
       "stream": "stdout",
       "text": [
        " 994.659244\n",
        "Corr size:"
       ]
      },
      {
       "output_type": "stream",
       "stream": "stdout",
       "text": [
        " 1000\n",
        "1000\n",
        "[ 1.         -0.11219266  0.01694374 -0.01068772  0.0127476  -0.01763229\n",
        "  0.0127476  -0.01068772  0.01694374 -0.11219266]\n",
        "Shape of Correlation:  (10, 10, 10)\n",
        "DENSITY FIELD MEAN: "
       ]
      },
      {
       "output_type": "stream",
       "stream": "stdout",
       "text": [
        " 1007.32727281\n",
        "Corr size:"
       ]
      },
      {
       "output_type": "stream",
       "stream": "stdout",
       "text": [
        " 1000\n",
        "1000\n",
        "[ 1.         -0.11435778 -0.01403683  0.01558261 -0.00556756 -0.01789343\n",
        " -0.00556756  0.01558261 -0.01403683 -0.11435778]\n",
        "Shape of Correlation:  (10, 10, 10)\n",
        "DENSITY FIELD MEAN: "
       ]
      },
      {
       "output_type": "stream",
       "stream": "stdout",
       "text": [
        " 999.604342928\n",
        "Corr size:"
       ]
      },
      {
       "output_type": "stream",
       "stream": "stdout",
       "text": [
        " 1000\n",
        "1000\n",
        "[ 1.         -0.14592081  0.06681906  0.02406637  0.02973668  0.01626744\n",
        "  0.02973668  0.02406637  0.06681906 -0.14592081]\n",
        "Shape of Correlation:  (10, 10, 10)\n",
        "DENSITY FIELD MEAN: "
       ]
      },
      {
       "output_type": "stream",
       "stream": "stdout",
       "text": [
        " 990.861123072\n",
        "Corr size:"
       ]
      },
      {
       "output_type": "stream",
       "stream": "stdout",
       "text": [
        " 1000\n",
        "1000\n",
        "[ 1.         -0.13310249 -0.01231081 -0.02618558 -0.00618388  0.01706294\n",
        " -0.00618388 -0.02618558 -0.01231081 -0.13310249]\n",
        "Shape of Correlation:  (10, 10, 10)\n",
        "20.9653556847 % progress\n",
        "DENSITY FIELD MEAN: "
       ]
      },
      {
       "output_type": "stream",
       "stream": "stdout",
       "text": [
        " 1007.33597537\n",
        "Corr size:"
       ]
      },
      {
       "output_type": "stream",
       "stream": "stdout",
       "text": [
        " 1000\n",
        "1000\n",
        "[ 1.         -0.11662822 -0.03750374  0.09082752 -0.00941989 -0.06819286\n",
        " -0.00941989  0.09082752 -0.03750374 -0.11662822]\n",
        "Shape of Correlation:  (10, 10, 10)\n",
        "DENSITY FIELD MEAN: "
       ]
      },
      {
       "output_type": "stream",
       "stream": "stdout",
       "text": [
        " 1003.21351813\n",
        "Corr size:"
       ]
      },
      {
       "output_type": "stream",
       "stream": "stdout",
       "text": [
        " 1000\n",
        "1000\n",
        "[ 1.         -0.14987713 -0.04198106  0.01254323 -0.02394179  0.01296184\n",
        " -0.02394179  0.01254323 -0.04198106 -0.14987713]\n",
        "Shape of Correlation:  (10, 10, 10)\n",
        "DENSITY FIELD MEAN: "
       ]
      },
      {
       "output_type": "stream",
       "stream": "stdout",
       "text": [
        " 996.76721367\n",
        "Corr size:"
       ]
      },
      {
       "output_type": "stream",
       "stream": "stdout",
       "text": [
        " 1000\n",
        "1000\n",
        "[  1.00000000e+00  -1.34725579e-01   3.48029242e-04  -4.82836149e-02\n",
        "  -6.57386611e-03   7.90413722e-03  -6.57386611e-03  -4.82836149e-02\n",
        "   3.48029242e-04  -1.34725579e-01]\n",
        "Shape of Correlation:  (10, 10, 10)\n",
        "DENSITY FIELD MEAN: "
       ]
      },
      {
       "output_type": "stream",
       "stream": "stdout",
       "text": [
        " 1010.30940373\n",
        "Corr size:"
       ]
      },
      {
       "output_type": "stream",
       "stream": "stdout",
       "text": [
        " 1000\n",
        "1000\n",
        "[ 1.         -0.13014583 -0.07865543  0.03775875  0.03811069 -0.0426548\n",
        "  0.03811069  0.03775875 -0.07865543 -0.13014583]\n",
        "Shape of Correlation:  (10, 10, 10)\n",
        "DENSITY FIELD MEAN: "
       ]
      },
      {
       "output_type": "stream",
       "stream": "stdout",
       "text": [
        " 996.458358481\n",
        "Corr size:"
       ]
      },
      {
       "output_type": "stream",
       "stream": "stdout",
       "text": [
        " 1000\n",
        "1000\n",
        "[ 1.         -0.09148533 -0.02684088  0.08077578  0.03117739 -0.02949539\n",
        "  0.03117739  0.08077578 -0.02684088 -0.09148533]\n",
        "Shape of Correlation:  (10, 10, 10)\n",
        "21.9678396349 % progress\n",
        "DENSITY FIELD MEAN: "
       ]
      },
      {
       "output_type": "stream",
       "stream": "stdout",
       "text": [
        " 1001.40676256\n",
        "Corr size:"
       ]
      },
      {
       "output_type": "stream",
       "stream": "stdout",
       "text": [
        " 1000\n",
        "1000\n",
        "[ 1.         -0.15310748 -0.01804268  0.01592292  0.00377474 -0.02247902\n",
        "  0.00377474  0.01592292 -0.01804268 -0.15310748]\n",
        "Shape of Correlation:  (10, 10, 10)\n",
        "DENSITY FIELD MEAN: "
       ]
      },
      {
       "output_type": "stream",
       "stream": "stdout",
       "text": [
        " 1004.28752353\n",
        "Corr size:"
       ]
      },
      {
       "output_type": "stream",
       "stream": "stdout",
       "text": [
        " 1000\n",
        "1000\n",
        "[ 1.         -0.14902425  0.00284014  0.0174373   0.03502809  0.03826899\n",
        "  0.03502809  0.0174373   0.00284014 -0.14902425]\n",
        "Shape of Correlation:  (10, 10, 10)\n",
        "DENSITY FIELD MEAN: "
       ]
      },
      {
       "output_type": "stream",
       "stream": "stdout",
       "text": [
        " 1006.52706583\n",
        "Corr size:"
       ]
      },
      {
       "output_type": "stream",
       "stream": "stdout",
       "text": [
        " 1000\n",
        "1000\n",
        "[ 1.         -0.11619539  0.00436902  0.00609436 -0.03646876 -0.1179549\n",
        " -0.03646876  0.00609436  0.00436902 -0.11619539]\n",
        "Shape of Correlation:  (10, 10, 10)\n",
        "DENSITY FIELD MEAN: "
       ]
      },
      {
       "output_type": "stream",
       "stream": "stdout",
       "text": [
        " 1007.21414863\n",
        "Corr size:"
       ]
      },
      {
       "output_type": "stream",
       "stream": "stdout",
       "text": [
        " 1000\n",
        "1000\n",
        "[ 1.         -0.15403545  0.0067517   0.06376381 -0.02838127  0.00544898\n",
        " -0.02838127  0.06376381  0.0067517  -0.15403545]\n",
        "Shape of Correlation:  (10, 10, 10)\n",
        "DENSITY FIELD MEAN: "
       ]
      },
      {
       "output_type": "stream",
       "stream": "stdout",
       "text": [
        " 1008.79071047\n",
        "Corr size:"
       ]
      },
      {
       "output_type": "stream",
       "stream": "stdout",
       "text": [
        " 1000\n",
        "1000\n",
        "[ 1.         -0.15768257 -0.01943169 -0.0642581   0.0132061   0.02061976\n",
        "  0.0132061  -0.0642581  -0.01943169 -0.15768257]\n",
        "Shape of Correlation:  (10, 10, 10)\n",
        "22.9647231161 % progress\n",
        "DENSITY FIELD MEAN: "
       ]
      },
      {
       "output_type": "stream",
       "stream": "stdout",
       "text": [
        " 1007.35338079\n",
        "Corr size:"
       ]
      },
      {
       "output_type": "stream",
       "stream": "stdout",
       "text": [
        " 1000\n",
        "1000\n",
        "[ 1.         -0.1389356  -0.00181779  0.07786294  0.0039662   0.02478757\n",
        "  0.0039662   0.07786294 -0.00181779 -0.1389356 ]\n",
        "Shape of Correlation:  (10, 10, 10)\n",
        "DENSITY FIELD MEAN: "
       ]
      },
      {
       "output_type": "stream",
       "stream": "stdout",
       "text": [
        " 995.267031059\n",
        "Corr size:"
       ]
      },
      {
       "output_type": "stream",
       "stream": "stdout",
       "text": [
        " 1000\n",
        "1000\n",
        "[  1.00000000e+00  -8.80250565e-02   1.79830382e-03  -2.73064459e-02\n",
        "  -9.39382106e-04   7.80763815e-03  -9.39382106e-04  -2.73064459e-02\n",
        "   1.79830382e-03  -8.80250565e-02]\n",
        "Shape of Correlation:  (10, 10, 10)\n",
        "DENSITY FIELD MEAN: "
       ]
      },
      {
       "output_type": "stream",
       "stream": "stdout",
       "text": [
        " 1002.02005382\n",
        "Corr size:"
       ]
      },
      {
       "output_type": "stream",
       "stream": "stdout",
       "text": [
        " 1000\n",
        "1000\n",
        "[ 1.         -0.15186666 -0.02370767  0.0181899   0.00831928  0.00804084\n",
        "  0.00831928  0.0181899  -0.02370767 -0.15186666]\n",
        "Shape of Correlation:  (10, 10, 10)\n",
        "DENSITY FIELD MEAN: "
       ]
      },
      {
       "output_type": "stream",
       "stream": "stdout",
       "text": [
        " 986.557355428\n",
        "Corr size:"
       ]
      },
      {
       "output_type": "stream",
       "stream": "stdout",
       "text": [
        " 1000\n",
        "1000\n",
        "[ 1.         -0.16280793 -0.03518217  0.04872078 -0.02588533 -0.05100005\n",
        " -0.02588533  0.04872078 -0.03518217 -0.16280793]\n",
        "Shape of Correlation:  (10, 10, 10)\n",
        "DENSITY FIELD MEAN: "
       ]
      },
      {
       "output_type": "stream",
       "stream": "stdout",
       "text": [
        " 976.236031839\n",
        "Corr size:"
       ]
      },
      {
       "output_type": "stream",
       "stream": "stdout",
       "text": [
        " 1000\n",
        "1000\n",
        "[ 1.         -0.13794647  0.05658929 -0.06430298  0.03661556  0.02025858\n",
        "  0.03661556 -0.06430298  0.05658929 -0.13794647]\n",
        "Shape of Correlation:  (10, 10, 10)\n",
        "23.9616065974 % progress\n",
        "DENSITY FIELD MEAN: "
       ]
      },
      {
       "output_type": "stream",
       "stream": "stdout",
       "text": [
        " 992.275685157\n",
        "Corr size:"
       ]
      },
      {
       "output_type": "stream",
       "stream": "stdout",
       "text": [
        " 1000\n",
        "1000\n",
        "[ 1.         -0.09714325 -0.06107186 -0.00822952 -0.00723046 -0.02628231\n",
        " -0.00723046 -0.00822952 -0.06107186 -0.09714325]\n",
        "Shape of Correlation:  (10, 10, 10)\n",
        "DENSITY FIELD MEAN: "
       ]
      },
      {
       "output_type": "stream",
       "stream": "stdout",
       "text": [
        " 1005.4585474\n",
        "Corr size:"
       ]
      },
      {
       "output_type": "stream",
       "stream": "stdout",
       "text": [
        " 1000\n",
        "1000\n",
        "[ 1.         -0.10452561 -0.00364869  0.04537791  0.02630575 -0.00938117\n",
        "  0.02630575  0.04537791 -0.00364869 -0.10452561]\n",
        "Shape of Correlation:  (10, 10, 10)\n",
        "DENSITY FIELD MEAN: "
       ]
      },
      {
       "output_type": "stream",
       "stream": "stdout",
       "text": [
        " 1002.04597856\n",
        "Corr size:"
       ]
      },
      {
       "output_type": "stream",
       "stream": "stdout",
       "text": [
        " 1000\n",
        "1000\n",
        "[ 1.         -0.07264557 -0.04050578  0.0048329  -0.01266118  0.03991574\n",
        " -0.01266118  0.0048329  -0.04050578 -0.07264557]\n",
        "Shape of Correlation:  (10, 10, 10)\n",
        "DENSITY FIELD MEAN: "
       ]
      },
      {
       "output_type": "stream",
       "stream": "stdout",
       "text": [
        " 1003.50785103\n",
        "Corr size:"
       ]
      },
      {
       "output_type": "stream",
       "stream": "stdout",
       "text": [
        " 1000\n",
        "1000\n",
        "[ 1.         -0.15382767 -0.02048984  0.01184257  0.09045774 -0.04517414\n",
        "  0.09045774  0.01184257 -0.02048984 -0.15382767]\n",
        "Shape of Correlation:  (10, 10, 10)\n",
        "DENSITY FIELD MEAN: "
       ]
      },
      {
       "output_type": "stream",
       "stream": "stdout",
       "text": [
        " 995.75533118\n",
        "Corr size:"
       ]
      },
      {
       "output_type": "stream",
       "stream": "stdout",
       "text": [
        " 1000\n",
        "1000\n",
        "[ 1.         -0.12444269 -0.02623295  0.01167993 -0.03148448 -0.12427386\n",
        " -0.03148448  0.01167993 -0.02623295 -0.12444269]\n",
        "Shape of Correlation:  (10, 10, 10)\n",
        "24.9598901958 % progress\n",
        "DENSITY FIELD MEAN: "
       ]
      },
      {
       "output_type": "stream",
       "stream": "stdout",
       "text": [
        " 990.954775901\n",
        "Corr size:"
       ]
      },
      {
       "output_type": "stream",
       "stream": "stdout",
       "text": [
        " 1000\n",
        "1000\n",
        "[ 1.         -0.12026173 -0.03400468 -0.04117326  0.00885847  0.01714407\n",
        "  0.00885847 -0.04117326 -0.03400468 -0.12026173]\n",
        "Shape of Correlation:  (10, 10, 10)\n",
        "DENSITY FIELD MEAN: "
       ]
      },
      {
       "output_type": "stream",
       "stream": "stdout",
       "text": [
        " 1005.9882739\n",
        "Corr size:"
       ]
      },
      {
       "output_type": "stream",
       "stream": "stdout",
       "text": [
        " 1000\n",
        "1000\n",
        "[  1.00000000e+00  -1.18378149e-01  -5.71590775e-04   1.65727533e-02\n",
        "  -9.91590790e-03   7.98014846e-02  -9.91590790e-03   1.65727533e-02\n",
        "  -5.71590775e-04  -1.18378149e-01]\n",
        "Shape of Correlation:  (10, 10, 10)\n",
        "DENSITY FIELD MEAN: "
       ]
      },
      {
       "output_type": "stream",
       "stream": "stdout",
       "text": [
        " 998.717660136\n",
        "Corr size:"
       ]
      },
      {
       "output_type": "stream",
       "stream": "stdout",
       "text": [
        " 1000\n",
        "1000\n",
        "[  1.00000000e+00  -1.53150601e-01  -5.99378088e-04  -3.93984936e-02\n",
        "   7.00608533e-03  -4.33313550e-02   7.00608533e-03  -3.93984936e-02\n",
        "  -5.99378088e-04  -1.53150601e-01]\n",
        "Shape of Correlation:  (10, 10, 10)\n",
        "DENSITY FIELD MEAN: "
       ]
      },
      {
       "output_type": "stream",
       "stream": "stdout",
       "text": [
        " 999.931733666\n",
        "Corr size:"
       ]
      },
      {
       "output_type": "stream",
       "stream": "stdout",
       "text": [
        " 1000\n",
        "1000\n",
        "[ 1.         -0.10189411 -0.01261628 -0.03046867 -0.02555254  0.02842489\n",
        " -0.02555254 -0.03046867 -0.01261628 -0.10189411]\n",
        "Shape of Correlation:  (10, 10, 10)\n",
        "DENSITY FIELD MEAN: "
       ]
      },
      {
       "output_type": "stream",
       "stream": "stdout",
       "text": [
        " 992.258626221\n",
        "Corr size:"
       ]
      },
      {
       "output_type": "stream",
       "stream": "stdout",
       "text": [
        " 1000\n",
        "1000\n",
        "[ 1.         -0.15454898 -0.03208883  0.02740298 -0.04169553 -0.01027417\n",
        " -0.04169553  0.02740298 -0.03208883 -0.15454898]\n",
        "Shape of Correlation:  (10, 10, 10)\n",
        "25.9595739115 % progress\n",
        "DENSITY FIELD MEAN: "
       ]
      },
      {
       "output_type": "stream",
       "stream": "stdout",
       "text": [
        " 990.810044685\n",
        "Corr size:"
       ]
      },
      {
       "output_type": "stream",
       "stream": "stdout",
       "text": [
        " 1000\n",
        "1000\n",
        "[ 1.         -0.09755299 -0.02805557  0.02566575 -0.03549027  0.07866398\n",
        " -0.03549027  0.02566575 -0.02805557 -0.09755299]\n",
        "Shape of Correlation:  (10, 10, 10)\n",
        "DENSITY FIELD MEAN: "
       ]
      },
      {
       "output_type": "stream",
       "stream": "stdout",
       "text": [
        " 992.045422505\n",
        "Corr size:"
       ]
      },
      {
       "output_type": "stream",
       "stream": "stdout",
       "text": [
        " 1000\n",
        "1000\n",
        "[ 1.         -0.13916985 -0.06943025  0.02699061 -0.00710974 -0.06050838\n",
        " -0.00710974  0.02699061 -0.06943025 -0.13916985]\n",
        "Shape of Correlation:  (10, 10, 10)\n",
        "DENSITY FIELD MEAN: "
       ]
      },
      {
       "output_type": "stream",
       "stream": "stdout",
       "text": [
        " 1000.81985414\n",
        "Corr size:"
       ]
      },
      {
       "output_type": "stream",
       "stream": "stdout",
       "text": [
        " 1000\n",
        "1000\n",
        "[ 1.         -0.08208734  0.01781028  0.00794144  0.04937198 -0.05259053\n",
        "  0.04937198  0.00794144  0.01781028 -0.08208734]\n",
        "Shape of Correlation:  (10, 10, 10)\n",
        "DENSITY FIELD MEAN: "
       ]
      },
      {
       "output_type": "stream",
       "stream": "stdout",
       "text": [
        " 1003.90624944\n",
        "Corr size:"
       ]
      },
      {
       "output_type": "stream",
       "stream": "stdout",
       "text": [
        " 1000\n",
        "1000\n",
        "[ 1.         -0.1564309   0.00870447  0.02902428 -0.02543327  0.01923338\n",
        " -0.02543327  0.02902428  0.00870447 -0.1564309 ]\n",
        "Shape of Correlation:  (10, 10, 10)\n",
        "DENSITY FIELD MEAN: "
       ]
      },
      {
       "output_type": "stream",
       "stream": "stdout",
       "text": [
        " 996.089615324\n",
        "Corr size:"
       ]
      },
      {
       "output_type": "stream",
       "stream": "stdout",
       "text": [
        " 1000\n",
        "1000\n",
        "[ 1.         -0.12717875 -0.00224315 -0.02576431 -0.00810909 -0.00160201\n",
        " -0.00810909 -0.02576431 -0.00224315 -0.12717875]\n",
        "Shape of Correlation:  (10, 10, 10)\n",
        "26.9550572755 % progress\n",
        "DENSITY FIELD MEAN: "
       ]
      },
      {
       "output_type": "stream",
       "stream": "stdout",
       "text": [
        " 998.87253877\n",
        "Corr size:"
       ]
      },
      {
       "output_type": "stream",
       "stream": "stdout",
       "text": [
        " 1000\n",
        "1000\n",
        "[ 1.         -0.18463589  0.02289841  0.02617373 -0.03216559 -0.0125857\n",
        " -0.03216559  0.02617373  0.02289841 -0.18463589]\n",
        "Shape of Correlation:  (10, 10, 10)\n",
        "DENSITY FIELD MEAN: "
       ]
      },
      {
       "output_type": "stream",
       "stream": "stdout",
       "text": [
        " 991.627720371\n",
        "Corr size:"
       ]
      },
      {
       "output_type": "stream",
       "stream": "stdout",
       "text": [
        " 1000\n",
        "1000\n",
        "[ 1.         -0.17365923 -0.02759463  0.04293816 -0.02671971  0.01675967\n",
        " -0.02671971  0.04293816 -0.02759463 -0.17365923]\n",
        "Shape of Correlation:  (10, 10, 10)\n",
        "DENSITY FIELD MEAN: "
       ]
      },
      {
       "output_type": "stream",
       "stream": "stdout",
       "text": [
        " 999.06187837\n",
        "Corr size:"
       ]
      },
      {
       "output_type": "stream",
       "stream": "stdout",
       "text": [
        " 1000\n",
        "1000\n",
        "[ 1.         -0.11939502 -0.05682036  0.05996398 -0.05304322 -0.03998548\n",
        " -0.05304322  0.05996398 -0.05682036 -0.11939502]\n",
        "Shape of Correlation:  (10, 10, 10)\n",
        "DENSITY FIELD MEAN: "
       ]
      },
      {
       "output_type": "stream",
       "stream": "stdout",
       "text": [
        " 1002.04597856\n",
        "Corr size:"
       ]
      },
      {
       "output_type": "stream",
       "stream": "stdout",
       "text": [
        " 1000\n",
        "1000\n",
        "[ 1.         -0.08538615  0.01003257 -0.01336787 -0.08567758  0.03985464\n",
        " -0.08567758 -0.01336787  0.01003257 -0.08538615]\n",
        "Shape of Correlation:  (10, 10, 10)\n",
        "DENSITY FIELD MEAN: "
       ]
      },
      {
       "output_type": "stream",
       "stream": "stdout",
       "text": [
        " 991.627720371\n",
        "Corr size:"
       ]
      },
      {
       "output_type": "stream",
       "stream": "stdout",
       "text": [
        " 1000\n",
        "1000\n",
        "[ 1.         -0.11792733 -0.01609261  0.00115582 -0.00197564  0.0303335\n",
        " -0.00197564  0.00115582 -0.01609261 -0.11792733]\n",
        "Shape of Correlation:  (10, 10, 10)\n",
        "27.9519407567 % progress\n",
        "DENSITY FIELD MEAN: "
       ]
      },
      {
       "output_type": "stream",
       "stream": "stdout",
       "text": [
        " 998.674643976\n",
        "Corr size:"
       ]
      },
      {
       "output_type": "stream",
       "stream": "stdout",
       "text": [
        " 1000\n",
        "1000\n",
        "[ 1.         -0.14749644 -0.02389878  0.00117501  0.022898   -0.04589421\n",
        "  0.022898    0.00117501 -0.02389878 -0.14749644]\n",
        "Shape of Correlation:  (10, 10, 10)\n",
        "DENSITY FIELD MEAN: "
       ]
      },
      {
       "output_type": "stream",
       "stream": "stdout",
       "text": [
        " 986.421942387\n",
        "Corr size:"
       ]
      },
      {
       "output_type": "stream",
       "stream": "stdout",
       "text": [
        " 1000\n",
        "1000\n",
        "[ 1.         -0.12696942  0.01441333 -0.00109661  0.03764578  0.01951973\n",
        "  0.03764578 -0.00109661  0.01441333 -0.12696942]\n",
        "Shape of Correlation:  (10, 10, 10)\n",
        "DENSITY FIELD MEAN: "
       ]
      },
      {
       "output_type": "stream",
       "stream": "stdout",
       "text": [
        " 994.043401841\n",
        "Corr size:"
       ]
      },
      {
       "output_type": "stream",
       "stream": "stdout",
       "text": [
        " 1000\n",
        "1000\n",
        "[ 1.         -0.0792055  -0.03846635 -0.00557947 -0.0428366   0.11851532\n",
        " -0.0428366  -0.00557947 -0.03846635 -0.0792055 ]\n",
        "Shape of Correlation:  (10, 10, 10)\n",
        "DENSITY FIELD MEAN: "
       ]
      },
      {
       "output_type": "stream",
       "stream": "stdout",
       "text": [
        " 983.044655442\n",
        "Corr size:"
       ]
      },
      {
       "output_type": "stream",
       "stream": "stdout",
       "text": [
        " 1000\n",
        "1000\n",
        "[ 1.         -0.13551888 -0.0087933  -0.03549624  0.00118177  0.01996781\n",
        "  0.00118177 -0.03549624 -0.0087933  -0.13551888]\n",
        "Shape of Correlation:  (10, 10, 10)\n",
        "DENSITY FIELD MEAN: "
       ]
      },
      {
       "output_type": "stream",
       "stream": "stdout",
       "text": [
        " 1002.78088468\n",
        "Corr size:"
       ]
      },
      {
       "output_type": "stream",
       "stream": "stdout",
       "text": [
        " 1000\n",
        "1000\n",
        "[  1.00000000e+00  -1.17029285e-01  -6.58088794e-04  -5.22475218e-02\n",
        "   2.89751887e-03  -6.27689638e-02   2.89751887e-03  -5.22475218e-02\n",
        "  -6.58088794e-04  -1.17029285e-01]\n",
        "Shape of Correlation:  (10, 10, 10)\n",
        "28.9502243551 % progress\n",
        "DENSITY FIELD MEAN: "
       ]
      },
      {
       "output_type": "stream",
       "stream": "stdout",
       "text": [
        " 994.75337579\n",
        "Corr size:"
       ]
      },
      {
       "output_type": "stream",
       "stream": "stdout",
       "text": [
        " 1000\n",
        "1000\n",
        "[ 1.         -0.11923723 -0.00455329  0.01159119 -0.01896692 -0.00520003\n",
        " -0.01896692  0.01159119 -0.00455329 -0.11923723]\n",
        "Shape of Correlation:  (10, 10, 10)\n",
        "DENSITY FIELD MEAN: "
       ]
      },
      {
       "output_type": "stream",
       "stream": "stdout",
       "text": [
        " 993.804044967\n",
        "Corr size:"
       ]
      },
      {
       "output_type": "stream",
       "stream": "stdout",
       "text": [
        " 1000\n",
        "1000\n",
        "[ 1.         -0.1286541  -0.05399636  0.05692016 -0.01276884  0.00863448\n",
        " -0.01276884  0.05692016 -0.05399636 -0.1286541 ]\n",
        "Shape of Correlation:  (10, 10, 10)\n",
        "DENSITY FIELD MEAN: "
       ]
      },
      {
       "output_type": "stream",
       "stream": "stdout",
       "text": [
        " 996.226800823\n",
        "Corr size:"
       ]
      },
      {
       "output_type": "stream",
       "stream": "stdout",
       "text": [
        " 1000\n",
        "1000\n",
        "[ 1.         -0.08846942 -0.03030482 -0.02573999  0.00634916  0.03951608\n",
        "  0.00634916 -0.02573999 -0.03030482 -0.08846942]\n",
        "Shape of Correlation:  (10, 10, 10)\n",
        "DENSITY FIELD MEAN: "
       ]
      },
      {
       "output_type": "stream",
       "stream": "stdout",
       "text": [
        " 998.55421187\n",
        "Corr size:"
       ]
      },
      {
       "output_type": "stream",
       "stream": "stdout",
       "text": [
        " 1000\n",
        "1000\n",
        "[ 1.         -0.16755426 -0.01767742 -0.0256302   0.01227098  0.06395451\n",
        "  0.01227098 -0.0256302  -0.01767742 -0.16755426]\n",
        "Shape of Correlation:  (10, 10, 10)\n",
        "DENSITY FIELD MEAN: "
       ]
      },
      {
       "output_type": "stream",
       "stream": "stdout",
       "text": [
        " 1004.1401902\n",
        "Corr size:"
       ]
      },
      {
       "output_type": "stream",
       "stream": "stdout",
       "text": [
        " 1000\n",
        "1000\n",
        "[ 1.         -0.14179749 -0.00952437 -0.02368209 -0.03335272 -0.0159526\n",
        " -0.03335272 -0.02368209 -0.00952437 -0.14179749]\n",
        "Shape of Correlation:  (10, 10, 10)\n",
        "29.9541084226 % progress\n",
        "DENSITY FIELD MEAN: "
       ]
      },
      {
       "output_type": "stream",
       "stream": "stdout",
       "text": [
        " 1000.47482812\n",
        "Corr size:"
       ]
      },
      {
       "output_type": "stream",
       "stream": "stdout",
       "text": [
        " 1000\n",
        "1000\n",
        "[ 1.         -0.1113485  -0.00863741 -0.00594645 -0.00271337  0.02624357\n",
        " -0.00271337 -0.00594645 -0.00863741 -0.1113485 ]\n",
        "Shape of Correlation:  (10, 10, 10)\n",
        "DENSITY FIELD MEAN: "
       ]
      },
      {
       "output_type": "stream",
       "stream": "stdout",
       "text": [
        " 987.327988649\n",
        "Corr size:"
       ]
      },
      {
       "output_type": "stream",
       "stream": "stdout",
       "text": [
        " 1000\n",
        "1000\n",
        "[ 1.         -0.14173875  0.05138737 -0.02534536  0.02400144 -0.05418662\n",
        "  0.02400144 -0.02534536  0.05138737 -0.14173875]\n",
        "Shape of Correlation:  (10, 10, 10)\n",
        "DENSITY FIELD MEAN: "
       ]
      },
      {
       "output_type": "stream",
       "stream": "stdout",
       "text": [
        " 986.853657878\n",
        "Corr size:"
       ]
      },
      {
       "output_type": "stream",
       "stream": "stdout",
       "text": [
        " 1000\n",
        "1000\n",
        "[ 1.         -0.14407211  0.0145754   0.01198632  0.00737788  0.02079924\n",
        "  0.00737788  0.01198632  0.0145754  -0.14407211]\n",
        "Shape of Correlation:  (10, 10, 10)\n",
        "DENSITY FIELD MEAN: "
       ]
      },
      {
       "output_type": "stream",
       "stream": "stdout",
       "text": [
        " 994.813284022\n",
        "Corr size:"
       ]
      },
      {
       "output_type": "stream",
       "stream": "stdout",
       "text": [
        " 1000\n",
        "1000\n",
        "[ 1.         -0.17070476  0.02773746 -0.07766664  0.05088324 -0.10540707\n",
        "  0.05088324 -0.07766664  0.02773746 -0.17070476]\n",
        "Shape of Correlation:  (10, 10, 10)\n",
        "DENSITY FIELD MEAN: "
       ]
      },
      {
       "output_type": "stream",
       "stream": "stdout",
       "text": [
        " 991.303949533\n",
        "Corr size:"
       ]
      },
      {
       "output_type": "stream",
       "stream": "stdout",
       "text": [
        " 1000\n",
        "1000\n",
        "[ 1.         -0.12384238  0.05674896  0.01793204 -0.05821966  0.00504009\n",
        " -0.05821966  0.01793204  0.05674896 -0.12384238]\n",
        "Shape of Correlation:  (10, 10, 10)\n",
        "30.946791552 % progress\n",
        "DENSITY FIELD MEAN: "
       ]
      },
      {
       "output_type": "stream",
       "stream": "stdout",
       "text": [
        " 999.785251718\n",
        "Corr size:"
       ]
      },
      {
       "output_type": "stream",
       "stream": "stdout",
       "text": [
        " 1000\n",
        "1000\n",
        "[ 1.         -0.12593224 -0.02279561  0.06061181 -0.05607122 -0.01457856\n",
        " -0.05607122  0.06061181 -0.02279561 -0.12593224]\n",
        "Shape of Correlation:  (10, 10, 10)\n",
        "DENSITY FIELD MEAN: "
       ]
      },
      {
       "output_type": "stream",
       "stream": "stdout",
       "text": [
        " 1004.53025303\n",
        "Corr size:"
       ]
      },
      {
       "output_type": "stream",
       "stream": "stdout",
       "text": [
        " 1000\n",
        "1000\n",
        "[ 1.         -0.13157059 -0.00921996  0.01750013 -0.06324872 -0.02031217\n",
        " -0.06324872  0.01750013 -0.00921996 -0.13157059]\n",
        "Shape of Correlation:  (10, 10, 10)\n",
        "DENSITY FIELD MEAN: "
       ]
      },
      {
       "output_type": "stream",
       "stream": "stdout",
       "text": [
        " 984.039349748\n",
        "Corr size:"
       ]
      },
      {
       "output_type": "stream",
       "stream": "stdout",
       "text": [
        " 1000\n",
        "1000\n",
        "[ 1.         -0.14049472  0.02032182 -0.08398495  0.0218881  -0.0255631\n",
        "  0.0218881  -0.08398495  0.02032182 -0.14049472]\n",
        "Shape of Correlation:  (10, 10, 10)\n",
        "DENSITY FIELD MEAN: "
       ]
      },
      {
       "output_type": "stream",
       "stream": "stdout",
       "text": [
        " 992.369516298\n",
        "Corr size:"
       ]
      },
      {
       "output_type": "stream",
       "stream": "stdout",
       "text": [
        " 1000\n",
        "1000\n",
        "[ 1.         -0.16799067  0.02974242 -0.02651416  0.02403548  0.00450784\n",
        "  0.02403548 -0.02651416  0.02974242 -0.16799067]\n",
        "Shape of Correlation:  (10, 10, 10)\n",
        "DENSITY FIELD MEAN: "
       ]
      },
      {
       "output_type": "stream",
       "stream": "stdout",
       "text": [
        " 993.009589495\n",
        "Corr size:"
       ]
      },
      {
       "output_type": "stream",
       "stream": "stdout",
       "text": [
        " 1000\n",
        "1000\n",
        "[ 1.         -0.13793775 -0.01091081  0.01481571  0.00805155 -0.07408989\n",
        "  0.00805155  0.01481571 -0.01091081 -0.13793775]\n",
        "Shape of Correlation:  (10, 10, 10)\n",
        "31.9450751505 % progress\n",
        "DENSITY FIELD MEAN: "
       ]
      },
      {
       "output_type": "stream",
       "stream": "stdout",
       "text": [
        " 992.762029272\n",
        "Corr size:"
       ]
      },
      {
       "output_type": "stream",
       "stream": "stdout",
       "text": [
        " 1000\n",
        "1000\n",
        "[ 1.         -0.12331954  0.01660919  0.05837567 -0.01759993 -0.00305897\n",
        " -0.01759993  0.05837567  0.01660919 -0.12331954]\n",
        "Shape of Correlation:  (10, 10, 10)\n",
        "DENSITY FIELD MEAN: "
       ]
      },
      {
       "output_type": "stream",
       "stream": "stdout",
       "text": [
        " 1000.95790896\n",
        "Corr size:"
       ]
      },
      {
       "output_type": "stream",
       "stream": "stdout",
       "text": [
        " 1000\n",
        "1000\n",
        "[ 1.         -0.11083367 -0.02381315  0.03302254  0.01585126 -0.0750452\n",
        "  0.01585126  0.03302254 -0.02381315 -0.11083367]\n",
        "Shape of Correlation:  (10, 10, 10)\n",
        "DENSITY FIELD MEAN: "
       ]
      },
      {
       "output_type": "stream",
       "stream": "stdout",
       "text": [
        " 992.770564461\n",
        "Corr size:"
       ]
      },
      {
       "output_type": "stream",
       "stream": "stdout",
       "text": [
        " 1000\n",
        "1000\n",
        "[ 1.         -0.12227288  0.00726115  0.02785674  0.01808315  0.0447918\n",
        "  0.01808315  0.02785674  0.00726115 -0.12227288]\n",
        "Shape of Correlation:  (10, 10, 10)\n",
        "DENSITY FIELD MEAN: "
       ]
      },
      {
       "output_type": "stream",
       "stream": "stdout",
       "text": [
        " 1011.43729985\n",
        "Corr size:"
       ]
      },
      {
       "output_type": "stream",
       "stream": "stdout",
       "text": [
        " 1000\n",
        "1000\n",
        "[ 1.         -0.1254468  -0.07306226  0.00826859 -0.035918    0.04573466\n",
        " -0.035918    0.00826859 -0.07306226 -0.1254468 ]\n",
        "Shape of Correlation:  (10, 10, 10)\n",
        "DENSITY FIELD MEAN: "
       ]
      },
      {
       "output_type": "stream",
       "stream": "stdout",
       "text": [
        " 1005.58877353\n",
        "Corr size:"
       ]
      },
      {
       "output_type": "stream",
       "stream": "stdout",
       "text": [
        " 1000\n",
        "1000\n",
        "[ 1.         -0.11205972 -0.0335846   0.0392409  -0.04966116  0.02635323\n",
        " -0.04966116  0.0392409  -0.0335846  -0.11205972]\n",
        "Shape of Correlation:  (10, 10, 10)\n",
        "32.9461589834 % progress\n",
        "DENSITY FIELD MEAN: "
       ]
      },
      {
       "output_type": "stream",
       "stream": "stdout",
       "text": [
        " 1001.85588456\n",
        "Corr size:"
       ]
      },
      {
       "output_type": "stream",
       "stream": "stdout",
       "text": [
        " 1000\n",
        "1000\n",
        "[ 1.         -0.174251    0.05789459 -0.02283093 -0.03112103 -0.00954011\n",
        " -0.03112103 -0.02283093  0.05789459 -0.174251  ]\n",
        "Shape of Correlation:  (10, 10, 10)\n",
        "DENSITY FIELD MEAN: "
       ]
      },
      {
       "output_type": "stream",
       "stream": "stdout",
       "text": [
        " 990.537685904\n",
        "Corr size:"
       ]
      },
      {
       "output_type": "stream",
       "stream": "stdout",
       "text": [
        " 1000\n",
        "1000\n",
        "[ 1.         -0.14033881 -0.00842708  0.0280372  -0.02087932  0.03283852\n",
        " -0.02087932  0.0280372  -0.00842708 -0.14033881]\n",
        "Shape of Correlation:  (10, 10, 10)\n",
        "DENSITY FIELD MEAN: "
       ]
      },
      {
       "output_type": "stream",
       "stream": "stdout",
       "text": [
        " 999.457924922\n",
        "Corr size:"
       ]
      },
      {
       "output_type": "stream",
       "stream": "stdout",
       "text": [
        " 1000\n",
        "1000\n",
        "[ 1.         -0.10774323  0.00345375 -0.02563758 -0.00764038  0.03088478\n",
        " -0.00764038 -0.02563758  0.00345375 -0.10774323]\n",
        "Shape of Correlation:  (10, 10, 10)\n",
        "DENSITY FIELD MEAN: "
       ]
      },
      {
       "output_type": "stream",
       "stream": "stdout",
       "text": [
        " 1003.64640048\n",
        "Corr size:"
       ]
      },
      {
       "output_type": "stream",
       "stream": "stdout",
       "text": [
        " 1000\n",
        "1000\n",
        "[ 1.         -0.14233048  0.01015085  0.04525023 -0.06488096  0.03400566\n",
        " -0.06488096  0.04525023  0.01015085 -0.14233048]\n",
        "Shape of Correlation:  (10, 10, 10)\n",
        "DENSITY FIELD MEAN: "
       ]
      },
      {
       "output_type": "stream",
       "stream": "stdout",
       "text": [
        " 993.410982618\n",
        "Corr size:"
       ]
      },
      {
       "output_type": "stream",
       "stream": "stdout",
       "text": [
        " 1000\n",
        "1000\n",
        "[ 1.         -0.20547105  0.04379913  0.03589897 -0.0356176   0.03294886\n",
        " -0.0356176   0.03589897  0.04379913 -0.20547105]\n",
        "Shape of Correlation:  (10, 10, 10)\n",
        "33.9444425819 % progress\n",
        "DENSITY FIELD MEAN: "
       ]
      },
      {
       "output_type": "stream",
       "stream": "stdout",
       "text": [
        " 1005.06800392\n",
        "Corr size:"
       ]
      },
      {
       "output_type": "stream",
       "stream": "stdout",
       "text": [
        " 1000\n",
        "1000\n",
        "[ 1.         -0.16577286  0.05625222 -0.07292752  0.01012208  0.05064263\n",
        "  0.01012208 -0.07292752  0.05625222 -0.16577286]\n",
        "Shape of Correlation:  (10, 10, 10)\n",
        "DENSITY FIELD MEAN: "
       ]
      },
      {
       "output_type": "stream",
       "stream": "stdout",
       "text": [
        " 997.780467652\n",
        "Corr size:"
       ]
      },
      {
       "output_type": "stream",
       "stream": "stdout",
       "text": [
        " 1000\n",
        "1000\n",
        "[ 1.         -0.14940785 -0.01626304  0.04024228  0.01263878  0.05132111\n",
        "  0.01263878  0.04024228 -0.01626304 -0.14940785]\n",
        "Shape of Correlation:  (10, 10, 10)\n",
        "DENSITY FIELD MEAN: "
       ]
      },
      {
       "output_type": "stream",
       "stream": "stdout",
       "text": [
        " 1003.29141857\n",
        "Corr size:"
       ]
      },
      {
       "output_type": "stream",
       "stream": "stdout",
       "text": [
        " 1000\n",
        "1000\n",
        "[ 1.         -0.08319232 -0.03956563 -0.01614764 -0.04367567  0.0017867\n",
        " -0.04367567 -0.01614764 -0.03956563 -0.08319232]\n",
        "Shape of Correlation:  (10, 10, 10)\n",
        "DENSITY FIELD MEAN: "
       ]
      },
      {
       "output_type": "stream",
       "stream": "stdout",
       "text": [
        " 996.68140776\n",
        "Corr size:"
       ]
      },
      {
       "output_type": "stream",
       "stream": "stdout",
       "text": [
        " 1000\n",
        "1000\n",
        "[ 1.         -0.14732862 -0.02163379  0.00480241 -0.01654371  0.00885662\n",
        " -0.01654371  0.00480241 -0.02163379 -0.14732862]\n",
        "Shape of Correlation:  (10, 10, 10)\n",
        "DENSITY FIELD MEAN: "
       ]
      },
      {
       "output_type": "stream",
       "stream": "stdout",
       "text": [
        " 999.802483404\n",
        "Corr size:"
       ]
      },
      {
       "output_type": "stream",
       "stream": "stdout",
       "text": [
        " 1000\n",
        "1000\n",
        "[ 1.         -0.09783107 -0.05225698 -0.02468742  0.0590008  -0.014489\n",
        "  0.0590008  -0.02468742 -0.05225698 -0.09783107]\n",
        "Shape of Correlation:  (10, 10, 10)\n",
        "34.9413260631 % progress\n",
        "DENSITY FIELD MEAN: "
       ]
      },
      {
       "output_type": "stream",
       "stream": "stdout",
       "text": [
        " 999.99205808\n",
        "Corr size:"
       ]
      },
      {
       "output_type": "stream",
       "stream": "stdout",
       "text": [
        " 1000\n",
        "1000\n",
        "[ 1.         -0.11482873 -0.06487194  0.0518093   0.00839359 -0.0980973\n",
        "  0.00839359  0.0518093  -0.06487194 -0.11482873]\n",
        "Shape of Correlation:  (10, 10, 10)\n",
        "DENSITY FIELD MEAN: "
       ]
      },
      {
       "output_type": "stream",
       "stream": "stdout",
       "text": [
        " 984.292452073\n",
        "Corr size:"
       ]
      },
      {
       "output_type": "stream",
       "stream": "stdout",
       "text": [
        " 1000\n",
        "1000\n",
        "[ 1.         -0.06919501 -0.00716495 -0.02841092 -0.03316698  0.05512379\n",
        " -0.03316698 -0.02841092 -0.00716495 -0.06919501]\n",
        "Shape of Correlation:  (10, 10, 10)\n",
        "DENSITY FIELD MEAN: "
       ]
      },
      {
       "output_type": "stream",
       "stream": "stdout",
       "text": [
        " 985.280380931\n",
        "Corr size:"
       ]
      },
      {
       "output_type": "stream",
       "stream": "stdout",
       "text": [
        " 1000\n",
        "1000\n",
        "[ 1.         -0.11586456 -0.07584963  0.04221951  0.05806855 -0.10405911\n",
        "  0.05806855  0.04221951 -0.07584963 -0.11586456]\n",
        "Shape of Correlation:  (10, 10, 10)\n",
        "DENSITY FIELD MEAN: "
       ]
      },
      {
       "output_type": "stream",
       "stream": "stdout",
       "text": [
        " 1012.33031355\n",
        "Corr size:"
       ]
      },
      {
       "output_type": "stream",
       "stream": "stdout",
       "text": [
        " 1000\n",
        "1000\n",
        "[ 1.         -0.07772993  0.01112597 -0.01338835  0.00526144 -0.01326672\n",
        "  0.00526144 -0.01338835  0.01112597 -0.07772993]\n",
        "Shape of Correlation:  (10, 10, 10)\n",
        "DENSITY FIELD MEAN: "
       ]
      },
      {
       "output_type": "stream",
       "stream": "stdout",
       "text": [
        " 1009.183184\n",
        "Corr size:"
       ]
      },
      {
       "output_type": "stream",
       "stream": "stdout",
       "text": [
        " 1000\n",
        "1000\n",
        "[ 1.         -0.10466568 -0.01280571 -0.00298532  0.03304791  0.02490079\n",
        "  0.03304791 -0.00298532 -0.01280571 -0.10466568]\n",
        "Shape of Correlation:  (10, 10, 10)\n",
        "35.936809427 % progress\n",
        "DENSITY FIELD MEAN: "
       ]
      },
      {
       "output_type": "stream",
       "stream": "stdout",
       "text": [
        " 993.684395348\n",
        "Corr size:"
       ]
      },
      {
       "output_type": "stream",
       "stream": "stdout",
       "text": [
        " 1000\n",
        "1000\n",
        "[ 1.         -0.10907766  0.04463841  0.04498778  0.00429987  0.03421764\n",
        "  0.00429987  0.04498778  0.04463841 -0.10907766]\n",
        "Shape of Correlation:  (10, 10, 10)\n",
        "DENSITY FIELD MEAN: "
       ]
      },
      {
       "output_type": "stream",
       "stream": "stdout",
       "text": [
        " 995.643936373\n",
        "Corr size:"
       ]
      },
      {
       "output_type": "stream",
       "stream": "stdout",
       "text": [
        " 1000\n",
        "1000\n",
        "[ 1.         -0.16698221  0.012973   -0.03020555  0.00996449  0.08355244\n",
        "  0.00996449 -0.03020555  0.012973   -0.16698221]\n",
        "Shape of Correlation:  (10, 10, 10)\n",
        "DENSITY FIELD MEAN: "
       ]
      },
      {
       "output_type": "stream",
       "stream": "stdout",
       "text": [
        " 993.701486975\n",
        "Corr size:"
       ]
      },
      {
       "output_type": "stream",
       "stream": "stdout",
       "text": [
        " 1000\n",
        "1000\n",
        "[ 1.         -0.1709514   0.00746917 -0.02819385  0.02000195  0.04108167\n",
        "  0.02000195 -0.02819385  0.00746917 -0.1709514 ]\n",
        "Shape of Correlation:  (10, 10, 10)\n",
        "DENSITY FIELD MEAN: "
       ]
      },
      {
       "output_type": "stream",
       "stream": "stdout",
       "text": [
        " 992.309804203\n",
        "Corr size:"
       ]
      },
      {
       "output_type": "stream",
       "stream": "stdout",
       "text": [
        " 1000\n",
        "1000\n",
        "[ 1.         -0.12046751  0.00113548  0.03956347 -0.00311225  0.07662679\n",
        " -0.00311225  0.03956347  0.00113548 -0.12046751]\n",
        "Shape of Correlation:  (10, 10, 10)\n",
        "DENSITY FIELD MEAN: "
       ]
      },
      {
       "output_type": "stream",
       "stream": "stdout",
       "text": [
        " 992.44629603\n",
        "Corr size:"
       ]
      },
      {
       "output_type": "stream",
       "stream": "stdout",
       "text": [
        " 1000\n",
        "1000\n",
        "[ 1.         -0.15042992 -0.01284555  0.04100517  0.01603298 -0.04264671\n",
        "  0.01603298  0.04100517 -0.01284555 -0.15042992]\n",
        "Shape of Correlation:  (10, 10, 10)\n",
        "36.9406934945 % progress\n",
        "DENSITY FIELD MEAN: "
       ]
      },
      {
       "output_type": "stream",
       "stream": "stdout",
       "text": [
        " 994.026302373\n",
        "Corr size:"
       ]
      },
      {
       "output_type": "stream",
       "stream": "stdout",
       "text": [
        " 1000\n",
        "1000\n",
        "[  1.00000000e+00  -9.51189574e-02   5.69237956e-04  -1.79875630e-02\n",
        "  -1.04910419e-03  -4.51889306e-02  -1.04910419e-03  -1.79875630e-02\n",
        "   5.69237956e-04  -9.51189574e-02]\n",
        "Shape of Correlation:  (10, 10, 10)\n",
        "DENSITY FIELD MEAN: "
       ]
      },
      {
       "output_type": "stream",
       "stream": "stdout",
       "text": [
        " 999.630184369\n",
        "Corr size:"
       ]
      },
      {
       "output_type": "stream",
       "stream": "stdout",
       "text": [
        " 1000\n",
        "1000\n",
        "[ 1.         -0.15686917  0.04430732  0.0244422   0.00308058 -0.0198961\n",
        "  0.00308058  0.0244422   0.04430732 -0.15686917]\n",
        "Shape of Correlation:  (10, 10, 10)\n",
        "DENSITY FIELD MEAN: "
       ]
      },
      {
       "output_type": "stream",
       "stream": "stdout",
       "text": [
        " 1000.88025\n",
        "Corr size:"
       ]
      },
      {
       "output_type": "stream",
       "stream": "stdout",
       "text": [
        " 1000\n",
        "1000\n",
        "[ 1.         -0.15117201  0.03687465  0.01412161  0.01008876  0.00398091\n",
        "  0.01008876  0.01412161  0.03687465 -0.15117201]\n",
        "Shape of Correlation:  (10, 10, 10)\n",
        "DENSITY FIELD MEAN: "
       ]
      },
      {
       "output_type": "stream",
       "stream": "stdout",
       "text": [
        " 996.621349483\n",
        "Corr size:"
       ]
      },
      {
       "output_type": "stream",
       "stream": "stdout",
       "text": [
        " 1000\n",
        "1000\n",
        "[ 1.         -0.13412656 -0.0506753  -0.01990795  0.02750885 -0.03513554\n",
        "  0.02750885 -0.01990795 -0.0506753  -0.13412656]\n",
        "Shape of Correlation:  (10, 10, 10)\n",
        "DENSITY FIELD MEAN: "
       ]
      },
      {
       "output_type": "stream",
       "stream": "stdout",
       "text": [
        " 1005.89272195\n",
        "Corr size:"
       ]
      },
      {
       "output_type": "stream",
       "stream": "stdout",
       "text": [
        " 1000\n",
        "1000\n",
        "[ 1.         -0.1924467  -0.02791671 -0.00589819  0.01916988 -0.07883197\n",
        "  0.01916988 -0.00589819 -0.02791671 -0.1924467 ]\n",
        "Shape of Correlation:  (10, 10, 10)\n",
        "37.9333766239 % progress\n",
        "DENSITY FIELD MEAN: "
       ]
      },
      {
       "output_type": "stream",
       "stream": "stdout",
       "text": [
        " 1004.72102394\n",
        "Corr size:"
       ]
      },
      {
       "output_type": "stream",
       "stream": "stdout",
       "text": [
        " 1000\n",
        "1000\n",
        "[ 1.         -0.150271   -0.05588443  0.04082476  0.00121231 -0.06024452\n",
        "  0.00121231  0.04082476 -0.05588443 -0.150271  ]\n",
        "Shape of Correlation:  (10, 10, 10)\n",
        "DENSITY FIELD MEAN: "
       ]
      },
      {
       "output_type": "stream",
       "stream": "stdout",
       "text": [
        " 1004.99859514\n",
        "Corr size:"
       ]
      },
      {
       "output_type": "stream",
       "stream": "stdout",
       "text": [
        " 1000\n",
        "1000\n",
        "[ 1.         -0.16258667  0.04278965 -0.01400561  0.00372377  0.00332109\n",
        "  0.00372377 -0.01400561  0.04278965 -0.16258667]\n",
        "Shape of Correlation:  (10, 10, 10)\n",
        "DENSITY FIELD MEAN: "
       ]
      },
      {
       "output_type": "stream",
       "stream": "stdout",
       "text": [
        " 999.225437446\n",
        "Corr size:"
       ]
      },
      {
       "output_type": "stream",
       "stream": "stdout",
       "text": [
        " 1000\n",
        "1000\n",
        "[ 1.         -0.15842417  0.01332923  0.04875493 -0.04726714  0.01230691\n",
        " -0.04726714  0.04875493  0.01332923 -0.15842417]\n",
        "Shape of Correlation:  (10, 10, 10)\n",
        "DENSITY FIELD MEAN: "
       ]
      },
      {
       "output_type": "stream",
       "stream": "stdout",
       "text": [
        " 995.926740258\n",
        "Corr size:"
       ]
      },
      {
       "output_type": "stream",
       "stream": "stdout",
       "text": [
        " 1000\n",
        "1000\n",
        "[ 1.         -0.13960679  0.00318426 -0.02127723  0.01422463  0.00976163\n",
        "  0.01422463 -0.02127723  0.00318426 -0.13960679]\n",
        "Shape of Correlation:  (10, 10, 10)\n",
        "DENSITY FIELD MEAN: "
       ]
      },
      {
       "output_type": "stream",
       "stream": "stdout",
       "text": [
        " 1003.49919254\n",
        "Corr size:"
       ]
      },
      {
       "output_type": "stream",
       "stream": "stdout",
       "text": [
        " 1000\n",
        "1000\n",
        "[ 1.         -0.1249393  -0.00190541 -0.01255957  0.00148491 -0.08533129\n",
        "  0.00148491 -0.01255957 -0.00190541 -0.1249393 ]\n",
        "Shape of Correlation:  (10, 10, 10)\n",
        "38.9316602224 % progress\n",
        "DENSITY FIELD MEAN: "
       ]
      },
      {
       "output_type": "stream",
       "stream": "stdout",
       "text": [
        " 1004.72102394\n",
        "Corr size:"
       ]
      },
      {
       "output_type": "stream",
       "stream": "stdout",
       "text": [
        " 1000\n",
        "1000\n",
        "[ 1.         -0.1668129   0.02583504 -0.02685533  0.02481217  0.07432187\n",
        "  0.02481217 -0.02685533  0.02583504 -0.1668129 ]\n",
        "Shape of Correlation:  (10, 10, 10)\n",
        "DENSITY FIELD MEAN: "
       ]
      },
      {
       "output_type": "stream",
       "stream": "stdout",
       "text": [
        " 995.523991315\n",
        "Corr size:"
       ]
      },
      {
       "output_type": "stream",
       "stream": "stdout",
       "text": [
        " 1000\n",
        "1000\n",
        "[ 1.         -0.14154313  0.07519984 -0.03568995  0.05026849  0.01656698\n",
        "  0.05026849 -0.03568995  0.07519984 -0.14154313]\n",
        "Shape of Correlation:  (10, 10, 10)\n",
        "DENSITY FIELD MEAN: "
       ]
      },
      {
       "output_type": "stream",
       "stream": "stdout",
       "text": [
        " 997.196390995\n",
        "Corr size:"
       ]
      },
      {
       "output_type": "stream",
       "stream": "stdout",
       "text": [
        " 1000\n",
        "1000\n",
        "[ 1.         -0.12081076  0.04604488  0.00796234  0.05693352 -0.03901764\n",
        "  0.05693352  0.00796234  0.04604488 -0.12081076]\n",
        "Shape of Correlation:  (10, 10, 10)\n",
        "DENSITY FIELD MEAN: "
       ]
      },
      {
       "output_type": "stream",
       "stream": "stdout",
       "text": [
        " 1008.03250519\n",
        "Corr size:"
       ]
      },
      {
       "output_type": "stream",
       "stream": "stdout",
       "text": [
        " 1000\n",
        "1000\n",
        "[ 1.         -0.08236377 -0.01790243  0.0441372  -0.01047767 -0.02525784\n",
        " -0.01047767  0.0441372  -0.01790243 -0.08236377]\n",
        "Shape of Correlation:  (10, 10, 10)\n",
        "DENSITY FIELD MEAN: "
       ]
      },
      {
       "output_type": "stream",
       "stream": "stdout",
       "text": [
        " 1002.52142402\n",
        "Corr size:"
       ]
      },
      {
       "output_type": "stream",
       "stream": "stdout",
       "text": [
        " 1000\n",
        "1000\n",
        "[ 1.         -0.13306766  0.00953    -0.0505284   0.00595832  0.00586635\n",
        "  0.00595832 -0.0505284   0.00953    -0.13306766]\n",
        "Shape of Correlation:  (10, 10, 10)\n",
        "39.9355442898 % progress\n",
        "DENSITY FIELD MEAN: "
       ]
      },
      {
       "output_type": "stream",
       "stream": "stdout",
       "text": [
        " 1007.99766345\n",
        "Corr size:"
       ]
      },
      {
       "output_type": "stream",
       "stream": "stdout",
       "text": [
        " 1000\n",
        "1000\n",
        "[ 1.         -0.06343705  0.01246225 -0.01672925 -0.01044645  0.03590484\n",
        " -0.01044645 -0.01672925  0.01246225 -0.06343705]\n",
        "Shape of Correlation:  (10, 10, 10)\n",
        "DENSITY FIELD MEAN: "
       ]
      },
      {
       "output_type": "stream",
       "stream": "stdout",
       "text": [
        " 994.924554931\n",
        "Corr size:"
       ]
      },
      {
       "output_type": "stream",
       "stream": "stdout",
       "text": [
        " 1000\n",
        "1000\n",
        "[ 1.         -0.11044805  0.01660382 -0.02387784  0.01794913  0.04490571\n",
        "  0.01794913 -0.02387784  0.01660382 -0.11044805]\n",
        "Shape of Correlation:  (10, 10, 10)\n",
        "DENSITY FIELD MEAN: "
       ]
      },
      {
       "output_type": "stream",
       "stream": "stdout",
       "text": [
        " 996.243950781\n",
        "Corr size:"
       ]
      },
      {
       "output_type": "stream",
       "stream": "stdout",
       "text": [
        " 1000\n",
        "1000\n",
        "[ 1.         -0.13981742 -0.02166083 -0.05346628 -0.00786633 -0.04002038\n",
        " -0.00786633 -0.05346628 -0.02166083 -0.13981742]\n",
        "Shape of Correlation:  (10, 10, 10)\n",
        "DENSITY FIELD MEAN: "
       ]
      },
      {
       "output_type": "stream",
       "stream": "stdout",
       "text": [
        " 1003.01447584\n",
        "Corr size:"
       ]
      },
      {
       "output_type": "stream",
       "stream": "stdout",
       "text": [
        " 1000\n",
        "1000\n",
        "[ 1.         -0.14059638 -0.04911827  0.05508694 -0.03974911 -0.04948177\n",
        " -0.03974911  0.05508694 -0.04911827 -0.14059638]\n",
        "Shape of Correlation:  (10, 10, 10)\n",
        "DENSITY FIELD MEAN: "
       ]
      },
      {
       "output_type": "stream",
       "stream": "stdout",
       "text": [
        " 1005.51931679\n",
        "Corr size:"
       ]
      },
      {
       "output_type": "stream",
       "stream": "stdout",
       "text": [
        " 1000\n",
        "1000\n",
        "[ 1.         -0.12505587  0.00834529  0.01801331  0.00706957 -0.00696292\n",
        "  0.00706957  0.01801331  0.00834529 -0.12505587]\n",
        "Shape of Correlation:  (10, 10, 10)\n",
        "40.9310276538 % progress\n",
        "DENSITY FIELD MEAN: "
       ]
      },
      {
       "output_type": "stream",
       "stream": "stdout",
       "text": [
        " 988.175764244\n",
        "Corr size:"
       ]
      },
      {
       "output_type": "stream",
       "stream": "stdout",
       "text": [
        " 1000\n",
        "1000\n",
        "[ 1.         -0.07994991 -0.02441289  0.00622556  0.03386371  0.01064997\n",
        "  0.03386371  0.00622556 -0.02441289 -0.07994991]\n",
        "Shape of Correlation:  (10, 10, 10)\n",
        "DENSITY FIELD MEAN: "
       ]
      },
      {
       "output_type": "stream",
       "stream": "stdout",
       "text": [
        " 1000.94927979\n",
        "Corr size:"
       ]
      },
      {
       "output_type": "stream",
       "stream": "stdout",
       "text": [
        " 1000\n",
        "1000\n",
        "[ 1.         -0.11620815 -0.02471389  0.04330616  0.04260798  0.01829322\n",
        "  0.04260798  0.04330616 -0.02471389 -0.11620815]\n",
        "Shape of Correlation:  (10, 10, 10)\n",
        "DENSITY FIELD MEAN: "
       ]
      },
      {
       "output_type": "stream",
       "stream": "stdout",
       "text": [
        " 1008.23287636\n",
        "Corr size:"
       ]
      },
      {
       "output_type": "stream",
       "stream": "stdout",
       "text": [
        " 1000\n",
        "1000\n",
        "[  1.00000000e+00  -1.76318753e-01   4.64315005e-02   9.56787834e-04\n",
        "  -4.27740089e-03   7.39574466e-05  -4.27740089e-03   9.56787834e-04\n",
        "   4.64315005e-02  -1.76318753e-01]\n",
        "Shape of Correlation:  (10, 10, 10)\n",
        "DENSITY FIELD MEAN: "
       ]
      },
      {
       "output_type": "stream",
       "stream": "stdout",
       "text": [
        " 1010.26572059\n",
        "Corr size:"
       ]
      },
      {
       "output_type": "stream",
       "stream": "stdout",
       "text": [
        " 1000\n",
        "1000\n",
        "[ 1.         -0.03739993 -0.08433821 -0.00833453  0.0292671  -0.07504299\n",
        "  0.0292671  -0.00833453 -0.08433821 -0.03739993]\n",
        "Shape of Correlation:  (10, 10, 10)\n",
        "DENSITY FIELD MEAN: "
       ]
      },
      {
       "output_type": "stream",
       "stream": "stdout",
       "text": [
        " 1004.85112271\n",
        "Corr size:"
       ]
      },
      {
       "output_type": "stream",
       "stream": "stdout",
       "text": [
        " 1000\n",
        "1000\n",
        "[ 1.         -0.16008563  0.00312593  0.04264249  0.00488362  0.06430653\n",
        "  0.00488362  0.04264249  0.00312593 -0.16008563]\n",
        "Shape of Correlation:  (10, 10, 10)\n",
        "41.927911135 % progress\n",
        "DENSITY FIELD MEAN: "
       ]
      },
      {
       "output_type": "stream",
       "stream": "stdout",
       "text": [
        " 992.207451757\n",
        "Corr size:"
       ]
      },
      {
       "output_type": "stream",
       "stream": "stdout",
       "text": [
        " 1000\n",
        "1000\n",
        "[ 1.         -0.12982557  0.00851359  0.02864793 -0.04107045 -0.01885937\n",
        " -0.04107045  0.02864793  0.00851359 -0.12982557]\n",
        "Shape of Correlation:  (10, 10, 10)\n",
        "DENSITY FIELD MEAN: "
       ]
      },
      {
       "output_type": "stream",
       "stream": "stdout",
       "text": [
        " 996.3468588\n",
        "Corr size:"
       ]
      },
      {
       "output_type": "stream",
       "stream": "stdout",
       "text": [
        " 1000\n",
        "1000\n",
        "[ 1.         -0.13723683 -0.01931948  0.05031292 -0.02000639  0.04849715\n",
        " -0.02000639  0.05031292 -0.01931948 -0.13723683]\n",
        "Shape of Correlation:  (10, 10, 10)\n",
        "DENSITY FIELD MEAN: "
       ]
      },
      {
       "output_type": "stream",
       "stream": "stdout",
       "text": [
        " 992.420701906\n",
        "Corr size:"
       ]
      },
      {
       "output_type": "stream",
       "stream": "stdout",
       "text": [
        " 1000\n",
        "1000\n",
        "[  1.00000000e+00  -1.15916889e-01   2.02311354e-02  -3.32957527e-02\n",
        "  -2.11540455e-04   6.16718402e-02  -2.11540455e-04  -3.32957527e-02\n",
        "   2.02311354e-02  -1.15916889e-01]\n",
        "Shape of Correlation:  (10, 10, 10)\n",
        "DENSITY FIELD MEAN: "
       ]
      },
      {
       "output_type": "stream",
       "stream": "stdout",
       "text": [
        " 995.703916127\n",
        "Corr size:"
       ]
      },
      {
       "output_type": "stream",
       "stream": "stdout",
       "text": [
        " 1000\n",
        "1000\n",
        "[ 1.         -0.16159646  0.0350737  -0.03919829  0.07978855 -0.10097736\n",
        "  0.07978855 -0.03919829  0.0350737  -0.16159646]\n",
        "Shape of Correlation:  (10, 10, 10)\n",
        "DENSITY FIELD MEAN: "
       ]
      },
      {
       "output_type": "stream",
       "stream": "stdout",
       "text": [
        " 985.804434757\n",
        "Corr size:"
       ]
      },
      {
       "output_type": "stream",
       "stream": "stdout",
       "text": [
        " 1000\n",
        "1000\n",
        "[ 1.         -0.17731123  0.06192788  0.02634776 -0.0568323   0.08317858\n",
        " -0.0568323   0.02634776  0.06192788 -0.17731123]\n",
        "Shape of Correlation:  (10, 10, 10)\n",
        "42.9275948507 % progress\n",
        "DENSITY FIELD MEAN: "
       ]
      },
      {
       "output_type": "stream",
       "stream": "stdout",
       "text": [
        " 1000.60419429\n",
        "Corr size:"
       ]
      },
      {
       "output_type": "stream",
       "stream": "stdout",
       "text": [
        " 1000\n",
        "1000\n",
        "[ 1.         -0.09843312 -0.01225363 -0.02105975  0.00776924  0.03124023\n",
        "  0.00776924 -0.02105975 -0.01225363 -0.09843312]\n",
        "Shape of Correlation:  (10, 10, 10)\n",
        "DENSITY FIELD MEAN: "
       ]
      },
      {
       "output_type": "stream",
       "stream": "stdout",
       "text": [
        " 995.60109664\n",
        "Corr size:"
       ]
      },
      {
       "output_type": "stream",
       "stream": "stdout",
       "text": [
        " 1000\n",
        "1000\n",
        "[ 1.         -0.11285788 -0.02411805  0.03379303  0.03009208 -0.01157723\n",
        "  0.03009208  0.03379303 -0.02411805 -0.11285788]\n",
        "Shape of Correlation:  (10, 10, 10)\n",
        "DENSITY FIELD MEAN: "
       ]
      },
      {
       "output_type": "stream",
       "stream": "stdout",
       "text": [
        " 1005.01594674\n",
        "Corr size:"
       ]
      },
      {
       "output_type": "stream",
       "stream": "stdout",
       "text": [
        " 1000\n",
        "1000\n",
        "[ 1.         -0.13928266  0.01830666 -0.04769526  0.03082109 -0.03504677\n",
        "  0.03082109 -0.04769526  0.01830666 -0.13928266]\n",
        "Shape of Correlation:  (10, 10, 10)\n",
        "DENSITY FIELD MEAN: "
       ]
      },
      {
       "output_type": "stream",
       "stream": "stdout",
       "text": [
        " 987.006088198\n",
        "Corr size:"
       ]
      },
      {
       "output_type": "stream",
       "stream": "stdout",
       "text": [
        " 1000\n",
        "1000\n",
        "[ 1.         -0.13919357 -0.00136025  0.01466934  0.02099484 -0.02158352\n",
        "  0.02099484  0.01466934 -0.00136025 -0.13919357]\n",
        "Shape of Correlation:  (10, 10, 10)\n",
        "DENSITY FIELD MEAN: "
       ]
      },
      {
       "output_type": "stream",
       "stream": "stdout",
       "text": [
        " 989.236849192\n",
        "Corr size:"
       ]
      },
      {
       "output_type": "stream",
       "stream": "stdout",
       "text": [
        " 1000\n",
        "1000\n",
        "[ 1.         -0.15207525  0.03476484 -0.00701124 -0.01564554  0.04774664\n",
        " -0.01564554 -0.00701124  0.03476484 -0.15207525]\n",
        "Shape of Correlation:  (10, 10, 10)\n",
        "43.9230782147 % progress\n",
        "DENSITY FIELD MEAN: "
       ]
      },
      {
       "output_type": "stream",
       "stream": "stdout",
       "text": [
        " 995.404065522\n",
        "Corr size:"
       ]
      },
      {
       "output_type": "stream",
       "stream": "stdout",
       "text": [
        " 1000\n",
        "1000\n",
        "[ 1.         -0.17671944  0.02198224  0.01960272 -0.00265857  0.05650788\n",
        " -0.00265857  0.01960272  0.02198224 -0.17671944]\n",
        "Shape of Correlation:  (10, 10, 10)\n",
        "DENSITY FIELD MEAN: "
       ]
      },
      {
       "output_type": "stream",
       "stream": "stdout",
       "text": [
        " 992.48895486\n",
        "Corr size:"
       ]
      },
      {
       "output_type": "stream",
       "stream": "stdout",
       "text": [
        " 1000\n",
        "1000\n",
        "[ 1.         -0.19115444  0.07880293 -0.05059229  0.08019853  0.0155088\n",
        "  0.08019853 -0.05059229  0.07880293 -0.19115444]\n",
        "Shape of Correlation:  (10, 10, 10)\n",
        "DENSITY FIELD MEAN: "
       ]
      },
      {
       "output_type": "stream",
       "stream": "stdout",
       "text": [
        " 989.738209057\n",
        "Corr size:"
       ]
      },
      {
       "output_type": "stream",
       "stream": "stdout",
       "text": [
        " 1000\n",
        "1000\n",
        "[ 1.         -0.17140763  0.00476796  0.0497872   0.07217562 -0.0189434\n",
        "  0.07217562  0.0497872   0.00476796 -0.17140763]\n",
        "Shape of Correlation:  (10, 10, 10)\n",
        "DENSITY FIELD MEAN: "
       ]
      },
      {
       "output_type": "stream",
       "stream": "stdout",
       "text": [
        " 1007.65804062\n",
        "Corr size:"
       ]
      },
      {
       "output_type": "stream",
       "stream": "stdout",
       "text": [
        " 1000\n",
        "1000\n",
        "[ 1.         -0.1805739  -0.01557113  0.06810431 -0.04693805 -0.03367642\n",
        " -0.04693805  0.06810431 -0.01557113 -0.1805739 ]\n",
        "Shape of Correlation:  (10, 10, 10)\n",
        "DENSITY FIELD MEAN: "
       ]
      },
      {
       "output_type": "stream",
       "stream": "stdout",
       "text": [
        " 1002.57330899\n",
        "Corr size:"
       ]
      },
      {
       "output_type": "stream",
       "stream": "stdout",
       "text": [
        " 1000\n",
        "1000\n",
        "[ 1.         -0.14124362  0.01084183 -0.0482132   0.05251959 -0.09588889\n",
        "  0.05251959 -0.0482132   0.01084183 -0.14124362]\n",
        "Shape of Correlation:  (10, 10, 10)\n",
        "44.9227619304 % progress\n",
        "DENSITY FIELD MEAN: "
       ]
      },
      {
       "output_type": "stream",
       "stream": "stdout",
       "text": [
        " 999.811099395\n",
        "Corr size:"
       ]
      },
      {
       "output_type": "stream",
       "stream": "stdout",
       "text": [
        " 1000\n",
        "1000\n",
        "[ 1.         -0.10660679  0.00885387 -0.01707132 -0.08134506  0.03407527\n",
        " -0.08134506 -0.01707132  0.00885387 -0.10660679]\n",
        "Shape of Correlation:  (10, 10, 10)\n",
        "DENSITY FIELD MEAN: "
       ]
      },
      {
       "output_type": "stream",
       "stream": "stdout",
       "text": [
        " 987.268680681\n",
        "Corr size:"
       ]
      },
      {
       "output_type": "stream",
       "stream": "stdout",
       "text": [
        " 1000\n",
        "1000\n",
        "[ 1.         -0.18659257  0.01877734 -0.04333385 -0.01818455  0.00487671\n",
        " -0.01818455 -0.04333385  0.01877734 -0.18659257]\n",
        "Shape of Correlation:  (10, 10, 10)\n",
        "DENSITY FIELD MEAN: "
       ]
      },
      {
       "output_type": "stream",
       "stream": "stdout",
       "text": [
        " 987.302570367\n",
        "Corr size:"
       ]
      },
      {
       "output_type": "stream",
       "stream": "stdout",
       "text": [
        " 1000\n",
        "1000\n",
        "[ 1.         -0.16924074 -0.03600766  0.0473318   0.03533591 -0.04919296\n",
        "  0.03533591  0.0473318  -0.03600766 -0.16924074]\n",
        "Shape of Correlation:  (10, 10, 10)\n",
        "DENSITY FIELD MEAN: "
       ]
      },
      {
       "output_type": "stream",
       "stream": "stdout",
       "text": [
        " 984.224949634\n",
        "Corr size:"
       ]
      },
      {
       "output_type": "stream",
       "stream": "stdout",
       "text": [
        " 1000\n",
        "1000\n",
        "[ 1.         -0.13106969  0.04998033  0.0174855  -0.00344464  0.00301985\n",
        " -0.00344464  0.0174855   0.04998033 -0.13106969]\n",
        "Shape of Correlation:  (10, 10, 10)\n",
        "DENSITY FIELD MEAN: "
       ]
      },
      {
       "output_type": "stream",
       "stream": "stdout",
       "text": [
        " 995.489724837\n",
        "Corr size:"
       ]
      },
      {
       "output_type": "stream",
       "stream": "stdout",
       "text": [
        " 1000\n",
        "1000\n",
        "[ 1.         -0.06867646 -0.00238844  0.03472492  0.01324881 -0.05596294\n",
        "  0.01324881  0.03472492 -0.00238844 -0.06867646]\n",
        "Shape of Correlation:  (10, 10, 10)\n",
        "45.9238457633 % progress\n",
        "DENSITY FIELD MEAN: "
       ]
      },
      {
       "output_type": "stream",
       "stream": "stdout",
       "text": [
        " 1010.48416146\n",
        "Corr size:"
       ]
      },
      {
       "output_type": "stream",
       "stream": "stdout",
       "text": [
        " 1000\n",
        "1000\n",
        "[ 1.         -0.09291599 -0.03566082 -0.03254029  0.02986899  0.00506024\n",
        "  0.02986899 -0.03254029 -0.03566082 -0.09291599]\n",
        "Shape of Correlation:  (10, 10, 10)\n",
        "DENSITY FIELD MEAN: "
       ]
      },
      {
       "output_type": "stream",
       "stream": "stdout",
       "text": [
        " 998.038293541\n",
        "Corr size:"
       ]
      },
      {
       "output_type": "stream",
       "stream": "stdout",
       "text": [
        " 1000\n",
        "1000\n",
        "[ 1.         -0.11505269 -0.03664031  0.02830689 -0.02219329  0.01045496\n",
        " -0.02219329  0.02830689 -0.03664031 -0.11505269]\n",
        "Shape of Correlation:  (10, 10, 10)\n",
        "DENSITY FIELD MEAN: "
       ]
      },
      {
       "output_type": "stream",
       "stream": "stdout",
       "text": [
        " 993.29139609\n",
        "Corr size:"
       ]
      },
      {
       "output_type": "stream",
       "stream": "stdout",
       "text": [
        " 1000\n",
        "1000\n",
        "[ 1.         -0.17746799 -0.00566778  0.01666178 -0.06185116  0.01995382\n",
        " -0.06185116  0.01666178 -0.00566778 -0.17746799]\n",
        "Shape of Correlation:  (10, 10, 10)\n",
        "DENSITY FIELD MEAN: "
       ]
      },
      {
       "output_type": "stream",
       "stream": "stdout",
       "text": [
        " 996.827283667\n",
        "Corr size:"
       ]
      },
      {
       "output_type": "stream",
       "stream": "stdout",
       "text": [
        " 1000\n",
        "1000\n",
        "[ 1.         -0.11532113  0.01145968 -0.00514108 -0.04199647  0.0270974\n",
        " -0.04199647 -0.00514108  0.01145968 -0.11532113]\n",
        "Shape of Correlation:  (10, 10, 10)\n",
        "DENSITY FIELD MEAN: "
       ]
      },
      {
       "output_type": "stream",
       "stream": "stdout",
       "text": [
        " 985.601531135\n",
        "Corr size:"
       ]
      },
      {
       "output_type": "stream",
       "stream": "stdout",
       "text": [
        " 1000\n",
        "1000\n",
        "[ 1.         -0.13352336 -0.00192513 -0.02471954 -0.02028687  0.04683701\n",
        " -0.02028687 -0.02471954 -0.00192513 -0.13352336]\n",
        "Shape of Correlation:  (10, 10, 10)\n",
        "46.9221293618 % progress\n",
        "DENSITY FIELD MEAN: "
       ]
      },
      {
       "output_type": "stream",
       "stream": "stdout",
       "text": [
        " 994.582235915\n",
        "Corr size:"
       ]
      },
      {
       "output_type": "stream",
       "stream": "stdout",
       "text": [
        " 1000\n",
        "1000\n",
        "[ 1.         -0.09328652 -0.05106549  0.06564761 -0.05393501 -0.08294648\n",
        " -0.05393501  0.06564761 -0.05106549 -0.09328652]\n",
        "Shape of Correlation:  (10, 10, 10)\n",
        "DENSITY FIELD MEAN: "
       ]
      },
      {
       "output_type": "stream",
       "stream": "stdout",
       "text": [
        " 995.566826623\n",
        "Corr size:"
       ]
      },
      {
       "output_type": "stream",
       "stream": "stdout",
       "text": [
        " 1000\n",
        "1000\n",
        "[ 1.         -0.12100976 -0.00686257  0.01865568  0.01737506  0.04342658\n",
        "  0.01737506  0.01865568 -0.00686257 -0.12100976]\n",
        "Shape of Correlation:  (10, 10, 10)\n",
        "DENSITY FIELD MEAN: "
       ]
      },
      {
       "output_type": "stream",
       "stream": "stdout",
       "text": [
        " 996.295403019\n",
        "Corr size:"
       ]
      },
      {
       "output_type": "stream",
       "stream": "stdout",
       "text": [
        " 1000\n",
        "1000\n",
        "[ 1.         -0.1038537   0.02632164 -0.04790231 -0.01405629  0.08071395\n",
        " -0.01405629 -0.04790231  0.02632164 -0.1038537 ]\n",
        "Shape of Correlation:  (10, 10, 10)\n",
        "DENSITY FIELD MEAN: "
       ]
      },
      {
       "output_type": "stream",
       "stream": "stdout",
       "text": [
        " 1003.24813955\n",
        "Corr size:"
       ]
      },
      {
       "output_type": "stream",
       "stream": "stdout",
       "text": [
        " 1000\n",
        "1000\n",
        "[  1.00000000e+00  -8.10940716e-02  -5.56665724e-03  -3.56546832e-03\n",
        "  -6.60726823e-02   1.08150288e-04  -6.60726823e-02  -3.56546832e-03\n",
        "  -5.56665724e-03  -8.10940716e-02]\n",
        "Shape of Correlation:  (10, 10, 10)\n",
        "DENSITY FIELD MEAN: "
       ]
      },
      {
       "output_type": "stream",
       "stream": "stdout",
       "text": [
        " 1000.45758098\n",
        "Corr size:"
       ]
      },
      {
       "output_type": "stream",
       "stream": "stdout",
       "text": [
        " 1000\n",
        "1000\n",
        "[ 1.         -0.10506709 -0.02831989  0.08304844 -0.03297529  0.02574703\n",
        " -0.03297529  0.08304844 -0.02831989 -0.10506709]\n",
        "Shape of Correlation:  (10, 10, 10)\n",
        "47.9218130775 % progress\n",
        "DENSITY FIELD MEAN: "
       ]
      },
      {
       "output_type": "stream",
       "stream": "stdout",
       "text": [
        " 987.073845084\n",
        "Corr size:"
       ]
      },
      {
       "output_type": "stream",
       "stream": "stdout",
       "text": [
        " 1000\n",
        "1000\n",
        "[ 1.         -0.16078204  0.08511524 -0.01410915  0.06819526 -0.02023728\n",
        "  0.06819526 -0.01410915  0.08511524 -0.16078204]\n",
        "Shape of Correlation:  (10, 10, 10)\n",
        "DENSITY FIELD MEAN: "
       ]
      },
      {
       "output_type": "stream",
       "stream": "stdout",
       "text": [
        " 995.378369644\n",
        "Corr size:"
       ]
      },
      {
       "output_type": "stream",
       "stream": "stdout",
       "text": [
        " 1000\n",
        "1000\n",
        "[ 1.         -0.08130611 -0.06462562  0.03544172 -0.03794063 -0.0262518\n",
        " -0.03794063  0.03544172 -0.06462562 -0.08130611]\n",
        "Shape of Correlation:  (10, 10, 10)\n",
        "DENSITY FIELD MEAN: "
       ]
      },
      {
       "output_type": "stream",
       "stream": "stdout",
       "text": [
        " 995.052965063\n",
        "Corr size:"
       ]
      },
      {
       "output_type": "stream",
       "stream": "stdout",
       "text": [
        " 1000\n",
        "1000\n",
        "[ 1.         -0.11651306 -0.0149      0.11885365 -0.0467612   0.02375822\n",
        " -0.0467612   0.11885365 -0.0149     -0.11651306]\n",
        "Shape of Correlation:  (10, 10, 10)\n",
        "DENSITY FIELD MEAN: "
       ]
      },
      {
       "output_type": "stream",
       "stream": "stdout",
       "text": [
        " 994.890315961\n",
        "Corr size:"
       ]
      },
      {
       "output_type": "stream",
       "stream": "stdout",
       "text": [
        " 1000\n",
        "1000\n",
        "[  1.00000000e+00  -9.09313953e-02  -6.13617714e-02   5.03864572e-02\n",
        "  -1.60963616e-02  -9.53595567e-04  -1.60963616e-02   5.03864572e-02\n",
        "  -6.13617714e-02  -9.09313953e-02]\n",
        "Shape of Correlation:  (10, 10, 10)\n",
        "DENSITY FIELD MEAN: "
       ]
      },
      {
       "output_type": "stream",
       "stream": "stdout",
       "text": [
        " 999.251265826\n",
        "Corr size:"
       ]
      },
      {
       "output_type": "stream",
       "stream": "stdout",
       "text": [
        " 1000\n",
        "1000\n",
        "[ 1.         -0.15789757  0.01848556  0.00252781 -0.00444225  0.01426284\n",
        " -0.00444225  0.00252781  0.01848556 -0.15789757]\n",
        "Shape of Correlation:  (10, 10, 10)\n",
        "48.9172964414 % progress\n",
        "DENSITY FIELD MEAN: "
       ]
      },
      {
       "output_type": "stream",
       "stream": "stdout",
       "text": [
        " 1006.45752267\n",
        "Corr size:"
       ]
      },
      {
       "output_type": "stream",
       "stream": "stdout",
       "text": [
        " 1000\n",
        "1000\n",
        "[ 1.         -0.10861355 -0.02144584  0.03126417 -0.00112102  0.00271549\n",
        " -0.00112102  0.03126417 -0.02144584 -0.10861355]\n",
        "Shape of Correlation:  (10, 10, 10)\n",
        "DENSITY FIELD MEAN: "
       ]
      },
      {
       "output_type": "stream",
       "stream": "stdout",
       "text": [
        " 998.270412796\n",
        "Corr size:"
       ]
      },
      {
       "output_type": "stream",
       "stream": "stdout",
       "text": [
        " 1000\n",
        "1000\n",
        "[ 1.         -0.12503771  0.03903688 -0.00103054  0.01425757 -0.01677038\n",
        "  0.01425757 -0.00103054  0.03903688 -0.12503771]\n",
        "Shape of Correlation:  (10, 10, 10)\n",
        "DENSITY FIELD MEAN: "
       ]
      },
      {
       "output_type": "stream",
       "stream": "stdout",
       "text": [
        " 1001.50174674\n",
        "Corr size:"
       ]
      },
      {
       "output_type": "stream",
       "stream": "stdout",
       "text": [
        " 1000\n",
        "1000\n",
        "[ 1.         -0.12125772 -0.05882103 -0.03106063  0.05077151 -0.00695485\n",
        "  0.05077151 -0.03106063 -0.05882103 -0.12125772]\n",
        "Shape of Correlation:  (10, 10, 10)\n",
        "DENSITY FIELD MEAN: "
       ]
      },
      {
       "output_type": "stream",
       "stream": "stdout",
       "text": [
        " 993.077896456\n",
        "Corr size:"
       ]
      },
      {
       "output_type": "stream",
       "stream": "stdout",
       "text": [
        " 1000\n",
        "1000\n",
        "[ 1.         -0.11980537  0.02671108 -0.02423592  0.02288804 -0.02943789\n",
        "  0.02288804 -0.02423592  0.02671108 -0.11980537]\n",
        "Shape of Correlation:  (10, 10, 10)\n",
        "DENSITY FIELD MEAN: "
       ]
      },
      {
       "output_type": "stream",
       "stream": "stdout",
       "text": [
        " 993.513500636\n",
        "Corr size:"
       ]
      },
      {
       "output_type": "stream",
       "stream": "stdout",
       "text": [
        " 1000\n",
        "1000\n",
        "[ 1.         -0.12003234  0.00308665  0.0030854  -0.0515284  -0.07921034\n",
        " -0.0515284   0.0030854   0.00308665 -0.12003234]\n",
        "Shape of Correlation:  (10, 10, 10)\n",
        "49.9141799226 % progress\n",
        "DENSITY FIELD MEAN: "
       ]
      },
      {
       "output_type": "stream",
       "stream": "stdout",
       "text": [
        " 1002.35714522\n",
        "Corr size:"
       ]
      },
      {
       "output_type": "stream",
       "stream": "stdout",
       "text": [
        " 1000\n",
        "1000\n",
        "[ 1.         -0.11928921  0.01196235 -0.03814092 -0.03175788  0.0020236\n",
        " -0.03175788 -0.03814092  0.01196235 -0.11928921]\n",
        "Shape of Correlation:  (10, 10, 10)\n",
        "DENSITY FIELD MEAN: "
       ]
      },
      {
       "output_type": "stream",
       "stream": "stdout",
       "text": [
        " 992.932751653\n",
        "Corr size:"
       ]
      },
      {
       "output_type": "stream",
       "stream": "stdout",
       "text": [
        " 1000\n",
        "1000\n",
        "[ 1.         -0.14966589  0.03257483 -0.04406681  0.00280632 -0.05431023\n",
        "  0.00280632 -0.04406681  0.03257483 -0.14966589]\n",
        "Shape of Correlation:  (10, 10, 10)\n",
        "DENSITY FIELD MEAN: "
       ]
      },
      {
       "output_type": "stream",
       "stream": "stdout",
       "text": [
        " 994.222969942\n",
        "Corr size:"
       ]
      },
      {
       "output_type": "stream",
       "stream": "stdout",
       "text": [
        " 1000\n",
        "1000\n",
        "[ 1.         -0.19384537  0.01996614  0.05166495 -0.02537578  0.03157761\n",
        " -0.02537578  0.05166495  0.01996614 -0.19384537]\n",
        "Shape of Correlation:  (10, 10, 10)\n",
        "DENSITY FIELD MEAN: "
       ]
      },
      {
       "output_type": "stream",
       "stream": "stdout",
       "text": [
        " 1003.36067019\n",
        "Corr size:"
       ]
      },
      {
       "output_type": "stream",
       "stream": "stdout",
       "text": [
        " 1000\n",
        "1000\n",
        "[ 1.         -0.11434801 -0.02171148 -0.02691218  0.00196113  0.02792295\n",
        "  0.00196113 -0.02691218 -0.02171148 -0.11434801]\n",
        "Shape of Correlation:  (10, 10, 10)\n",
        "DENSITY FIELD MEAN: "
       ]
      },
      {
       "output_type": "stream",
       "stream": "stdout",
       "text": [
        " 1003.90624944\n",
        "Corr size:"
       ]
      },
      {
       "output_type": "stream",
       "stream": "stdout",
       "text": [
        " 1000\n",
        "1000\n",
        "[ 1.         -0.09881395 -0.03044514 -0.04486273 -0.03118328  0.05432599\n",
        " -0.03118328 -0.04486273 -0.03044514 -0.09881395]\n",
        "Shape of Correlation:  (10, 10, 10)\n",
        "50.9110634038 % progress\n",
        "DENSITY FIELD MEAN: "
       ]
      },
      {
       "output_type": "stream",
       "stream": "stdout",
       "text": [
        " 1008.97383945\n",
        "Corr size:"
       ]
      },
      {
       "output_type": "stream",
       "stream": "stdout",
       "text": [
        " 1000\n",
        "1000\n",
        "[ 1.         -0.15631854  0.02138496  0.0622134   0.01081015  0.06221494\n",
        "  0.01081015  0.0622134   0.02138496 -0.15631854]\n",
        "Shape of Correlation:  (10, 10, 10)\n",
        "DENSITY FIELD MEAN: "
       ]
      },
      {
       "output_type": "stream",
       "stream": "stdout",
       "text": [
        " 987.319515792\n",
        "Corr size:"
       ]
      },
      {
       "output_type": "stream",
       "stream": "stdout",
       "text": [
        " 1000\n",
        "1000\n",
        "[ 1.         -0.08523993 -0.05599616  0.00515624  0.07032825  0.01936398\n",
        "  0.07032825  0.00515624 -0.05599616 -0.08523993]\n",
        "Shape of Correlation:  (10, 10, 10)\n",
        "DENSITY FIELD MEAN: "
       ]
      },
      {
       "output_type": "stream",
       "stream": "stdout",
       "text": [
        " 992.139224614\n",
        "Corr size:"
       ]
      },
      {
       "output_type": "stream",
       "stream": "stdout",
       "text": [
        " 1000\n",
        "1000\n",
        "[  1.00000000e+00  -1.44221895e-01  -8.77186327e-04   2.34945733e-02\n",
        "  -2.71180816e-02   2.19989875e-02  -2.71180816e-02   2.34945733e-02\n",
        "  -8.77186327e-04  -1.44221895e-01]\n",
        "Shape of Correlation:  (10, 10, 10)\n",
        "DENSITY FIELD MEAN: "
       ]
      },
      {
       "output_type": "stream",
       "stream": "stdout",
       "text": [
        " 1002.20154579\n",
        "Corr size:"
       ]
      },
      {
       "output_type": "stream",
       "stream": "stdout",
       "text": [
        " 1000\n",
        "1000\n",
        "[ 1.         -0.10465741 -0.0191566   0.02644093  0.00491106  0.00464619\n",
        "  0.00491106  0.02644093 -0.0191566  -0.10465741]\n",
        "Shape of Correlation:  (10, 10, 10)\n",
        "DENSITY FIELD MEAN: "
       ]
      },
      {
       "output_type": "stream",
       "stream": "stdout",
       "text": [
        " 987.921329687\n",
        "Corr size:"
       ]
      },
      {
       "output_type": "stream",
       "stream": "stdout",
       "text": [
        " 1000\n",
        "1000\n",
        "[ 1.         -0.14778294  0.03807134 -0.01605472  0.01821307 -0.01655181\n",
        "  0.01821307 -0.01605472  0.03807134 -0.14778294]\n",
        "Shape of Correlation:  (10, 10, 10)\n",
        "51.9093470023 % progress\n",
        "DENSITY FIELD MEAN: "
       ]
      },
      {
       "output_type": "stream",
       "stream": "stdout",
       "text": [
        " 989.211365366\n",
        "Corr size:"
       ]
      },
      {
       "output_type": "stream",
       "stream": "stdout",
       "text": [
        " 1000\n",
        "1000\n",
        "[  1.00000000e+00  -1.31741912e-01  -1.30857250e-02   1.27767678e-04\n",
        "  -6.13028223e-02   2.96767289e-02  -6.13028223e-02   1.27767678e-04\n",
        "  -1.30857250e-02  -1.31741912e-01]\n",
        "Shape of Correlation:  (10, 10, 10)\n",
        "DENSITY FIELD MEAN: "
       ]
      },
      {
       "output_type": "stream",
       "stream": "stdout",
       "text": [
        " 998.87253877\n",
        "Corr size:"
       ]
      },
      {
       "output_type": "stream",
       "stream": "stdout",
       "text": [
        " 1000\n",
        "1000\n",
        "[ 1.         -0.13755806 -0.02499241  0.02179332  0.02435779 -0.09139021\n",
        "  0.02435779  0.02179332 -0.02499241 -0.13755806]\n",
        "Shape of Correlation:  (10, 10, 10)\n",
        "DENSITY FIELD MEAN: "
       ]
      },
      {
       "output_type": "stream",
       "stream": "stdout",
       "text": [
        " 994.770491937\n",
        "Corr size:"
       ]
      },
      {
       "output_type": "stream",
       "stream": "stdout",
       "text": [
        " 1000\n",
        "1000\n",
        "[ 1.         -0.13556606 -0.04631176 -0.03127656  0.03150506 -0.05515723\n",
        "  0.03150506 -0.03127656 -0.04631176 -0.13556606]\n",
        "Shape of Correlation:  (10, 10, 10)\n",
        "DENSITY FIELD MEAN: "
       ]
      },
      {
       "output_type": "stream",
       "stream": "stdout",
       "text": [
        " 996.046750022\n",
        "Corr size:"
       ]
      },
      {
       "output_type": "stream",
       "stream": "stdout",
       "text": [
        " 1000\n",
        "1000\n",
        "[ 1.         -0.1687774   0.04987597 -0.01081615  0.01252134 -0.02708962\n",
        "  0.01252134 -0.01081615  0.04987597 -0.1687774 ]\n",
        "Shape of Correlation:  (10, 10, 10)\n",
        "DENSITY FIELD MEAN: "
       ]
      },
      {
       "output_type": "stream",
       "stream": "stdout",
       "text": [
        " 995.98674273\n",
        "Corr size:"
       ]
      },
      {
       "output_type": "stream",
       "stream": "stdout",
       "text": [
        " 1000\n",
        "1000\n",
        "[ 1.         -0.11867461 -0.02047698 -0.0136517  -0.05610447  0.03732605\n",
        " -0.05610447 -0.0136517  -0.02047698 -0.11867461]\n",
        "Shape of Correlation:  (10, 10, 10)\n",
        "52.909030718 % progress\n",
        "DENSITY FIELD MEAN: "
       ]
      },
      {
       "output_type": "stream",
       "stream": "stdout",
       "text": [
        " 995.746761759\n",
        "Corr size:"
       ]
      },
      {
       "output_type": "stream",
       "stream": "stdout",
       "text": [
        " 1000\n",
        "1000\n",
        "[ 1.         -0.07606809 -0.0089649  -0.02868098 -0.02491143 -0.02301701\n",
        " -0.02491143 -0.02868098 -0.0089649  -0.07606809]\n",
        "Shape of Correlation:  (10, 10, 10)\n",
        "DENSITY FIELD MEAN: "
       ]
      },
      {
       "output_type": "stream",
       "stream": "stdout",
       "text": [
        " 999.836947962\n",
        "Corr size:"
       ]
      },
      {
       "output_type": "stream",
       "stream": "stdout",
       "text": [
        " 1000\n",
        "1000\n",
        "[ 1.         -0.10082366 -0.0205992  -0.02397714  0.04375583 -0.05002956\n",
        "  0.04375583 -0.02397714 -0.0205992  -0.10082366]\n",
        "Shape of Correlation:  (10, 10, 10)\n",
        "DENSITY FIELD MEAN: "
       ]
      },
      {
       "output_type": "stream",
       "stream": "stdout",
       "text": [
        " 999.165174685\n",
        "Corr size:"
       ]
      },
      {
       "output_type": "stream",
       "stream": "stdout",
       "text": [
        " 1000\n",
        "1000\n",
        "[ 1.         -0.07998899  0.01544418 -0.00922162 -0.01395207  0.04440443\n",
        " -0.01395207 -0.00922162  0.01544418 -0.07998899]\n",
        "Shape of Correlation:  (10, 10, 10)\n",
        "DENSITY FIELD MEAN: "
       ]
      },
      {
       "output_type": "stream",
       "stream": "stdout",
       "text": [
        " 999.587115796\n",
        "Corr size:"
       ]
      },
      {
       "output_type": "stream",
       "stream": "stdout",
       "text": [
        " 1000\n",
        "1000\n",
        "[ 1.         -0.12987477  0.00149866  0.04870203 -0.01770272  0.01223399\n",
        " -0.01770272  0.04870203  0.00149866 -0.12987477]\n",
        "Shape of Correlation:  (10, 10, 10)\n",
        "DENSITY FIELD MEAN: "
       ]
      },
      {
       "output_type": "stream",
       "stream": "stdout",
       "text": [
        " 987.209377463\n",
        "Corr size:"
       ]
      },
      {
       "output_type": "stream",
       "stream": "stdout",
       "text": [
        " 1000\n",
        "1000\n",
        "[ 1.         -0.1715427   0.04680555 -0.06719832  0.02586658  0.03222734\n",
        "  0.02586658 -0.06719832  0.04680555 -0.1715427 ]\n",
        "Shape of Correlation:  (10, 10, 10)\n",
        "53.9073143164 % progress\n",
        "DENSITY FIELD MEAN: "
       ]
      },
      {
       "output_type": "stream",
       "stream": "stdout",
       "text": [
        " 988.905627709\n",
        "Corr size:"
       ]
      },
      {
       "output_type": "stream",
       "stream": "stdout",
       "text": [
        " 1000\n",
        "1000\n",
        "[ 1.         -0.10330073 -0.00816695 -0.01399088  0.00448313 -0.0753599\n",
        "  0.00448313 -0.01399088 -0.00816695 -0.10330073]\n",
        "Shape of Correlation:  (10, 10, 10)\n",
        "DENSITY FIELD MEAN: "
       ]
      },
      {
       "output_type": "stream",
       "stream": "stdout",
       "text": [
        " 988.396344871\n",
        "Corr size:"
       ]
      },
      {
       "output_type": "stream",
       "stream": "stdout",
       "text": [
        " 1000\n",
        "1000\n",
        "[ 1.         -0.06759812 -0.03027101  0.01378617  0.00415928  0.01129125\n",
        "  0.00415928  0.01378617 -0.03027101 -0.06759812]\n",
        "Shape of Correlation:  (10, 10, 10)\n",
        "DENSITY FIELD MEAN: "
       ]
      },
      {
       "output_type": "stream",
       "stream": "stdout",
       "text": [
        " 996.492669422\n",
        "Corr size:"
       ]
      },
      {
       "output_type": "stream",
       "stream": "stdout",
       "text": [
        " 1000\n",
        "1000\n",
        "[ 1.         -0.12798957  0.05527634 -0.0167799  -0.00236486 -0.05150089\n",
        " -0.00236486 -0.0167799   0.05527634 -0.12798957]\n",
        "Shape of Correlation:  (10, 10, 10)\n",
        "DENSITY FIELD MEAN: "
       ]
      },
      {
       "output_type": "stream",
       "stream": "stdout",
       "text": [
        " 1003.28276257\n",
        "Corr size:"
       ]
      },
      {
       "output_type": "stream",
       "stream": "stdout",
       "text": [
        " 1000\n",
        "1000\n",
        "[ 1.         -0.14943186 -0.00546085  0.00794285  0.00238913 -0.03994004\n",
        "  0.00238913  0.00794285 -0.00546085 -0.14943186]\n",
        "Shape of Correlation:  (10, 10, 10)\n",
        "DENSITY FIELD MEAN: "
       ]
      },
      {
       "output_type": "stream",
       "stream": "stdout",
       "text": [
        " 986.828255876\n",
        "Corr size:"
       ]
      },
      {
       "output_type": "stream",
       "stream": "stdout",
       "text": [
        " 1000\n",
        "1000\n",
        "[ 1.         -0.14300972  0.01319011 -0.06046659  0.02815262  0.03908615\n",
        "  0.02815262 -0.06046659  0.01319011 -0.14300972]\n",
        "Shape of Correlation:  (10, 10, 10)\n",
        "54.9083981494 % progress\n",
        "DENSITY FIELD MEAN: "
       ]
      },
      {
       "output_type": "stream",
       "stream": "stdout",
       "text": [
        " 1007.94540385\n",
        "Corr size:"
       ]
      },
      {
       "output_type": "stream",
       "stream": "stdout",
       "text": [
        " 1000\n",
        "1000\n",
        "[ 1.         -0.15642745 -0.01126789 -0.00970049  0.03292148 -0.12927913\n",
        "  0.03292148 -0.00970049 -0.01126789 -0.15642745]\n",
        "Shape of Correlation:  (10, 10, 10)\n",
        "DENSITY FIELD MEAN: "
       ]
      },
      {
       "output_type": "stream",
       "stream": "stdout",
       "text": [
        " 996.827283667\n",
        "Corr size:"
       ]
      },
      {
       "output_type": "stream",
       "stream": "stdout",
       "text": [
        " 1000\n",
        "1000\n",
        "[ 1.         -0.1419346   0.00332331 -0.02799474  0.0045979  -0.00592721\n",
        "  0.0045979  -0.02799474  0.00332331 -0.1419346 ]\n",
        "Shape of Correlation:  (10, 10, 10)\n",
        "DENSITY FIELD MEAN: "
       ]
      },
      {
       "output_type": "stream",
       "stream": "stdout",
       "text": [
        " 990.265426936\n",
        "Corr size:"
       ]
      },
      {
       "output_type": "stream",
       "stream": "stdout",
       "text": [
        " 1000\n",
        "1000\n",
        "[ 1.         -0.16229581 -0.00593346  0.02620366  0.04198756 -0.00374256\n",
        "  0.04198756  0.02620366 -0.00593346 -0.16229581]\n",
        "Shape of Correlation:  (10, 10, 10)\n",
        "DENSITY FIELD MEAN: "
       ]
      },
      {
       "output_type": "stream",
       "stream": "stdout",
       "text": [
        " 994.453906771\n",
        "Corr size:"
       ]
      },
      {
       "output_type": "stream",
       "stream": "stdout",
       "text": [
        " 1000\n",
        "1000\n",
        "[ 1.         -0.15815718  0.02264779 -0.05940554 -0.01224379 -0.01620901\n",
        " -0.01224379 -0.05940554  0.02264779 -0.15815718]\n",
        "Shape of Correlation:  (10, 10, 10)\n",
        "DENSITY FIELD MEAN: "
       ]
      },
      {
       "output_type": "stream",
       "stream": "stdout",
       "text": [
        " 989.287819472\n",
        "Corr size:"
       ]
      },
      {
       "output_type": "stream",
       "stream": "stdout",
       "text": [
        " 1000\n",
        "1000\n",
        "[ 1.         -0.12511045  0.02083592  0.03997902 -0.00142617  0.01031721\n",
        " -0.00142617  0.03997902  0.02083592 -0.12511045]\n",
        "Shape of Correlation:  (10, 10, 10)\n",
        "55.9052816306 % progress\n",
        "DENSITY FIELD MEAN: "
       ]
      },
      {
       "output_type": "stream",
       "stream": "stdout",
       "text": [
        " 994.342706037\n",
        "Corr size:"
       ]
      },
      {
       "output_type": "stream",
       "stream": "stdout",
       "text": [
        " 1000\n",
        "1000\n",
        "[ 1.         -0.09630406 -0.01194813 -0.03748059 -0.015745    0.05780322\n",
        " -0.015745   -0.03748059 -0.01194813 -0.09630406]\n",
        "Shape of Correlation:  (10, 10, 10)\n",
        "DENSITY FIELD MEAN: "
       ]
      },
      {
       "output_type": "stream",
       "stream": "stdout",
       "text": [
        " 983.72730971\n",
        "Corr size:"
       ]
      },
      {
       "output_type": "stream",
       "stream": "stdout",
       "text": [
        " 1000\n",
        "1000\n",
        "[ 1.         -0.11200162  0.02198317  0.01857694 -0.06616511  0.03410789\n",
        " -0.06616511  0.01857694  0.02198317 -0.11200162]\n",
        "Shape of Correlation:  (10, 10, 10)\n",
        "DENSITY FIELD MEAN: "
       ]
      },
      {
       "output_type": "stream",
       "stream": "stdout",
       "text": [
        " 978.961965568\n",
        "Corr size:"
       ]
      },
      {
       "output_type": "stream",
       "stream": "stdout",
       "text": [
        " 1000\n",
        "1000\n",
        "[ 1.         -0.14218869  0.00988893  0.00510183  0.05106673  0.01328014\n",
        "  0.05106673  0.00510183  0.00988893 -0.14218869]\n",
        "Shape of Correlation:  (10, 10, 10)\n",
        "DENSITY FIELD MEAN: "
       ]
      },
      {
       "output_type": "stream",
       "stream": "stdout",
       "text": [
        " 1001.95092555\n",
        "Corr size:"
       ]
      },
      {
       "output_type": "stream",
       "stream": "stdout",
       "text": [
        " 1000\n",
        "1000\n",
        "[ 1.         -0.15320832  0.01834981 -0.004576   -0.00574665 -0.02059331\n",
        " -0.00574665 -0.004576    0.01834981 -0.15320832]\n",
        "Shape of Correlation:  (10, 10, 10)\n",
        "DENSITY FIELD MEAN: "
       ]
      },
      {
       "output_type": "stream",
       "stream": "stdout",
       "text": [
        " 990.256920451\n",
        "Corr size:"
       ]
      },
      {
       "output_type": "stream",
       "stream": "stdout",
       "text": [
        " 1000\n",
        "1000\n",
        "[ 1.         -0.13057557  0.01317512 -0.00249295  0.06360757  0.02125646\n",
        "  0.06360757 -0.00249295  0.01317512 -0.13057557]\n",
        "Shape of Correlation:  (10, 10, 10)\n",
        "56.903565229 % progress\n",
        "DENSITY FIELD MEAN: "
       ]
      },
      {
       "output_type": "stream",
       "stream": "stdout",
       "text": [
        " 1005.18948466\n",
        "Corr size:"
       ]
      },
      {
       "output_type": "stream",
       "stream": "stdout",
       "text": [
        " 1000\n",
        "1000\n",
        "[ 1.         -0.1202327   0.06631766  0.019638    0.02776377 -0.01013212\n",
        "  0.02776377  0.019638    0.06631766 -0.1202327 ]\n",
        "Shape of Correlation:  (10, 10, 10)\n",
        "DENSITY FIELD MEAN: "
       ]
      },
      {
       "output_type": "stream",
       "stream": "stdout",
       "text": [
        " 998.038293541\n",
        "Corr size:"
       ]
      },
      {
       "output_type": "stream",
       "stream": "stdout",
       "text": [
        " 1000\n",
        "1000\n",
        "[ 1.         -0.15111413 -0.03583078  0.03371586 -0.023054    0.05321245\n",
        " -0.023054    0.03371586 -0.03583078 -0.15111413]\n",
        "Shape of Correlation:  (10, 10, 10)\n",
        "DENSITY FIELD MEAN: "
       ]
      },
      {
       "output_type": "stream",
       "stream": "stdout",
       "text": [
        " 1006.96185574\n",
        "Corr size:"
       ]
      },
      {
       "output_type": "stream",
       "stream": "stdout",
       "text": [
        " 1000\n",
        "1000\n",
        "[  1.00000000e+00  -1.39864349e-01   2.09026104e-02   3.06258842e-04\n",
        "  -4.36304016e-02   7.72796500e-03  -4.36304016e-02   3.06258842e-04\n",
        "   2.09026104e-02  -1.39864349e-01]\n",
        "Shape of Correlation:  (10, 10, 10)\n",
        "DENSITY FIELD MEAN: "
       ]
      },
      {
       "output_type": "stream",
       "stream": "stdout",
       "text": [
        " 988.336951322\n",
        "Corr size:"
       ]
      },
      {
       "output_type": "stream",
       "stream": "stdout",
       "text": [
        " 1000\n",
        "1000\n",
        "[ 1.         -0.11253666  0.01689715 -0.02326986 -0.03122575  0.06103838\n",
        " -0.03122575 -0.02326986  0.01689715 -0.11253666]\n",
        "Shape of Correlation:  (10, 10, 10)\n",
        "DENSITY FIELD MEAN: "
       ]
      },
      {
       "output_type": "stream",
       "stream": "stdout",
       "text": [
        " 995.75533118\n",
        "Corr size:"
       ]
      },
      {
       "output_type": "stream",
       "stream": "stdout",
       "text": [
        " 1000\n",
        "1000\n",
        "[ 1.         -0.09727525 -0.03918096  0.02675616  0.03745487 -0.12217018\n",
        "  0.03745487  0.02675616 -0.03918096 -0.09727525]\n",
        "Shape of Correlation:  (10, 10, 10)\n",
        "57.899048593 % progress\n",
        "DENSITY FIELD MEAN: "
       ]
      },
      {
       "output_type": "stream",
       "stream": "stdout",
       "text": [
        " 982.01765174\n",
        "Corr size:"
       ]
      },
      {
       "output_type": "stream",
       "stream": "stdout",
       "text": [
        " 1000\n",
        "1000\n",
        "[ 1.         -0.10735427 -0.04183557 -0.04358722  0.02755862  0.06688868\n",
        "  0.02755862 -0.04358722 -0.04183557 -0.10735427]\n",
        "Shape of Correlation:  (10, 10, 10)\n",
        "DENSITY FIELD MEAN: "
       ]
      },
      {
       "output_type": "stream",
       "stream": "stdout",
       "text": [
        " 997.376718945\n",
        "Corr size:"
       ]
      },
      {
       "output_type": "stream",
       "stream": "stdout",
       "text": [
        " 1000\n",
        "1000\n",
        "[ 1.         -0.17333487 -0.00640097 -0.03294368 -0.0153095   0.05366053\n",
        " -0.0153095  -0.03294368 -0.00640097 -0.17333487]\n",
        "Shape of Correlation:  (10, 10, 10)\n",
        "DENSITY FIELD MEAN: "
       ]
      },
      {
       "output_type": "stream",
       "stream": "stdout",
       "text": [
        " 999.880030888\n",
        "Corr size:"
       ]
      },
      {
       "output_type": "stream",
       "stream": "stdout",
       "text": [
        " 1000\n",
        "1000\n",
        "[ 1.         -0.17557024  0.0049169  -0.00166202 -0.06523455  0.02650079\n",
        " -0.06523455 -0.00166202  0.0049169  -0.17557024]\n",
        "Shape of Correlation:  (10, 10, 10)\n",
        "DENSITY FIELD MEAN: "
       ]
      },
      {
       "output_type": "stream",
       "stream": "stdout",
       "text": [
        " 999.406254806\n",
        "Corr size:"
       ]
      },
      {
       "output_type": "stream",
       "stream": "stdout",
       "text": [
        " 1000\n",
        "1000\n",
        "[ 1.         -0.0895643   0.01861663  0.00254847  0.00305076 -0.01110384\n",
        "  0.00305076  0.00254847  0.01861663 -0.0895643 ]\n",
        "Shape of Correlation:  (10, 10, 10)\n",
        "DENSITY FIELD MEAN: "
       ]
      },
      {
       "output_type": "stream",
       "stream": "stdout",
       "text": [
        " 994.46246136\n",
        "Corr size:"
       ]
      },
      {
       "output_type": "stream",
       "stream": "stdout",
       "text": [
        " 1000\n",
        "1000\n",
        "[ 1.         -0.09973916 -0.01468776  0.03272149  0.00560782 -0.0039179\n",
        "  0.00560782  0.03272149 -0.01468776 -0.09973916]\n",
        "Shape of Correlation:  (10, 10, 10)\n",
        "58.9015325432 % progress\n",
        "DENSITY FIELD MEAN: "
       ]
      },
      {
       "output_type": "stream",
       "stream": "stdout",
       "text": [
        " 991.857853757\n",
        "Corr size:"
       ]
      },
      {
       "output_type": "stream",
       "stream": "stdout",
       "text": [
        " 1000\n",
        "1000\n",
        "[ 1.         -0.19008711 -0.0205831  -0.00592257 -0.00859907  0.01019559\n",
        " -0.00859907 -0.00592257 -0.0205831  -0.19008711]\n",
        "Shape of Correlation:  (10, 10, 10)\n",
        "DENSITY FIELD MEAN: "
       ]
      },
      {
       "output_type": "stream",
       "stream": "stdout",
       "text": [
        " 980.572173623\n",
        "Corr size:"
       ]
      },
      {
       "output_type": "stream",
       "stream": "stdout",
       "text": [
        " 1000\n",
        "1000\n",
        "[ 1.         -0.08458101 -0.021415    0.01826903 -0.02096942 -0.04918517\n",
        " -0.02096942  0.01826903 -0.021415   -0.08458101]\n",
        "Shape of Correlation:  (10, 10, 10)\n",
        "DENSITY FIELD MEAN: "
       ]
      },
      {
       "output_type": "stream",
       "stream": "stdout",
       "text": [
        " 1008.04121588\n",
        "Corr size:"
       ]
      },
      {
       "output_type": "stream",
       "stream": "stdout",
       "text": [
        " 1000\n",
        "1000\n",
        "[ 1.         -0.13056895  0.02494107  0.01688606  0.01755043  0.02778282\n",
        "  0.01755043  0.01688606  0.02494107 -0.13056895]\n",
        "Shape of Correlation:  (10, 10, 10)\n",
        "DENSITY FIELD MEAN: "
       ]
      },
      {
       "output_type": "stream",
       "stream": "stdout",
       "text": [
        " 995.189960228\n",
        "Corr size:"
       ]
      },
      {
       "output_type": "stream",
       "stream": "stdout",
       "text": [
        " 1000\n",
        "1000\n",
        "[ 1.         -0.08379037  0.04896153 -0.01019756 -0.04721399  0.01052473\n",
        " -0.04721399 -0.01019756  0.04896153 -0.08379037]\n",
        "Shape of Correlation:  (10, 10, 10)\n",
        "DENSITY FIELD MEAN: "
       ]
      },
      {
       "output_type": "stream",
       "stream": "stdout",
       "text": [
        " 994.530901608\n",
        "Corr size:"
       ]
      },
      {
       "output_type": "stream",
       "stream": "stdout",
       "text": [
        " 1000\n",
        "1000\n",
        "[  1.00000000e+00  -1.11450941e-01   5.20779052e-04   4.80854393e-02\n",
        "  -3.60395279e-02   5.22774830e-02  -3.60395279e-02   4.80854393e-02\n",
        "   5.20779052e-04  -1.11450941e-01]\n",
        "Shape of Correlation:  (10, 10, 10)\n",
        "59.8956157899 % progress\n",
        "DENSITY FIELD MEAN: "
       ]
      },
      {
       "output_type": "stream",
       "stream": "stdout",
       "text": [
        " 999.724943938\n",
        "Corr size:"
       ]
      },
      {
       "output_type": "stream",
       "stream": "stdout",
       "text": [
        " 1000\n",
        "1000\n",
        "[ 1.         -0.10566545  0.02238048  0.02139289 -0.04500472  0.01700634\n",
        " -0.04500472  0.02139289  0.02238048 -0.10566545]\n",
        "Shape of Correlation:  (10, 10, 10)\n",
        "DENSITY FIELD MEAN: "
       ]
      },
      {
       "output_type": "stream",
       "stream": "stdout",
       "text": [
        " 1008.53789092\n",
        "Corr size:"
       ]
      },
      {
       "output_type": "stream",
       "stream": "stdout",
       "text": [
        " 1000\n",
        "1000\n",
        "[ 1.         -0.10409384  0.0462007  -0.01076701 -0.02122767 -0.00524777\n",
        " -0.02122767 -0.01076701  0.0462007  -0.10409384]\n",
        "Shape of Correlation:  (10, 10, 10)\n",
        "DENSITY FIELD MEAN: "
       ]
      },
      {
       "output_type": "stream",
       "stream": "stdout",
       "text": [
        " 994.043401841\n",
        "Corr size:"
       ]
      },
      {
       "output_type": "stream",
       "stream": "stdout",
       "text": [
        " 1000\n",
        "1000\n",
        "[ 1.         -0.1087562  -0.02710697  0.02115223 -0.02021935  0.05893501\n",
        " -0.02021935  0.02115223 -0.02710697 -0.1087562 ]\n",
        "Shape of Correlation:  (10, 10, 10)\n",
        "DENSITY FIELD MEAN: "
       ]
      },
      {
       "output_type": "stream",
       "stream": "stdout",
       "text": [
        " 1000.87162172\n",
        "Corr size:"
       ]
      },
      {
       "output_type": "stream",
       "stream": "stdout",
       "text": [
        " 1000\n",
        "1000\n",
        "[ 1.         -0.13909704 -0.03192031  0.035393   -0.0015817   0.02362478\n",
        " -0.0015817   0.035393   -0.03192031 -0.13909704]\n",
        "Shape of Correlation:  (10, 10, 10)\n",
        "DENSITY FIELD MEAN: "
       ]
      },
      {
       "output_type": "stream",
       "stream": "stdout",
       "text": [
        " 998.691850144\n",
        "Corr size:"
       ]
      },
      {
       "output_type": "stream",
       "stream": "stdout",
       "text": [
        " 1000\n",
        "1000\n",
        "[ 1.         -0.19239901  0.02019956  0.00488364  0.02183547 -0.00699614\n",
        "  0.02183547  0.00488364  0.02019956 -0.19239901]\n",
        "Shape of Correlation:  (10, 10, 10)\n",
        "60.8938993883 % progress\n",
        "DENSITY FIELD MEAN: "
       ]
      },
      {
       "output_type": "stream",
       "stream": "stdout",
       "text": [
        " 991.95163222\n",
        "Corr size:"
       ]
      },
      {
       "output_type": "stream",
       "stream": "stdout",
       "text": [
        " 1000\n",
        "1000\n",
        "[ 1.         -0.15916775  0.03558117 -0.04687325 -0.0214256   0.0623356\n",
        " -0.0214256  -0.04687325  0.03558117 -0.15916775]\n",
        "Shape of Correlation:  (10, 10, 10)\n",
        "DENSITY FIELD MEAN: "
       ]
      },
      {
       "output_type": "stream",
       "stream": "stdout",
       "text": [
        " 982.766718122\n",
        "Corr size:"
       ]
      },
      {
       "output_type": "stream",
       "stream": "stdout",
       "text": [
        " 1000\n",
        "1000\n",
        "[ 1.         -0.21299716  0.03543661 -0.0418385   0.01021329  0.0241367\n",
        "  0.01021329 -0.0418385   0.03543661 -0.21299716]\n",
        "Shape of Correlation:  (10, 10, 10)\n",
        "DENSITY FIELD MEAN: "
       ]
      },
      {
       "output_type": "stream",
       "stream": "stdout",
       "text": [
        " 988.006131499\n",
        "Corr size:"
       ]
      },
      {
       "output_type": "stream",
       "stream": "stdout",
       "text": [
        " 1000\n",
        "1000\n",
        "[ 1.         -0.14629399  0.02841902 -0.00564283  0.01737197  0.0135172\n",
        "  0.01737197 -0.00564283  0.02841902 -0.14629399]\n",
        "Shape of Correlation:  (10, 10, 10)\n",
        "DENSITY FIELD MEAN: "
       ]
      },
      {
       "output_type": "stream",
       "stream": "stdout",
       "text": [
        " 1004.50424255\n",
        "Corr size:"
       ]
      },
      {
       "output_type": "stream",
       "stream": "stdout",
       "text": [
        " 1000\n",
        "1000\n",
        "[ 1.         -0.16426177  0.0064623   0.03356    -0.01664137  0.07977239\n",
        " -0.01664137  0.03356     0.0064623  -0.16426177]\n",
        "Shape of Correlation:  (10, 10, 10)\n",
        "DENSITY FIELD MEAN: "
       ]
      },
      {
       "output_type": "stream",
       "stream": "stdout",
       "text": [
        " 999.20821902\n",
        "Corr size:"
       ]
      },
      {
       "output_type": "stream",
       "stream": "stdout",
       "text": [
        " 1000\n",
        "1000\n",
        "[  1.00000000e+00  -1.12343038e-01   1.13422595e-02   5.11182508e-02\n",
        "  -6.19900041e-04  -1.39732845e-02  -6.19900041e-04   5.11182508e-02\n",
        "   1.13422595e-02  -1.12343038e-01]\n",
        "Shape of Correlation:  (10, 10, 10)\n",
        "61.8977834558 % progress\n",
        "DENSITY FIELD MEAN: "
       ]
      },
      {
       "output_type": "stream",
       "stream": "stdout",
       "text": [
        " 1000.12134102\n",
        "Corr size:"
       ]
      },
      {
       "output_type": "stream",
       "stream": "stdout",
       "text": [
        " 1000\n",
        "1000\n",
        "[ 1.         -0.12887976 -0.04655618  0.00405758 -0.03553986 -0.0649768\n",
        " -0.03553986  0.00405758 -0.04655618 -0.12887976]\n",
        "Shape of Correlation:  (10, 10, 10)\n",
        "DENSITY FIELD MEAN: "
       ]
      },
      {
       "output_type": "stream",
       "stream": "stdout",
       "text": [
        " 1000.88025\n",
        "Corr size:"
       ]
      },
      {
       "output_type": "stream",
       "stream": "stdout",
       "text": [
        " 1000\n",
        "1000\n",
        "[  1.00000000e+00  -1.34971698e-01   9.08350905e-04  -6.76043482e-03\n",
        "  -2.43104838e-05   4.28805424e-02  -2.43104838e-05  -6.76043482e-03\n",
        "   9.08350905e-04  -1.34971698e-01]\n",
        "Shape of Correlation:  (10, 10, 10)\n",
        "DENSITY FIELD MEAN: "
       ]
      },
      {
       "output_type": "stream",
       "stream": "stdout",
       "text": [
        " 993.351186955\n",
        "Corr size:"
       ]
      },
      {
       "output_type": "stream",
       "stream": "stdout",
       "text": [
        " 1000\n",
        "1000\n",
        "[ 1.         -0.15096131  0.00419111 -0.02739782 -0.00242465  0.02403602\n",
        " -0.00242465 -0.02739782  0.00419111 -0.15096131]\n",
        "Shape of Correlation:  (10, 10, 10)\n",
        "DENSITY FIELD MEAN: "
       ]
      },
      {
       "output_type": "stream",
       "stream": "stdout",
       "text": [
        " 995.0187202\n",
        "Corr size:"
       ]
      },
      {
       "output_type": "stream",
       "stream": "stdout",
       "text": [
        " 1000\n",
        "1000\n",
        "[ 1.         -0.14473807  0.06467593  0.01111822 -0.03937738  0.01403136\n",
        " -0.03937738  0.01111822  0.06467593 -0.14473807]\n",
        "Shape of Correlation:  (10, 10, 10)\n",
        "DENSITY FIELD MEAN: "
       ]
      },
      {
       "output_type": "stream",
       "stream": "stdout",
       "text": [
        " 1000.03514992\n",
        "Corr size:"
       ]
      },
      {
       "output_type": "stream",
       "stream": "stdout",
       "text": [
        " 1000\n",
        "1000\n",
        "[ 1.         -0.10396333 -0.02446268 -0.01460393 -0.00354469 -0.00246004\n",
        " -0.00354469 -0.01460393 -0.02446268 -0.10396333]\n",
        "Shape of Correlation:  (10, 10, 10)\n",
        "62.8932668197 % progress\n",
        "DENSITY FIELD MEAN: "
       ]
      },
      {
       "output_type": "stream",
       "stream": "stdout",
       "text": [
        " 987.082315131\n",
        "Corr size:"
       ]
      },
      {
       "output_type": "stream",
       "stream": "stdout",
       "text": [
        " 1000\n",
        "1000\n",
        "[ 1.         -0.19154065 -0.03244998  0.00308128  0.02408872 -0.06728981\n",
        "  0.02408872  0.00308128 -0.03244998 -0.19154065]\n",
        "Shape of Correlation:  (10, 10, 10)\n",
        "DENSITY FIELD MEAN: "
       ]
      },
      {
       "output_type": "stream",
       "stream": "stdout",
       "text": [
        " 995.892455295\n",
        "Corr size:"
       ]
      },
      {
       "output_type": "stream",
       "stream": "stdout",
       "text": [
        " 1000\n",
        "1000\n",
        "[  1.00000000e+00  -1.16253071e-01  -2.92785774e-02  -2.23443135e-02\n",
        "   3.07263958e-02   6.38666718e-04   3.07263958e-02  -2.23443135e-02\n",
        "  -2.92785774e-02  -1.16253071e-01]\n",
        "Shape of Correlation:  (10, 10, 10)\n",
        "DENSITY FIELD MEAN: "
       ]
      },
      {
       "output_type": "stream",
       "stream": "stdout",
       "text": [
        " 1011.90994091\n",
        "Corr size:"
       ]
      },
      {
       "output_type": "stream",
       "stream": "stdout",
       "text": [
        " 1000\n",
        "1000\n",
        "[ 1.         -0.15637347  0.02077522 -0.04213574  0.01077963 -0.09690577\n",
        "  0.01077963 -0.04213574  0.02077522 -0.15637347]\n",
        "Shape of Correlation:  (10, 10, 10)\n",
        "DENSITY FIELD MEAN: "
       ]
      },
      {
       "output_type": "stream",
       "stream": "stdout",
       "text": [
        " 1004.35686683\n",
        "Corr size:"
       ]
      },
      {
       "output_type": "stream",
       "stream": "stdout",
       "text": [
        " 1000\n",
        "1000\n",
        "[ 1.         -0.07893112 -0.03870679  0.06313384 -0.05545702 -0.01034878\n",
        " -0.05545702  0.06313384 -0.03870679 -0.07893112]\n",
        "Shape of Correlation:  (10, 10, 10)\n",
        "DENSITY FIELD MEAN: "
       ]
      },
      {
       "output_type": "stream",
       "stream": "stdout",
       "text": [
        " 998.803699868\n",
        "Corr size:"
       ]
      },
      {
       "output_type": "stream",
       "stream": "stdout",
       "text": [
        " 1000\n",
        "1000\n",
        "[ 1.         -0.06075849 -0.02529937 -0.06436522 -0.00104271  0.01674253\n",
        " -0.00104271 -0.06436522 -0.02529937 -0.06075849]\n",
        "Shape of Correlation:  (10, 10, 10)\n",
        "63.8901503009 % progress\n",
        "DENSITY FIELD MEAN: "
       ]
      },
      {
       "output_type": "stream",
       "stream": "stdout",
       "text": [
        " 1003.68970241\n",
        "Corr size:"
       ]
      },
      {
       "output_type": "stream",
       "stream": "stdout",
       "text": [
        " 1000\n",
        "1000\n",
        "[ 1.         -0.18095372  0.05085332 -0.03719223  0.00388774  0.03154937\n",
        "  0.00388774 -0.03719223  0.05085332 -0.18095372]\n",
        "Shape of Correlation:  (10, 10, 10)\n",
        "DENSITY FIELD MEAN: "
       ]
      },
      {
       "output_type": "stream",
       "stream": "stdout",
       "text": [
        " 996.209651258\n",
        "Corr size:"
       ]
      },
      {
       "output_type": "stream",
       "stream": "stdout",
       "text": [
        " 1000\n",
        "1000\n",
        "[ 1.         -0.08768108  0.00523937  0.00453228 -0.03184154 -0.06825912\n",
        " -0.03184154  0.00453228  0.00523937 -0.08768108]\n",
        "Shape of Correlation:  (10, 10, 10)\n",
        "DENSITY FIELD MEAN: "
       ]
      },
      {
       "output_type": "stream",
       "stream": "stdout",
       "text": [
        " 989.95925485\n",
        "Corr size:"
       ]
      },
      {
       "output_type": "stream",
       "stream": "stdout",
       "text": [
        " 1000\n",
        "1000\n",
        "[ 1.         -0.10827732  0.00347994 -0.0176387  -0.01493433  0.05376953\n",
        " -0.01493433 -0.0176387   0.00347994 -0.10827732]\n",
        "Shape of Correlation:  (10, 10, 10)\n",
        "DENSITY FIELD MEAN: "
       ]
      },
      {
       "output_type": "stream",
       "stream": "stdout",
       "text": [
        " 1019.41514209\n",
        "Corr size:"
       ]
      },
      {
       "output_type": "stream",
       "stream": "stdout",
       "text": [
        " 1000\n",
        "1000\n",
        "[ 1.         -0.19810029  0.06227987 -0.03494105 -0.02013105  0.06316526\n",
        " -0.02013105 -0.03494105  0.06227987 -0.19810029]\n",
        "Shape of Correlation:  (10, 10, 10)\n",
        "DENSITY FIELD MEAN: "
       ]
      },
      {
       "output_type": "stream",
       "stream": "stdout",
       "text": [
        " 1003.47321766\n",
        "Corr size:"
       ]
      },
      {
       "output_type": "stream",
       "stream": "stdout",
       "text": [
        " 1000\n",
        "1000\n",
        "[ 1.         -0.13130347  0.02219274  0.01344281 -0.07092476  0.07381593\n",
        " -0.07092476  0.01344281  0.02219274 -0.13130347]\n",
        "Shape of Correlation:  (10, 10, 10)\n",
        "64.8898340166 % progress\n",
        "DENSITY FIELD MEAN: "
       ]
      },
      {
       "output_type": "stream",
       "stream": "stdout",
       "text": [
        " 995.232776374\n",
        "Corr size:"
       ]
      },
      {
       "output_type": "stream",
       "stream": "stdout",
       "text": [
        " 1000\n",
        "1000\n",
        "[  1.00000000e+00  -1.20154771e-01   5.87490353e-03   6.35905165e-03\n",
        "   1.23698541e-02  -2.04015993e-04   1.23698541e-02   6.35905165e-03\n",
        "   5.87490353e-03  -1.20154771e-01]\n",
        "Shape of Correlation:  (10, 10, 10)\n",
        "DENSITY FIELD MEAN: "
       ]
      },
      {
       "output_type": "stream",
       "stream": "stdout",
       "text": [
        " 992.343924813\n",
        "Corr size:"
       ]
      },
      {
       "output_type": "stream",
       "stream": "stdout",
       "text": [
        " 1000\n",
        "1000\n",
        "[ 1.         -0.09611308 -0.03046037  0.01297435 -0.02329759  0.01555645\n",
        " -0.02329759  0.01297435 -0.03046037 -0.09611308]\n",
        "Shape of Correlation:  (10, 10, 10)\n",
        "DENSITY FIELD MEAN: "
       ]
      },
      {
       "output_type": "stream",
       "stream": "stdout",
       "text": [
        " 994.017752785\n",
        "Corr size:"
       ]
      },
      {
       "output_type": "stream",
       "stream": "stdout",
       "text": [
        " 1000\n",
        "1000\n",
        "[ 1.         -0.09750298  0.02851073 -0.04199943  0.02143597 -0.05086876\n",
        "  0.02143597 -0.04199943  0.02851073 -0.09750298]\n",
        "Shape of Correlation:  (10, 10, 10)\n",
        "DENSITY FIELD MEAN: "
       ]
      },
      {
       "output_type": "stream",
       "stream": "stdout",
       "text": [
        " 988.999034179\n",
        "Corr size:"
       ]
      },
      {
       "output_type": "stream",
       "stream": "stdout",
       "text": [
        " 1000\n",
        "1000\n",
        "[  1.00000000e+00  -1.30438403e-01  -1.99911431e-02   8.46810096e-04\n",
        "  -6.09806064e-03  -6.83317938e-02  -6.09806064e-03   8.46810096e-04\n",
        "  -1.99911431e-02  -1.30438403e-01]\n",
        "Shape of Correlation:  (10, 10, 10)\n",
        "DENSITY FIELD MEAN: "
       ]
      },
      {
       "output_type": "stream",
       "stream": "stdout",
       "text": [
        " 998.244618214\n",
        "Corr size:"
       ]
      },
      {
       "output_type": "stream",
       "stream": "stdout",
       "text": [
        " 1000\n",
        "1000\n",
        "[ 1.         -0.13549075 -0.02739655 -0.04642018  0.03783055 -0.00174222\n",
        "  0.03783055 -0.04642018 -0.02739655 -0.13549075]\n",
        "Shape of Correlation:  (10, 10, 10)\n",
        "65.8853173806 % progress\n",
        "DENSITY FIELD MEAN: "
       ]
      },
      {
       "output_type": "stream",
       "stream": "stdout",
       "text": [
        " 1002.56466124\n",
        "Corr size:"
       ]
      },
      {
       "output_type": "stream",
       "stream": "stdout",
       "text": [
        " 1000\n",
        "1000\n",
        "[ 1.         -0.16881413  0.01448173  0.01039148  0.01824455  0.01908484\n",
        "  0.01824455  0.01039148  0.01448173 -0.16881413]\n",
        "Shape of Correlation:  (10, 10, 10)\n",
        "DENSITY FIELD MEAN: "
       ]
      },
      {
       "output_type": "stream",
       "stream": "stdout",
       "text": [
        " 1011.90994091\n",
        "Corr size:"
       ]
      },
      {
       "output_type": "stream",
       "stream": "stdout",
       "text": [
        " 1000\n",
        "1000\n",
        "[ 1.         -0.12484394  0.01308954 -0.0275473  -0.02214408 -0.1053898\n",
        " -0.02214408 -0.0275473   0.01308954 -0.12484394]\n",
        "Shape of Correlation:  (10, 10, 10)\n",
        "DENSITY FIELD MEAN: "
       ]
      },
      {
       "output_type": "stream",
       "stream": "stdout",
       "text": [
        " 1012.22519857\n",
        "Corr size:"
       ]
      },
      {
       "output_type": "stream",
       "stream": "stdout",
       "text": [
        " 1000\n",
        "1000\n",
        "[ 1.         -0.12184276 -0.02084063  0.03460795 -0.02888971 -0.04224752\n",
        " -0.02888971  0.03460795 -0.02084063 -0.12184276]\n",
        "Shape of Correlation:  (10, 10, 10)\n",
        "DENSITY FIELD MEAN: "
       ]
      },
      {
       "output_type": "stream",
       "stream": "stdout",
       "text": [
        " 1005.5627265\n",
        "Corr size:"
       ]
      },
      {
       "output_type": "stream",
       "stream": "stdout",
       "text": [
        " 1000\n",
        "1000\n",
        "[ 1.         -0.15285302  0.01206533 -0.05958048 -0.00536703 -0.00141413\n",
        " -0.00536703 -0.05958048  0.01206533 -0.15285302]\n",
        "Shape of Correlation:  (10, 10, 10)\n",
        "DENSITY FIELD MEAN: "
       ]
      },
      {
       "output_type": "stream",
       "stream": "stdout",
       "text": [
        " 1003.50785103\n",
        "Corr size:"
       ]
      },
      {
       "output_type": "stream",
       "stream": "stdout",
       "text": [
        " 1000\n",
        "1000\n",
        "[ 1.         -0.10331164 -0.00514033  0.04149316 -0.02952802  0.05803206\n",
        " -0.02952802  0.04149316 -0.00514033 -0.10331164]\n",
        "Shape of Correlation:  (10, 10, 10)\n",
        "66.8850010963 % progress\n",
        "DENSITY FIELD MEAN: "
       ]
      },
      {
       "output_type": "stream",
       "stream": "stdout",
       "text": [
        " 1003.37798409\n",
        "Corr size:"
       ]
      },
      {
       "output_type": "stream",
       "stream": "stdout",
       "text": [
        " 1000\n",
        "1000\n",
        "[ 1.         -0.09039845 -0.05801512  0.08088019 -0.01501138  0.00272949\n",
        " -0.01501138  0.08088019 -0.05801512 -0.09039845]\n",
        "Shape of Correlation:  (10, 10, 10)\n",
        "DENSITY FIELD MEAN: "
       ]
      },
      {
       "output_type": "stream",
       "stream": "stdout",
       "text": [
        " 999.880030888\n",
        "Corr size:"
       ]
      },
      {
       "output_type": "stream",
       "stream": "stdout",
       "text": [
        " 1000\n",
        "1000\n",
        "[ 1.         -0.12736464 -0.05000097 -0.06365262  0.05444527  0.05656553\n",
        "  0.05444527 -0.06365262 -0.05000097 -0.12736464]\n",
        "Shape of Correlation:  (10, 10, 10)\n",
        "DENSITY FIELD MEAN: "
       ]
      },
      {
       "output_type": "stream",
       "stream": "stdout",
       "text": [
        " 1002.24476462\n",
        "Corr size:"
       ]
      },
      {
       "output_type": "stream",
       "stream": "stdout",
       "text": [
        " 1000\n",
        "1000\n",
        "[ 1.         -0.1281076  -0.03937427 -0.01920069  0.08436092 -0.05796583\n",
        "  0.08436092 -0.01920069 -0.03937427 -0.1281076 ]\n",
        "Shape of Correlation:  (10, 10, 10)\n",
        "DENSITY FIELD MEAN: "
       ]
      },
      {
       "output_type": "stream",
       "stream": "stdout",
       "text": [
        " 983.541834933\n",
        "Corr size:"
       ]
      },
      {
       "output_type": "stream",
       "stream": "stdout",
       "text": [
        " 1000\n",
        "1000\n",
        "[ 1.         -0.1281914   0.0112615   0.02036725 -0.01806669 -0.03563669\n",
        " -0.01806669  0.02036725  0.0112615  -0.1281914 ]\n",
        "Shape of Correlation:  (10, 10, 10)\n",
        "DENSITY FIELD MEAN: "
       ]
      },
      {
       "output_type": "stream",
       "stream": "stdout",
       "text": [
        " 991.091019268\n",
        "Corr size:"
       ]
      },
      {
       "output_type": "stream",
       "stream": "stdout",
       "text": [
        " 1000\n",
        "1000\n",
        "[ 1.         -0.16718564  0.05661556 -0.0437203  -0.05490458 -0.01408746\n",
        " -0.05490458 -0.0437203   0.05661556 -0.16718564]\n",
        "Shape of Correlation:  (10, 10, 10)\n",
        "67.8860849293 % progress\n",
        "DENSITY FIELD MEAN: "
       ]
      },
      {
       "output_type": "stream",
       "stream": "stdout",
       "text": [
        " 993.308478705\n",
        "Corr size:"
       ]
      },
      {
       "output_type": "stream",
       "stream": "stdout",
       "text": [
        " 1000\n",
        "1000\n",
        "[ 1.         -0.1619904   0.05851005 -0.03181968  0.00522182  0.09395444\n",
        "  0.00522182 -0.03181968  0.05851005 -0.1619904 ]\n",
        "Shape of Correlation:  (10, 10, 10)\n",
        "DENSITY FIELD MEAN: "
       ]
      },
      {
       "output_type": "stream",
       "stream": "stdout",
       "text": [
        " 998.313405742\n",
        "Corr size:"
       ]
      },
      {
       "output_type": "stream",
       "stream": "stdout",
       "text": [
        " 1000\n",
        "1000\n",
        "[ 1.         -0.13358568  0.00268041  0.0306305  -0.08958101  0.11039789\n",
        " -0.08958101  0.0306305   0.00268041 -0.13358568]\n",
        "Shape of Correlation:  (10, 10, 10)\n",
        "DENSITY FIELD MEAN: "
       ]
      },
      {
       "output_type": "stream",
       "stream": "stdout",
       "text": [
        " 1006.49229345\n",
        "Corr size:"
       ]
      },
      {
       "output_type": "stream",
       "stream": "stdout",
       "text": [
        " 1000\n",
        "1000\n",
        "[ 1.         -0.14732145 -0.00409618 -0.00725497 -0.02559571  0.04452324\n",
        " -0.02559571 -0.00725497 -0.00409618 -0.14732145]\n",
        "Shape of Correlation:  (10, 10, 10)\n",
        "DENSITY FIELD MEAN: "
       ]
      },
      {
       "output_type": "stream",
       "stream": "stdout",
       "text": [
        " 995.815319883\n",
        "Corr size:"
       ]
      },
      {
       "output_type": "stream",
       "stream": "stdout",
       "text": [
        " 1000\n",
        "1000\n",
        "[ 1.         -0.17017708 -0.00813459 -0.08339194  0.01045738 -0.10026173\n",
        "  0.01045738 -0.08339194 -0.00813459 -0.17017708]\n",
        "Shape of Correlation:  (10, 10, 10)\n",
        "DENSITY FIELD MEAN: "
       ]
      },
      {
       "output_type": "stream",
       "stream": "stdout",
       "text": [
        " 994.642130405\n",
        "Corr size:"
       ]
      },
      {
       "output_type": "stream",
       "stream": "stdout",
       "text": [
        " 1000\n",
        "1000\n",
        "[ 1.         -0.09802997 -0.0210142  -0.07240618 -0.00710199  0.06232922\n",
        " -0.00710199 -0.07240618 -0.0210142  -0.09802997]\n",
        "Shape of Correlation:  (10, 10, 10)\n",
        "68.8843685277 % progress\n",
        "DENSITY FIELD MEAN: "
       ]
      },
      {
       "output_type": "stream",
       "stream": "stdout",
       "text": [
        " 994.317046684\n",
        "Corr size:"
       ]
      },
      {
       "output_type": "stream",
       "stream": "stdout",
       "text": [
        " 1000\n",
        "1000\n",
        "[ 1.         -0.13502051 -0.03359465 -0.01441917  0.03844629  0.03669631\n",
        "  0.03844629 -0.01441917 -0.03359465 -0.13502051]\n",
        "Shape of Correlation:  (10, 10, 10)\n",
        "DENSITY FIELD MEAN: "
       ]
      },
      {
       "output_type": "stream",
       "stream": "stdout",
       "text": [
        " 1000.74220945\n",
        "Corr size:"
       ]
      },
      {
       "output_type": "stream",
       "stream": "stdout",
       "text": [
        " 1000\n",
        "1000\n",
        "[ 1.         -0.11767803 -0.01602854  0.00892973  0.0057715  -0.04163006\n",
        "  0.0057715   0.00892973 -0.01602854 -0.11767803]\n",
        "Shape of Correlation:  (10, 10, 10)\n",
        "DENSITY FIELD MEAN: "
       ]
      },
      {
       "output_type": "stream",
       "stream": "stdout",
       "text": [
        " 996.801538792\n",
        "Corr size:"
       ]
      },
      {
       "output_type": "stream",
       "stream": "stdout",
       "text": [
        " 1000\n",
        "1000\n",
        "[ 1.         -0.08919887 -0.0415221   0.00905328  0.0257896  -0.04393363\n",
        "  0.0257896   0.00905328 -0.0415221  -0.08919887]\n",
        "Shape of Correlation:  (10, 10, 10)\n",
        "DENSITY FIELD MEAN: "
       ]
      },
      {
       "output_type": "stream",
       "stream": "stdout",
       "text": [
        " 986.531963595\n",
        "Corr size:"
       ]
      },
      {
       "output_type": "stream",
       "stream": "stdout",
       "text": [
        " 1000\n",
        "1000\n",
        "[ 1.         -0.17025722  0.00237723  0.02363198 -0.00791826  0.04156101\n",
        " -0.00791826  0.02363198  0.00237723 -0.17025722]\n",
        "Shape of Correlation:  (10, 10, 10)\n",
        "DENSITY FIELD MEAN: "
       ]
      },
      {
       "output_type": "stream",
       "stream": "stdout",
       "text": [
        " 996.66424776\n",
        "Corr size:"
       ]
      },
      {
       "output_type": "stream",
       "stream": "stdout",
       "text": [
        " 1000\n",
        "1000\n",
        "[ 1.         -0.15297048 -0.01354278  0.01615411 -0.01253259  0.00176083\n",
        " -0.01253259  0.01615411 -0.01354278 -0.15297048]\n",
        "Shape of Correlation:  (10, 10, 10)\n",
        "69.8770516572 % progress\n",
        "DENSITY FIELD MEAN: "
       ]
      },
      {
       "output_type": "stream",
       "stream": "stdout",
       "text": [
        " 992.924214604\n",
        "Corr size:"
       ]
      },
      {
       "output_type": "stream",
       "stream": "stdout",
       "text": [
        " 1000\n",
        "1000\n",
        "[ 1.         -0.11572307 -0.00115311 -0.06035866  0.01444978 -0.02352981\n",
        "  0.01444978 -0.06035866 -0.00115311 -0.11572307]\n",
        "Shape of Correlation:  (10, 10, 10)\n",
        "DENSITY FIELD MEAN: "
       ]
      },
      {
       "output_type": "stream",
       "stream": "stdout",
       "text": [
        " 999.802483404\n",
        "Corr size:"
       ]
      },
      {
       "output_type": "stream",
       "stream": "stdout",
       "text": [
        " 1000\n",
        "1000\n",
        "[ 1.         -0.16572274  0.01264494  0.01952594 -0.02379182  0.02706618\n",
        " -0.02379182  0.01952594  0.01264494 -0.16572274]\n",
        "Shape of Correlation:  (10, 10, 10)\n",
        "DENSITY FIELD MEAN: "
       ]
      },
      {
       "output_type": "stream",
       "stream": "stdout",
       "text": [
        " 999.268485242\n",
        "Corr size:"
       ]
      },
      {
       "output_type": "stream",
       "stream": "stdout",
       "text": [
        " 1000\n",
        "1000\n",
        "[ 1.         -0.14472913 -0.07107803 -0.00508022  0.05649816 -0.09391396\n",
        "  0.05649816 -0.00508022 -0.07107803 -0.14472913]\n",
        "Shape of Correlation:  (10, 10, 10)\n",
        "DENSITY FIELD MEAN: "
       ]
      },
      {
       "output_type": "stream",
       "stream": "stdout",
       "text": [
        " 996.870193764\n",
        "Corr size:"
       ]
      },
      {
       "output_type": "stream",
       "stream": "stdout",
       "text": [
        " 1000\n",
        "1000\n",
        "[ 1.         -0.12811049 -0.02983867 -0.0523889   0.00446974 -0.01141089\n",
        "  0.00446974 -0.0523889  -0.02983867 -0.12811049]\n",
        "Shape of Correlation:  (10, 10, 10)\n",
        "DENSITY FIELD MEAN: "
       ]
      },
      {
       "output_type": "stream",
       "stream": "stdout",
       "text": [
        " 991.193218184\n",
        "Corr size:"
       ]
      },
      {
       "output_type": "stream",
       "stream": "stdout",
       "text": [
        " 1000\n",
        "1000\n",
        "[ 1.         -0.13921337 -0.02992017 -0.00926697 -0.00544981  0.01222064\n",
        " -0.00544981 -0.00926697 -0.02992017 -0.13921337]\n",
        "Shape of Correlation:  (10, 10, 10)\n",
        "70.8795356074 % progress\n",
        "DENSITY FIELD MEAN: "
       ]
      },
      {
       "output_type": "stream",
       "stream": "stdout",
       "text": [
        " 1005.23287538\n",
        "Corr size:"
       ]
      },
      {
       "output_type": "stream",
       "stream": "stdout",
       "text": [
        " 1000\n",
        "1000\n",
        "[ 1.         -0.12636994  0.01733624 -0.04833389  0.04503965 -0.10679703\n",
        "  0.04503965 -0.04833389  0.01733624 -0.12636994]\n",
        "Shape of Correlation:  (10, 10, 10)\n",
        "DENSITY FIELD MEAN: "
       ]
      },
      {
       "output_type": "stream",
       "stream": "stdout",
       "text": [
        " 991.125084012\n",
        "Corr size:"
       ]
      },
      {
       "output_type": "stream",
       "stream": "stdout",
       "text": [
        " 1000\n",
        "1000\n",
        "[ 1.         -0.14625078 -0.00348292 -0.08090677  0.03754997 -0.00379782\n",
        "  0.03754997 -0.08090677 -0.00348292 -0.14625078]\n",
        "Shape of Correlation:  (10, 10, 10)\n",
        "DENSITY FIELD MEAN: "
       ]
      },
      {
       "output_type": "stream",
       "stream": "stdout",
       "text": [
        " 996.072468908\n",
        "Corr size:"
       ]
      },
      {
       "output_type": "stream",
       "stream": "stdout",
       "text": [
        " 1000\n",
        "1000\n",
        "[ 1.         -0.08859518 -0.02843975  0.0377203   0.00532233  0.06708615\n",
        "  0.00532233  0.0377203  -0.02843975 -0.08859518]\n",
        "Shape of Correlation:  (10, 10, 10)\n",
        "DENSITY FIELD MEAN: "
       ]
      },
      {
       "output_type": "stream",
       "stream": "stdout",
       "text": [
        " 995.592528988\n",
        "Corr size:"
       ]
      },
      {
       "output_type": "stream",
       "stream": "stdout",
       "text": [
        " 1000\n",
        "1000\n",
        "[ 1.         -0.08545252 -0.05569595 -0.03412828  0.03535302  0.04289634\n",
        "  0.03535302 -0.03412828 -0.05569595 -0.08545252]\n",
        "Shape of Correlation:  (10, 10, 10)\n",
        "DENSITY FIELD MEAN: "
       ]
      },
      {
       "output_type": "stream",
       "stream": "stdout",
       "text": [
        " 997.522730561\n",
        "Corr size:"
       ]
      },
      {
       "output_type": "stream",
       "stream": "stdout",
       "text": [
        " 1000\n",
        "1000\n",
        "[ 1.         -0.11058177  0.01667699  0.0220612   0.04164331 -0.06065395\n",
        "  0.04164331  0.0220612   0.01667699 -0.11058177]\n",
        "Shape of Correlation:  (10, 10, 10)\n",
        "71.8764190886 % progress\n",
        "DENSITY FIELD MEAN: "
       ]
      },
      {
       "output_type": "stream",
       "stream": "stdout",
       "text": [
        " 983.331124733\n",
        "Corr size:"
       ]
      },
      {
       "output_type": "stream",
       "stream": "stdout",
       "text": [
        " 1000\n",
        "1000\n",
        "[ 1.         -0.1323136   0.0057704   0.00221712  0.00718518 -0.04401572\n",
        "  0.00718518  0.00221712  0.0057704  -0.1323136 ]\n",
        "Shape of Correlation:  (10, 10, 10)\n",
        "DENSITY FIELD MEAN: "
       ]
      },
      {
       "output_type": "stream",
       "stream": "stdout",
       "text": [
        " 989.797714911\n",
        "Corr size:"
       ]
      },
      {
       "output_type": "stream",
       "stream": "stdout",
       "text": [
        " 1000\n",
        "1000\n",
        "[ 1.         -0.16499176  0.04785179 -0.00574908 -0.0108752   0.02478363\n",
        " -0.0108752  -0.00574908  0.04785179 -0.16499176]\n",
        "Shape of Correlation:  (10, 10, 10)\n",
        "DENSITY FIELD MEAN: "
       ]
      },
      {
       "output_type": "stream",
       "stream": "stdout",
       "text": [
        " 996.01245955\n",
        "Corr size:"
       ]
      },
      {
       "output_type": "stream",
       "stream": "stdout",
       "text": [
        " 1000\n",
        "1000\n",
        "[ 1.         -0.0920167  -0.02008566 -0.03410114  0.01371806 -0.12355567\n",
        "  0.01371806 -0.03410114 -0.02008566 -0.0920167 ]\n",
        "Shape of Correlation:  (10, 10, 10)\n",
        "DENSITY FIELD MEAN: "
       ]
      },
      {
       "output_type": "stream",
       "stream": "stdout",
       "text": [
        " 1005.02462268\n",
        "Corr size:"
       ]
      },
      {
       "output_type": "stream",
       "stream": "stdout",
       "text": [
        " 1000\n",
        "1000\n",
        "[  1.00000000e+00  -1.14818880e-01  -1.71951417e-02   3.40140028e-02\n",
        "   3.48149883e-02   1.47612396e-04   3.48149883e-02   3.40140028e-02\n",
        "  -1.71951417e-02  -1.14818880e-01]\n",
        "Shape of Correlation:  (10, 10, 10)\n",
        "DENSITY FIELD MEAN: "
       ]
      },
      {
       "output_type": "stream",
       "stream": "stdout",
       "text": [
        " 989.194376634\n",
        "Corr size:"
       ]
      },
      {
       "output_type": "stream",
       "stream": "stdout",
       "text": [
        " 1000\n",
        "1000\n",
        "[ 1.         -0.16619907  0.04254574 -0.03803177  0.00470062 -0.07714717\n",
        "  0.00470062 -0.03803177  0.04254574 -0.16619907]\n",
        "Shape of Correlation:  (10, 10, 10)\n",
        "72.8733025698 % progress\n",
        "DENSITY FIELD MEAN: "
       ]
      },
      {
       "output_type": "stream",
       "stream": "stdout",
       "text": [
        " 996.741470863\n",
        "Corr size:"
       ]
      },
      {
       "output_type": "stream",
       "stream": "stdout",
       "text": [
        " 1000\n",
        "1000\n",
        "[ 1.         -0.10100334  0.00667128  0.00105973 -0.00345699  0.03038435\n",
        " -0.00345699  0.00105973  0.00667128 -0.10100334]\n",
        "Shape of Correlation:  (10, 10, 10)\n",
        "DENSITY FIELD MEAN: "
       ]
      },
      {
       "output_type": "stream",
       "stream": "stdout",
       "text": [
        " 994.667800945\n",
        "Corr size:"
       ]
      },
      {
       "output_type": "stream",
       "stream": "stdout",
       "text": [
        " 1000\n",
        "1000\n",
        "[ 1.         -0.08634963 -0.07545885  0.06699065  0.02061739 -0.0574216\n",
        "  0.02061739  0.06699065 -0.07545885 -0.08634963]\n",
        "Shape of Correlation:  (10, 10, 10)\n",
        "DENSITY FIELD MEAN: "
       ]
      },
      {
       "output_type": "stream",
       "stream": "stdout",
       "text": [
        " 998.029697914\n",
        "Corr size:"
       ]
      },
      {
       "output_type": "stream",
       "stream": "stdout",
       "text": [
        " 1000\n",
        "1000\n",
        "[ 1.         -0.12650026 -0.02586911  0.00188032 -0.02961594 -0.01917274\n",
        " -0.02961594  0.00188032 -0.02586911 -0.12650026]\n",
        "Shape of Correlation:  (10, 10, 10)\n",
        "DENSITY FIELD MEAN: "
       ]
      },
      {
       "output_type": "stream",
       "stream": "stdout",
       "text": [
        " 1005.05932747\n",
        "Corr size:"
       ]
      },
      {
       "output_type": "stream",
       "stream": "stdout",
       "text": [
        " 1000\n",
        "1000\n",
        "[ 1.         -0.17652363  0.01582982  0.01217406 -0.01131001 -0.04439017\n",
        " -0.01131001  0.01217406  0.01582982 -0.17652363]\n",
        "Shape of Correlation:  (10, 10, 10)\n",
        "DENSITY FIELD MEAN: "
       ]
      },
      {
       "output_type": "stream",
       "stream": "stdout",
       "text": [
        " 1001.66583863\n",
        "Corr size:"
       ]
      },
      {
       "output_type": "stream",
       "stream": "stdout",
       "text": [
        " 1000\n",
        "1000\n",
        "[ 1.         -0.11813812 -0.01204139  0.01477238  0.02337831  0.04263506\n",
        "  0.02337831  0.01477238 -0.01204139 -0.11813812]\n",
        "Shape of Correlation:  (10, 10, 10)\n",
        "73.8715861682 % progress\n",
        "DENSITY FIELD MEAN: "
       ]
      },
      {
       "output_type": "stream",
       "stream": "stdout",
       "text": [
        " 992.233038549\n",
        "Corr size:"
       ]
      },
      {
       "output_type": "stream",
       "stream": "stdout",
       "text": [
        " 1000\n",
        "1000\n",
        "[ 1.         -0.0812212  -0.03355454  0.01461196  0.04589969  0.08441824\n",
        "  0.04589969  0.01461196 -0.03355454 -0.0812212 ]\n",
        "Shape of Correlation:  (10, 10, 10)\n",
        "DENSITY FIELD MEAN: "
       ]
      },
      {
       "output_type": "stream",
       "stream": "stdout",
       "text": [
        " 983.980305025\n",
        "Corr size:"
       ]
      },
      {
       "output_type": "stream",
       "stream": "stdout",
       "text": [
        " 1000\n",
        "1000\n",
        "[ 1.         -0.10262543  0.03238293  0.07719195 -0.01833173 -0.03945789\n",
        " -0.01833173  0.07719195  0.03238293 -0.10262543]\n",
        "Shape of Correlation:  (10, 10, 10)\n",
        "DENSITY FIELD MEAN: "
       ]
      },
      {
       "output_type": "stream",
       "stream": "stdout",
       "text": [
        " 995.112897353\n",
        "Corr size:"
       ]
      },
      {
       "output_type": "stream",
       "stream": "stdout",
       "text": [
        " 1000\n",
        "1000\n",
        "[ 1.         -0.13803415  0.0269832   0.03721445  0.061043   -0.09565716\n",
        "  0.061043    0.03721445  0.0269832  -0.13803415]\n",
        "Shape of Correlation:  (10, 10, 10)\n",
        "DENSITY FIELD MEAN: "
       ]
      },
      {
       "output_type": "stream",
       "stream": "stdout",
       "text": [
        " 987.97220961\n",
        "Corr size:"
       ]
      },
      {
       "output_type": "stream",
       "stream": "stdout",
       "text": [
        " 1000\n",
        "1000\n",
        "[  1.00000000e+00  -1.70769379e-01   3.23173636e-02  -6.43360263e-04\n",
        "  -6.11097183e-02   2.25521237e-02  -6.11097183e-02  -6.43360263e-04\n",
        "   3.23173636e-02  -1.70769379e-01]\n",
        "Shape of Correlation:  (10, 10, 10)\n",
        "DENSITY FIELD MEAN: "
       ]
      },
      {
       "output_type": "stream",
       "stream": "stdout",
       "text": [
        " 988.014612214\n",
        "Corr size:"
       ]
      },
      {
       "output_type": "stream",
       "stream": "stdout",
       "text": [
        " 1000\n",
        "1000\n",
        "[ 1.         -0.13757285  0.01626305 -0.00286338  0.02992779 -0.02637118\n",
        "  0.02992779 -0.00286338  0.01626305 -0.13757285]\n",
        "Shape of Correlation:  (10, 10, 10)\n",
        "74.8712698839 % progress\n",
        "DENSITY FIELD MEAN: "
       ]
      },
      {
       "output_type": "stream",
       "stream": "stdout",
       "text": [
        " 994.137455929\n",
        "Corr size:"
       ]
      },
      {
       "output_type": "stream",
       "stream": "stdout",
       "text": [
        " 1000\n",
        "1000\n",
        "[ 1.         -0.12482592  0.05788847 -0.08194766  0.0286238  -0.01158614\n",
        "  0.0286238  -0.08194766  0.05788847 -0.12482592]\n",
        "Shape of Correlation:  (10, 10, 10)\n",
        "DENSITY FIELD MEAN: "
       ]
      },
      {
       "output_type": "stream",
       "stream": "stdout",
       "text": [
        " 1004.81642751\n",
        "Corr size:"
       ]
      },
      {
       "output_type": "stream",
       "stream": "stdout",
       "text": [
        " 1000\n",
        "1000\n",
        "[ 1.         -0.17361178  0.0652298  -0.05553187  0.02179512 -0.06353058\n",
        "  0.02179512 -0.05553187  0.0652298  -0.17361178]\n",
        "Shape of Correlation:  (10, 10, 10)\n",
        "DENSITY FIELD MEAN: "
       ]
      },
      {
       "output_type": "stream",
       "stream": "stdout",
       "text": [
        " 993.060819128\n",
        "Corr size:"
       ]
      },
      {
       "output_type": "stream",
       "stream": "stdout",
       "text": [
        " 1000\n",
        "1000\n",
        "[ 1.         -0.10379997 -0.01614913 -0.01109161  0.01455205  0.03359207\n",
        "  0.01455205 -0.01109161 -0.01614913 -0.10379997]\n",
        "Shape of Correlation:  (10, 10, 10)\n",
        "DENSITY FIELD MEAN: "
       ]
      },
      {
       "output_type": "stream",
       "stream": "stdout",
       "text": [
        " 984.014044288\n",
        "Corr size:"
       ]
      },
      {
       "output_type": "stream",
       "stream": "stdout",
       "text": [
        " 1000\n",
        "1000\n",
        "[ 1.         -0.12554197 -0.01104387 -0.01824291  0.01652751 -0.09604902\n",
        "  0.01652751 -0.01824291 -0.01104387 -0.12554197]\n",
        "Shape of Correlation:  (10, 10, 10)\n",
        "DENSITY FIELD MEAN: "
       ]
      },
      {
       "output_type": "stream",
       "stream": "stdout",
       "text": [
        " 998.958596293\n",
        "Corr size:"
       ]
      },
      {
       "output_type": "stream",
       "stream": "stdout",
       "text": [
        " 1000\n",
        "1000\n",
        "[ 1.         -0.11928633 -0.01851764  0.02151877 -0.02339784 -0.10314117\n",
        " -0.02339784  0.02151877 -0.01851764 -0.11928633]\n",
        "Shape of Correlation:  (10, 10, 10)\n",
        "75.8695534824 % progress\n",
        "DENSITY FIELD MEAN: "
       ]
      },
      {
       "output_type": "stream",
       "stream": "stdout",
       "text": [
        " 995.292723105\n",
        "Corr size:"
       ]
      },
      {
       "output_type": "stream",
       "stream": "stdout",
       "text": [
        " 1000\n",
        "1000\n",
        "[ 1.         -0.12006361  0.00670452 -0.03377406 -0.0340233   0.04075535\n",
        " -0.0340233  -0.03377406  0.00670452 -0.12006361]\n",
        "Shape of Correlation:  (10, 10, 10)\n",
        "DENSITY FIELD MEAN: "
       ]
      },
      {
       "output_type": "stream",
       "stream": "stdout",
       "text": [
        " 991.823755429\n",
        "Corr size:"
       ]
      },
      {
       "output_type": "stream",
       "stream": "stdout",
       "text": [
        " 1000\n",
        "1000\n",
        "[ 1.         -0.11733659 -0.03238665  0.01572276  0.01535319  0.05215186\n",
        "  0.01535319  0.01572276 -0.03238665 -0.11733659]\n",
        "Shape of Correlation:  (10, 10, 10)\n",
        "DENSITY FIELD MEAN: "
       ]
      },
      {
       "output_type": "stream",
       "stream": "stdout",
       "text": [
        " 1001.12188206\n",
        "Corr size:"
       ]
      },
      {
       "output_type": "stream",
       "stream": "stdout",
       "text": [
        " 1000\n",
        "1000\n",
        "[ 1.         -0.10381051  0.02951172  0.01573252  0.01404685  0.07032982\n",
        "  0.01404685  0.01573252  0.02951172 -0.10381051]\n",
        "Shape of Correlation:  (10, 10, 10)\n",
        "DENSITY FIELD MEAN: "
       ]
      },
      {
       "output_type": "stream",
       "stream": "stdout",
       "text": [
        " 998.425198957\n",
        "Corr size:"
       ]
      },
      {
       "output_type": "stream",
       "stream": "stdout",
       "text": [
        " 1000\n",
        "1000\n",
        "[ 1.         -0.12290443  0.0292859   0.00678002  0.03522549 -0.06864428\n",
        "  0.03522549  0.00678002  0.0292859  -0.12290443]\n",
        "Shape of Correlation:  (10, 10, 10)\n",
        "DENSITY FIELD MEAN: "
       ]
      },
      {
       "output_type": "stream",
       "stream": "stdout",
       "text": [
        " 1004.91184316\n",
        "Corr size:"
       ]
      },
      {
       "output_type": "stream",
       "stream": "stdout",
       "text": [
        " 1000\n",
        "1000\n",
        "[ 1.         -0.18217805  0.01641026  0.00849002 -0.02052998 -0.0468452\n",
        " -0.02052998  0.00849002  0.01641026 -0.18217805]\n",
        "Shape of Correlation:  (10, 10, 10)\n",
        "76.8706373153 % progress\n",
        "DENSITY FIELD MEAN: "
       ]
      },
      {
       "output_type": "stream",
       "stream": "stdout",
       "text": [
        " 1001.89044353\n",
        "Corr size:"
       ]
      },
      {
       "output_type": "stream",
       "stream": "stdout",
       "text": [
        " 1000\n",
        "1000\n",
        "[ 1.         -0.12472132 -0.03120166  0.00143277  0.00435249  0.08655674\n",
        "  0.00435249  0.00143277 -0.03120166 -0.12472132]\n",
        "Shape of Correlation:  (10, 10, 10)\n",
        "DENSITY FIELD MEAN: "
       ]
      },
      {
       "output_type": "stream",
       "stream": "stdout",
       "text": [
        " 1006.51837258\n",
        "Corr size:"
       ]
      },
      {
       "output_type": "stream",
       "stream": "stdout",
       "text": [
        " 1000\n",
        "1000\n",
        "[ 1.         -0.09874017 -0.0304684  -0.02646043 -0.00710154 -0.01650614\n",
        " -0.00710154 -0.02646043 -0.0304684  -0.09874017]\n",
        "Shape of Correlation:  (10, 10, 10)\n",
        "DENSITY FIELD MEAN: "
       ]
      },
      {
       "output_type": "stream",
       "stream": "stdout",
       "text": [
        " 998.76928279\n",
        "Corr size:"
       ]
      },
      {
       "output_type": "stream",
       "stream": "stdout",
       "text": [
        " 1000\n",
        "1000\n",
        "[ 1.         -0.13099005  0.02807688  0.02081711  0.03317153 -0.04593139\n",
        "  0.03317153  0.02081711  0.02807688 -0.13099005]\n",
        "Shape of Correlation:  (10, 10, 10)\n",
        "DENSITY FIELD MEAN: "
       ]
      },
      {
       "output_type": "stream",
       "stream": "stdout",
       "text": [
        " 1003.60310103\n",
        "Corr size:"
       ]
      },
      {
       "output_type": "stream",
       "stream": "stdout",
       "text": [
        " 1000\n",
        "1000\n",
        "[ 1.         -0.16088247  0.03999256 -0.01492777 -0.02431007  0.01065152\n",
        " -0.02431007 -0.01492777  0.03999256 -0.16088247]\n",
        "Shape of Correlation:  (10, 10, 10)\n",
        "DENSITY FIELD MEAN: "
       ]
      },
      {
       "output_type": "stream",
       "stream": "stdout",
       "text": [
        " 994.650687154\n",
        "Corr size:"
       ]
      },
      {
       "output_type": "stream",
       "stream": "stdout",
       "text": [
        " 1000\n",
        "1000\n",
        "[ 1.         -0.14411571 -0.04010237 -0.02242992 -0.01745011  0.03589113\n",
        " -0.01745011 -0.02242992 -0.04010237 -0.14411571]\n",
        "Shape of Correlation:  (10, 10, 10)\n",
        "77.8675207965 % progress\n",
        "DENSITY FIELD MEAN: "
       ]
      },
      {
       "output_type": "stream",
       "stream": "stdout",
       "text": [
        " 1000.47482812\n",
        "Corr size:"
       ]
      },
      {
       "output_type": "stream",
       "stream": "stdout",
       "text": [
        " 1000\n",
        "1000\n",
        "[ 1.         -0.16501385  0.00221616  0.07089929 -0.0039201   0.0096232\n",
        " -0.0039201   0.07089929  0.00221616 -0.16501385]\n",
        "Shape of Correlation:  (10, 10, 10)\n",
        "DENSITY FIELD MEAN: "
       ]
      },
      {
       "output_type": "stream",
       "stream": "stdout",
       "text": [
        " 1008.14575194\n",
        "Corr size:"
       ]
      },
      {
       "output_type": "stream",
       "stream": "stdout",
       "text": [
        " 1000\n",
        "1000\n",
        "[ 1.         -0.08583742 -0.02244269  0.02857211  0.00333773 -0.00491456\n",
        "  0.00333773  0.02857211 -0.02244269 -0.08583742]\n",
        "Shape of Correlation:  (10, 10, 10)\n",
        "DENSITY FIELD MEAN: "
       ]
      },
      {
       "output_type": "stream",
       "stream": "stdout",
       "text": [
        " 991.312468012\n",
        "Corr size:"
       ]
      },
      {
       "output_type": "stream",
       "stream": "stdout",
       "text": [
        " 1000\n",
        "1000\n",
        "[ 1.         -0.11873437  0.02038769  0.04954833 -0.07635069  0.01532671\n",
        " -0.07635069  0.04954833  0.02038769 -0.11873437]\n",
        "Shape of Correlation:  (10, 10, 10)\n",
        "DENSITY FIELD MEAN: "
       ]
      },
      {
       "output_type": "stream",
       "stream": "stdout",
       "text": [
        " 998.580017119\n",
        "Corr size:"
       ]
      },
      {
       "output_type": "stream",
       "stream": "stdout",
       "text": [
        " 1000\n",
        "1000\n",
        "[ 1.         -0.17223411  0.03536328 -0.03871474  0.02850201 -0.05376096\n",
        "  0.02850201 -0.03871474  0.03536328 -0.17223411]\n",
        "Shape of Correlation:  (10, 10, 10)\n",
        "DENSITY FIELD MEAN: "
       ]
      },
      {
       "output_type": "stream",
       "stream": "stdout",
       "text": [
        " 998.365000537\n",
        "Corr size:"
       ]
      },
      {
       "output_type": "stream",
       "stream": "stdout",
       "text": [
        " 1000\n",
        "1000\n",
        "[ 1.         -0.14847794 -0.00644696 -0.00615119  0.02016967 -0.04937797\n",
        "  0.02016967 -0.00615119 -0.00644696 -0.14847794]\n",
        "Shape of Correlation:  (10, 10, 10)\n",
        "78.865804395 % progress\n",
        "DENSITY FIELD MEAN: "
       ]
      },
      {
       "output_type": "stream",
       "stream": "stdout",
       "text": [
        " 1000.94927979\n",
        "Corr size:"
       ]
      },
      {
       "output_type": "stream",
       "stream": "stdout",
       "text": [
        " 1000\n",
        "1000\n",
        "[ 1.         -0.13453862  0.01578966  0.01665306 -0.07368415  0.06050755\n",
        " -0.07368415  0.01665306  0.01578966 -0.13453862]\n",
        "Shape of Correlation:  (10, 10, 10)\n",
        "DENSITY FIELD MEAN: "
       ]
      },
      {
       "output_type": "stream",
       "stream": "stdout",
       "text": [
        " 1002.42631087\n",
        "Corr size:"
       ]
      },
      {
       "output_type": "stream",
       "stream": "stdout",
       "text": [
        " 1000\n",
        "1000\n",
        "[ 1.         -0.13713718 -0.0374025   0.03178324 -0.01577812 -0.11275198\n",
        " -0.01577812  0.03178324 -0.0374025  -0.13713718]\n",
        "Shape of Correlation:  (10, 10, 10)\n",
        "DENSITY FIELD MEAN: "
       ]
      },
      {
       "output_type": "stream",
       "stream": "stdout",
       "text": [
        " 1004.59961868\n",
        "Corr size:"
       ]
      },
      {
       "output_type": "stream",
       "stream": "stdout",
       "text": [
        " 1000\n",
        "1000\n",
        "[ 1.         -0.14272696 -0.03500687 -0.00907713  0.00564671  0.04483056\n",
        "  0.00564671 -0.00907713 -0.03500687 -0.14272696]\n",
        "Shape of Correlation:  (10, 10, 10)\n",
        "DENSITY FIELD MEAN: "
       ]
      },
      {
       "output_type": "stream",
       "stream": "stdout",
       "text": [
        " 1000.36272881\n",
        "Corr size:"
       ]
      },
      {
       "output_type": "stream",
       "stream": "stdout",
       "text": [
        " 1000\n",
        "1000\n",
        "[ 1.         -0.10565884 -0.00923543  0.00102997 -0.01547675 -0.03440474\n",
        " -0.01547675  0.00102997 -0.00923543 -0.10565884]\n",
        "Shape of Correlation:  (10, 10, 10)\n",
        "DENSITY FIELD MEAN: "
       ]
      },
      {
       "output_type": "stream",
       "stream": "stdout",
       "text": [
        " 994.693472367\n",
        "Corr size:"
       ]
      },
      {
       "output_type": "stream",
       "stream": "stdout",
       "text": [
        " 1000\n",
        "1000\n",
        "[ 1.         -0.13986231 -0.01503999 -0.01135866 -0.00486463  0.02066697\n",
        " -0.00486463 -0.01135866 -0.01503999 -0.13986231]\n",
        "Shape of Correlation:  (10, 10, 10)\n",
        "79.8612877589 % progress\n",
        "DENSITY FIELD MEAN: "
       ]
      },
      {
       "output_type": "stream",
       "stream": "stdout",
       "text": [
        " 1007.14454218\n",
        "Corr size:"
       ]
      },
      {
       "output_type": "stream",
       "stream": "stdout",
       "text": [
        " 1000\n",
        "1000\n",
        "[  1.00000000e+00  -1.73984959e-01   1.89521634e-02  -3.25464053e-02\n",
        "  -2.39483481e-02   3.01499471e-04  -2.39483481e-02  -3.25464053e-02\n",
        "   1.89521634e-02  -1.73984959e-01]\n",
        "Shape of Correlation:  (10, 10, 10)\n",
        "DENSITY FIELD MEAN: "
       ]
      },
      {
       "output_type": "stream",
       "stream": "stdout",
       "text": [
        " 988.141834588\n",
        "Corr size:"
       ]
      },
      {
       "output_type": "stream",
       "stream": "stdout",
       "text": [
        " 1000\n",
        "1000\n",
        "[ 1.         -0.16415325  0.00157231  0.01423979  0.02127974  0.01920068\n",
        "  0.02127974  0.01423979  0.00157231 -0.16415325]\n",
        "Shape of Correlation:  (10, 10, 10)\n",
        "DENSITY FIELD MEAN: "
       ]
      },
      {
       "output_type": "stream",
       "stream": "stdout",
       "text": [
        " 1004.69500688\n",
        "Corr size:"
       ]
      },
      {
       "output_type": "stream",
       "stream": "stdout",
       "text": [
        " 1000\n",
        "1000\n",
        "[ 1.         -0.13146493 -0.0028989   0.03017412  0.0519109  -0.07977361\n",
        "  0.0519109   0.03017412 -0.0028989  -0.13146493]\n",
        "Shape of Correlation:  (10, 10, 10)\n",
        "DENSITY FIELD MEAN: "
       ]
      },
      {
       "output_type": "stream",
       "stream": "stdout",
       "text": [
        " 1002.49548287\n",
        "Corr size:"
       ]
      },
      {
       "output_type": "stream",
       "stream": "stdout",
       "text": [
        " 1000\n",
        "1000\n",
        "[ 1.         -0.08879311 -0.02042667  0.00671691 -0.02044036  0.02305427\n",
        " -0.02044036  0.00671691 -0.02042667 -0.08879311]\n",
        "Shape of Correlation:  (10, 10, 10)\n",
        "DENSITY FIELD MEAN: "
       ]
      },
      {
       "output_type": "stream",
       "stream": "stdout",
       "text": [
        " 999.397643466\n",
        "Corr size:"
       ]
      },
      {
       "output_type": "stream",
       "stream": "stdout",
       "text": [
        " 1000\n",
        "1000\n",
        "[ 1.         -0.10838869  0.04946696  0.00311245  0.02070975 -0.00736617\n",
        "  0.02070975  0.00311245  0.04946696 -0.10838869]\n",
        "Shape of Correlation:  (10, 10, 10)\n",
        "80.8637717091 % progress\n",
        "DENSITY FIELD MEAN: "
       ]
      },
      {
       "output_type": "stream",
       "stream": "stdout",
       "text": [
        " 991.738516447\n",
        "Corr size:"
       ]
      },
      {
       "output_type": "stream",
       "stream": "stdout",
       "text": [
        " 1000\n",
        "1000\n",
        "[ 1.         -0.10737189 -0.04320987  0.00526176 -0.00835437 -0.01476161\n",
        " -0.00835437  0.00526176 -0.04320987 -0.10737189]\n",
        "Shape of Correlation:  (10, 10, 10)\n",
        "DENSITY FIELD MEAN: "
       ]
      },
      {
       "output_type": "stream",
       "stream": "stdout",
       "text": [
        " 1000.81985414\n",
        "Corr size:"
       ]
      },
      {
       "output_type": "stream",
       "stream": "stdout",
       "text": [
        " 1000\n",
        "1000\n",
        "[ 1.         -0.11511109  0.00137857  0.00640811  0.02459768  0.03649102\n",
        "  0.02459768  0.00640811  0.00137857 -0.11511109]\n",
        "Shape of Correlation:  (10, 10, 10)\n",
        "DENSITY FIELD MEAN: "
       ]
      },
      {
       "output_type": "stream",
       "stream": "stdout",
       "text": [
        " 1000.57831927\n",
        "Corr size:"
       ]
      },
      {
       "output_type": "stream",
       "stream": "stdout",
       "text": [
        " 1000\n",
        "1000\n",
        "[ 1.         -0.03950809 -0.05190456  0.05045769 -0.05568126 -0.03510526\n",
        " -0.05568126  0.05045769 -0.05190456 -0.03950809]\n",
        "Shape of Correlation:  (10, 10, 10)\n",
        "DENSITY FIELD MEAN: "
       ]
      },
      {
       "output_type": "stream",
       "stream": "stdout",
       "text": [
        " 1004.42621652\n",
        "Corr size:"
       ]
      },
      {
       "output_type": "stream",
       "stream": "stdout",
       "text": [
        " 1000\n",
        "1000\n",
        "[ 1.         -0.15699084 -0.01233656  0.00464311  0.03636672  0.05607535\n",
        "  0.03636672  0.00464311 -0.01233656 -0.15699084]\n",
        "Shape of Correlation:  (10, 10, 10)\n",
        "DENSITY FIELD MEAN: "
       ]
      },
      {
       "output_type": "stream",
       "stream": "stdout",
       "text": [
        " 998.468200792\n",
        "Corr size:"
       ]
      },
      {
       "output_type": "stream",
       "stream": "stdout",
       "text": [
        " 1000\n",
        "1000\n",
        "[ 1.         -0.09268362 -0.01460728 -0.06951924  0.04055337 -0.02219143\n",
        "  0.04055337 -0.06951924 -0.01460728 -0.09268362]\n",
        "Shape of Correlation:  (10, 10, 10)\n",
        "81.8578549558 % progress\n",
        "DENSITY FIELD MEAN: "
       ]
      },
      {
       "output_type": "stream",
       "stream": "stdout",
       "text": [
        " 994.231521882\n",
        "Corr size:"
       ]
      },
      {
       "output_type": "stream",
       "stream": "stdout",
       "text": [
        " 1000\n",
        "1000\n",
        "[ 1.         -0.1447414   0.04139862 -0.0927969   0.00551662 -0.03149459\n",
        "  0.00551662 -0.0927969   0.04139862 -0.1447414 ]\n",
        "Shape of Correlation:  (10, 10, 10)\n",
        "DENSITY FIELD MEAN: "
       ]
      },
      {
       "output_type": "stream",
       "stream": "stdout",
       "text": [
        " 996.329706479\n",
        "Corr size:"
       ]
      },
      {
       "output_type": "stream",
       "stream": "stdout",
       "text": [
        " 1000\n",
        "1000\n",
        "[ 1.         -0.20864388  0.01802201 -0.04858641  0.02405288  0.06761451\n",
        "  0.02405288 -0.04858641  0.01802201 -0.20864388]\n",
        "Shape of Correlation:  (10, 10, 10)\n",
        "DENSITY FIELD MEAN: "
       ]
      },
      {
       "output_type": "stream",
       "stream": "stdout",
       "text": [
        " 999.948968718\n",
        "Corr size:"
       ]
      },
      {
       "output_type": "stream",
       "stream": "stdout",
       "text": [
        " 1000\n",
        "1000\n",
        "[ 1.         -0.16602493  0.0131556   0.01928602  0.01404263  0.05997943\n",
        "  0.01404263  0.01928602  0.0131556  -0.16602493]\n",
        "Shape of Correlation:  (10, 10, 10)\n",
        "DENSITY FIELD MEAN: "
       ]
      },
      {
       "output_type": "stream",
       "stream": "stdout",
       "text": [
        " 1005.08535711\n",
        "Corr size:"
       ]
      },
      {
       "output_type": "stream",
       "stream": "stdout",
       "text": [
        " 1000\n",
        "1000\n",
        "[  1.00000000e+00  -1.78283814e-01  -9.08274201e-04  -3.11551024e-03\n",
        "  -1.30141267e-02  -3.11524095e-02  -1.30141267e-02  -3.11551024e-03\n",
        "  -9.08274201e-04  -1.78283814e-01]\n",
        "Shape of Correlation:  (10, 10, 10)\n",
        "DENSITY FIELD MEAN: "
       ]
      },
      {
       "output_type": "stream",
       "stream": "stdout",
       "text": [
        " 1000.50069957\n",
        "Corr size:"
       ]
      },
      {
       "output_type": "stream",
       "stream": "stdout",
       "text": [
        " 1000\n",
        "1000\n",
        "[ 1.         -0.11682651  0.05824775 -0.01711375  0.00204179  0.05420337\n",
        "  0.00204179 -0.01711375  0.05824775 -0.11682651]\n",
        "Shape of Correlation:  (10, 10, 10)\n",
        "82.854738437 % progress\n",
        "DENSITY FIELD MEAN: "
       ]
      },
      {
       "output_type": "stream",
       "stream": "stdout",
       "text": [
        " 1003.23948405\n",
        "Corr size:"
       ]
      },
      {
       "output_type": "stream",
       "stream": "stdout",
       "text": [
        " 1000\n",
        "1000\n",
        "[ 1.         -0.14298448  0.10609229  0.02539049 -0.02013377  0.03312329\n",
        " -0.02013377  0.02539049  0.10609229 -0.14298448]\n",
        "Shape of Correlation:  (10, 10, 10)\n",
        "DENSITY FIELD MEAN: "
       ]
      },
      {
       "output_type": "stream",
       "stream": "stdout",
       "text": [
        " 997.196390995\n",
        "Corr size:"
       ]
      },
      {
       "output_type": "stream",
       "stream": "stdout",
       "text": [
        " 1000\n",
        "1000\n",
        "[  1.00000000e+00  -1.19905612e-01   4.85635622e-02  -5.89604621e-02\n",
        "   4.77853872e-06   4.17126057e-03   4.77853872e-06  -5.89604621e-02\n",
        "   4.85635622e-02  -1.19905612e-01]\n",
        "Shape of Correlation:  (10, 10, 10)\n",
        "DENSITY FIELD MEAN: "
       ]
      },
      {
       "output_type": "stream",
       "stream": "stdout",
       "text": [
        " 1003.64640048\n",
        "Corr size:"
       ]
      },
      {
       "output_type": "stream",
       "stream": "stdout",
       "text": [
        " 1000\n",
        "1000\n",
        "[ 1.         -0.11020489  0.05637071  0.0010642  -0.04644229 -0.01727409\n",
        " -0.04644229  0.0010642   0.05637071 -0.11020489]\n",
        "Shape of Correlation:  (10, 10, 10)\n",
        "DENSITY FIELD MEAN: "
       ]
      },
      {
       "output_type": "stream",
       "stream": "stdout",
       "text": [
        " 1011.46354997\n",
        "Corr size:"
       ]
      },
      {
       "output_type": "stream",
       "stream": "stdout",
       "text": [
        " 1000\n",
        "1000\n",
        "[ 1.         -0.15512693 -0.00235153 -0.01358815  0.02462341 -0.06853345\n",
        "  0.02462341 -0.01358815 -0.00235153 -0.15512693]\n",
        "Shape of Correlation:  (10, 10, 10)\n",
        "DENSITY FIELD MEAN: "
       ]
      },
      {
       "output_type": "stream",
       "stream": "stdout",
       "text": [
        " 1009.67187988\n",
        "Corr size:"
       ]
      },
      {
       "output_type": "stream",
       "stream": "stdout",
       "text": [
        " 1000\n",
        "1000\n",
        "[ 1.         -0.15187356 -0.04954466  0.05570196 -0.00542949  0.04594288\n",
        " -0.00542949  0.05570196 -0.04954466 -0.15187356]\n",
        "Shape of Correlation:  (10, 10, 10)\n",
        "83.8530220355 % progress\n",
        "DENSITY FIELD MEAN: "
       ]
      },
      {
       "output_type": "stream",
       "stream": "stdout",
       "text": [
        " 1007.0053485\n",
        "Corr size:"
       ]
      },
      {
       "output_type": "stream",
       "stream": "stdout",
       "text": [
        " 1000\n",
        "1000\n",
        "[ 1.         -0.15356686 -0.01493281 -0.00290594  0.05520425 -0.11440137\n",
        "  0.05520425 -0.00290594 -0.01493281 -0.15356686]\n",
        "Shape of Correlation:  (10, 10, 10)\n",
        "DENSITY FIELD MEAN: "
       ]
      },
      {
       "output_type": "stream",
       "stream": "stdout",
       "text": [
        " 1004.50424255\n",
        "Corr size:"
       ]
      },
      {
       "output_type": "stream",
       "stream": "stdout",
       "text": [
        " 1000\n",
        "1000\n",
        "[ 1.         -0.18899634 -0.00173827 -0.03222313 -0.0086992   0.04652986\n",
        " -0.0086992  -0.03222313 -0.00173827 -0.18899634]\n",
        "Shape of Correlation:  (10, 10, 10)\n",
        "DENSITY FIELD MEAN: "
       ]
      },
      {
       "output_type": "stream",
       "stream": "stdout",
       "text": [
        " 981.756919739\n",
        "Corr size:"
       ]
      },
      {
       "output_type": "stream",
       "stream": "stdout",
       "text": [
        " 1000\n",
        "1000\n",
        "[ 1.         -0.15000804  0.04555109 -0.02736481  0.03702223 -0.02434623\n",
        "  0.03702223 -0.02736481  0.04555109 -0.15000804]\n",
        "Shape of Correlation:  (10, 10, 10)\n",
        "DENSITY FIELD MEAN: "
       ]
      },
      {
       "output_type": "stream",
       "stream": "stdout",
       "text": [
        " 998.614425502\n",
        "Corr size:"
       ]
      },
      {
       "output_type": "stream",
       "stream": "stdout",
       "text": [
        " 1000\n",
        "1000\n",
        "[ 1.         -0.18479963  0.00769115  0.01171692 -0.01400078  0.03999471\n",
        " -0.01400078  0.01171692  0.00769115 -0.18479963]\n",
        "Shape of Correlation:  (10, 10, 10)\n",
        "DENSITY FIELD MEAN: "
       ]
      },
      {
       "output_type": "stream",
       "stream": "stdout",
       "text": [
        " 997.41966058\n",
        "Corr size:"
       ]
      },
      {
       "output_type": "stream",
       "stream": "stdout",
       "text": [
        " 1000\n",
        "1000\n",
        "[ 1.         -0.10545387 -0.03475211 -0.01277174 -0.01791436  0.0099571\n",
        " -0.01791436 -0.01277174 -0.03475211 -0.10545387]\n",
        "Shape of Correlation:  (10, 10, 10)\n",
        "84.8555059857 % progress\n",
        "DENSITY FIELD MEAN: "
       ]
      },
      {
       "output_type": "stream",
       "stream": "stdout",
       "text": [
        " 1008.17188821\n",
        "Corr size:"
       ]
      },
      {
       "output_type": "stream",
       "stream": "stdout",
       "text": [
        " 1000\n",
        "1000\n",
        "[ 1.         -0.15312556 -0.01299308  0.01307644  0.02073527 -0.06479685\n",
        "  0.02073527  0.01307644 -0.01299308 -0.15312556]\n",
        "Shape of Correlation:  (10, 10, 10)\n",
        "DENSITY FIELD MEAN: "
       ]
      },
      {
       "output_type": "stream",
       "stream": "stdout",
       "text": [
        " 1003.09235568\n",
        "Corr size:"
       ]
      },
      {
       "output_type": "stream",
       "stream": "stdout",
       "text": [
        " 1000\n",
        "1000\n",
        "[ 1.         -0.1328741   0.05364141  0.01631243  0.02950815  0.02129296\n",
        "  0.02950815  0.01631243  0.05364141 -0.1328741 ]\n",
        "Shape of Correlation:  (10, 10, 10)\n",
        "DENSITY FIELD MEAN: "
       ]
      },
      {
       "output_type": "stream",
       "stream": "stdout",
       "text": [
        " 1011.70859484\n",
        "Corr size:"
       ]
      },
      {
       "output_type": "stream",
       "stream": "stdout",
       "text": [
        " 1000\n",
        "1000\n",
        "[ 1.         -0.12414667  0.03997623 -0.01118524 -0.00535454  0.03100936\n",
        " -0.00535454 -0.01118524  0.03997623 -0.12414667]\n",
        "Shape of Correlation:  (10, 10, 10)\n",
        "DENSITY FIELD MEAN: "
       ]
      },
      {
       "output_type": "stream",
       "stream": "stdout",
       "text": [
        " 1005.69297062\n",
        "Corr size:"
       ]
      },
      {
       "output_type": "stream",
       "stream": "stdout",
       "text": [
        " 1000\n",
        "1000\n",
        "[ 1.         -0.10334891  0.00217721  0.05017864 -0.04226998 -0.03648201\n",
        " -0.04226998  0.05017864  0.00217721 -0.10334891]\n",
        "Shape of Correlation:  (10, 10, 10)\n",
        "DENSITY FIELD MEAN: "
       ]
      },
      {
       "output_type": "stream",
       "stream": "stdout",
       "text": [
        " 1002.21883302\n",
        "Corr size:"
       ]
      },
      {
       "output_type": "stream",
       "stream": "stdout",
       "text": [
        " 1000\n",
        "1000\n",
        "[ 1.         -0.16683599  0.04160538  0.03199574 -0.00399146 -0.02822747\n",
        " -0.00399146  0.03199574  0.04160538 -0.16683599]\n",
        "Shape of Correlation:  (10, 10, 10)\n",
        "85.8523894669 % progress\n",
        "DENSITY FIELD MEAN: "
       ]
      },
      {
       "output_type": "stream",
       "stream": "stdout",
       "text": [
        " 1001.17367047\n",
        "Corr size:"
       ]
      },
      {
       "output_type": "stream",
       "stream": "stdout",
       "text": [
        " 1000\n",
        "1000\n",
        "[ 1.         -0.10684502 -0.01618029 -0.03213712 -0.01934425 -0.02032478\n",
        " -0.01934425 -0.03213712 -0.01618029 -0.10684502]\n",
        "Shape of Correlation:  (10, 10, 10)\n",
        "DENSITY FIELD MEAN: "
       ]
      },
      {
       "output_type": "stream",
       "stream": "stdout",
       "text": [
        " 994.770491937\n",
        "Corr size:"
       ]
      },
      {
       "output_type": "stream",
       "stream": "stdout",
       "text": [
        " 1000\n",
        "1000\n",
        "[ 1.         -0.08456138 -0.0715639   0.01346703 -0.00121372 -0.00220712\n",
        " -0.00121372  0.01346703 -0.0715639  -0.08456138]\n",
        "Shape of Correlation:  (10, 10, 10)\n",
        "DENSITY FIELD MEAN: "
       ]
      },
      {
       "output_type": "stream",
       "stream": "stdout",
       "text": [
        " 998.683247011\n",
        "Corr size:"
       ]
      },
      {
       "output_type": "stream",
       "stream": "stdout",
       "text": [
        " 1000\n",
        "1000\n",
        "[  1.00000000e+00  -1.44670581e-01  -2.10170262e-02   8.87469003e-04\n",
        "  -1.56762873e-03  -6.54064412e-02  -1.56762873e-03   8.87469003e-04\n",
        "  -2.10170262e-02  -1.44670581e-01]\n",
        "Shape of Correlation:  (10, 10, 10)\n",
        "DENSITY FIELD MEAN: "
       ]
      },
      {
       "output_type": "stream",
       "stream": "stdout",
       "text": [
        " 996.887358492\n",
        "Corr size:"
       ]
      },
      {
       "output_type": "stream",
       "stream": "stdout",
       "text": [
        " 1000\n",
        "1000\n",
        "[ 1.         -0.14606998 -0.00932106 -0.01303355 -0.02765532  0.00994537\n",
        " -0.02765532 -0.01303355 -0.00932106 -0.14606998]\n",
        "Shape of Correlation:  (10, 10, 10)\n",
        "DENSITY FIELD MEAN: "
       ]
      },
      {
       "output_type": "stream",
       "stream": "stdout",
       "text": [
        " 1004.22685337\n",
        "Corr size:"
       ]
      },
      {
       "output_type": "stream",
       "stream": "stdout",
       "text": [
        " 1000\n",
        "1000\n",
        "[ 1.         -0.10564739 -0.03387108  0.00328754  0.01816845 -0.01980635\n",
        "  0.01816845  0.00328754 -0.03387108 -0.10564739]\n",
        "Shape of Correlation:  (10, 10, 10)\n",
        "86.8520731826 % progress\n",
        "DENSITY FIELD MEAN: "
       ]
      },
      {
       "output_type": "stream",
       "stream": "stdout",
       "text": [
        " 985.829801626\n",
        "Corr size:"
       ]
      },
      {
       "output_type": "stream",
       "stream": "stdout",
       "text": [
        " 1000\n",
        "1000\n",
        "[ 1.         -0.16122782  0.05325242 -0.06511489  0.04554199  0.00939315\n",
        "  0.04554199 -0.06511489  0.05325242 -0.16122782]\n",
        "Shape of Correlation:  (10, 10, 10)\n",
        "DENSITY FIELD MEAN: "
       ]
      },
      {
       "output_type": "stream",
       "stream": "stdout",
       "text": [
        " 996.604190861\n",
        "Corr size:"
       ]
      },
      {
       "output_type": "stream",
       "stream": "stdout",
       "text": [
        " 1000\n",
        "1000\n",
        "[  1.00000000e+00  -9.79925328e-02   2.82438688e-04  -2.11850548e-02\n",
        "  -1.50675002e-02   7.52942542e-03  -1.50675002e-02  -2.11850548e-02\n",
        "   2.82438688e-04  -9.79925328e-02]\n",
        "Shape of Correlation:  (10, 10, 10)\n",
        "DENSITY FIELD MEAN: "
       ]
      },
      {
       "output_type": "stream",
       "stream": "stdout",
       "text": [
        " 1002.69438785\n",
        "Corr size:"
       ]
      },
      {
       "output_type": "stream",
       "stream": "stdout",
       "text": [
        " 1000\n",
        "1000\n",
        "[  1.00000000e+00  -1.00679129e-01  -4.71334334e-02  -4.86418678e-04\n",
        "   4.95555522e-02  -1.08261432e-01   4.95555522e-02  -4.86418678e-04\n",
        "  -4.71334334e-02  -1.00679129e-01]\n",
        "Shape of Correlation:  (10, 10, 10)\n",
        "DENSITY FIELD MEAN: "
       ]
      },
      {
       "output_type": "stream",
       "stream": "stdout",
       "text": [
        " 997.797653281\n",
        "Corr size:"
       ]
      },
      {
       "output_type": "stream",
       "stream": "stdout",
       "text": [
        " 1000\n",
        "1000\n",
        "[ 1.         -0.13798789 -0.03286306 -0.00201101 -0.00859464 -0.03140944\n",
        " -0.00859464 -0.00201101 -0.03286306 -0.13798789]\n",
        "Shape of Correlation:  (10, 10, 10)\n",
        "DENSITY FIELD MEAN: "
       ]
      },
      {
       "output_type": "stream",
       "stream": "stdout",
       "text": [
        " 1001.73494068\n",
        "Corr size:"
       ]
      },
      {
       "output_type": "stream",
       "stream": "stdout",
       "text": [
        " 1000\n",
        "1000\n",
        "[ 1.         -0.10767459  0.03053898 -0.03875476 -0.00320716  0.05753652\n",
        " -0.00320716 -0.03875476  0.03053898 -0.10767459]\n",
        "Shape of Correlation:  (10, 10, 10)\n",
        "87.8475565466 % progress\n",
        "DENSITY FIELD MEAN: "
       ]
      },
      {
       "output_type": "stream",
       "stream": "stdout",
       "text": [
        " 1005.97089992\n",
        "Corr size:"
       ]
      },
      {
       "output_type": "stream",
       "stream": "stdout",
       "text": [
        " 1000\n",
        "1000\n",
        "[ 1.         -0.17471875  0.0282603  -0.01369684 -0.03693547  0.03569546\n",
        " -0.03693547 -0.01369684  0.0282603  -0.17471875]\n",
        "Shape of Correlation:  (10, 10, 10)\n",
        "DENSITY FIELD MEAN: "
       ]
      },
      {
       "output_type": "stream",
       "stream": "stdout",
       "text": [
        " 995.275594976\n",
        "Corr size:"
       ]
      },
      {
       "output_type": "stream",
       "stream": "stdout",
       "text": [
        " 1000\n",
        "1000\n",
        "[ 1.         -0.09005222  0.02826996 -0.06004007  0.02636924  0.05604363\n",
        "  0.02636924 -0.06004007  0.02826996 -0.09005222]\n",
        "Shape of Correlation:  (10, 10, 10)\n",
        "DENSITY FIELD MEAN: "
       ]
      },
      {
       "output_type": "stream",
       "stream": "stdout",
       "text": [
        " 991.832279865\n",
        "Corr size:"
       ]
      },
      {
       "output_type": "stream",
       "stream": "stdout",
       "text": [
        " 1000\n",
        "1000\n",
        "[ 1.         -0.16359984  0.04954138  0.01639793  0.03282472  0.0230423\n",
        "  0.03282472  0.01639793  0.04954138 -0.16359984]\n",
        "Shape of Correlation:  (10, 10, 10)\n",
        "DENSITY FIELD MEAN: "
       ]
      },
      {
       "output_type": "stream",
       "stream": "stdout",
       "text": [
        " 998.476801455\n",
        "Corr size:"
       ]
      },
      {
       "output_type": "stream",
       "stream": "stdout",
       "text": [
        " 1000\n",
        "1000\n",
        "[ 1.         -0.12787624  0.00582937  0.00379015  0.01946056 -0.07667123\n",
        "  0.01946056  0.00379015  0.00582937 -0.12787624]\n",
        "Shape of Correlation:  (10, 10, 10)\n",
        "DENSITY FIELD MEAN: "
       ]
      },
      {
       "output_type": "stream",
       "stream": "stdout",
       "text": [
        " 989.092452414\n",
        "Corr size:"
       ]
      },
      {
       "output_type": "stream",
       "stream": "stdout",
       "text": [
        " 1000\n",
        "1000\n",
        "[ 1.         -0.17280982 -0.02735086  0.03253297 -0.05344589  0.04821809\n",
        " -0.05344589  0.03253297 -0.02735086 -0.17280982]\n",
        "Shape of Correlation:  (10, 10, 10)\n",
        "88.8472402623 % progress\n",
        "DENSITY FIELD MEAN: "
       ]
      },
      {
       "output_type": "stream",
       "stream": "stdout",
       "text": [
        " 997.591451772\n",
        "Corr size:"
       ]
      },
      {
       "output_type": "stream",
       "stream": "stdout",
       "text": [
        " 1000\n",
        "1000\n",
        "[ 1.         -0.18425527  0.03582529 -0.00613893 -0.01815673 -0.00193373\n",
        " -0.01815673 -0.00613893  0.03582529 -0.18425527]\n",
        "Shape of Correlation:  (10, 10, 10)\n",
        "DENSITY FIELD MEAN: "
       ]
      },
      {
       "output_type": "stream",
       "stream": "stdout",
       "text": [
        " 999.940351143\n",
        "Corr size:"
       ]
      },
      {
       "output_type": "stream",
       "stream": "stdout",
       "text": [
        " 1000\n",
        "1000\n",
        "[ 1.         -0.11828173  0.01395346  0.00967343 -0.04484362 -0.10605299\n",
        " -0.04484362  0.00967343  0.01395346 -0.11828173]\n",
        "Shape of Correlation:  (10, 10, 10)\n",
        "DENSITY FIELD MEAN: "
       ]
      },
      {
       "output_type": "stream",
       "stream": "stdout",
       "text": [
        " 999.440701154\n",
        "Corr size:"
       ]
      },
      {
       "output_type": "stream",
       "stream": "stdout",
       "text": [
        " 1000\n",
        "1000\n",
        "[ 1.         -0.18039646  0.00221188  0.02923927  0.00880758 -0.02822152\n",
        "  0.00880758  0.02923927  0.00221188 -0.18039646]\n",
        "Shape of Correlation:  (10, 10, 10)\n",
        "DENSITY FIELD MEAN: "
       ]
      },
      {
       "output_type": "stream",
       "stream": "stdout",
       "text": [
        " 993.205988893\n",
        "Corr size:"
       ]
      },
      {
       "output_type": "stream",
       "stream": "stdout",
       "text": [
        " 1000\n",
        "1000\n",
        "[ 1.         -0.13810763  0.03497125 -0.02876246  0.03530885 -0.00937677\n",
        "  0.03530885 -0.02876246  0.03497125 -0.13810763]\n",
        "Shape of Correlation:  (10, 10, 10)\n",
        "DENSITY FIELD MEAN: "
       ]
      },
      {
       "output_type": "stream",
       "stream": "stdout",
       "text": [
        " 999.380421084\n",
        "Corr size:"
       ]
      },
      {
       "output_type": "stream",
       "stream": "stdout",
       "text": [
        " 1000\n",
        "1000\n",
        "[ 1.         -0.17439888 -0.00656629 -0.03369582  0.0096154   0.01286856\n",
        "  0.0096154  -0.03369582 -0.00656629 -0.17439888]\n",
        "Shape of Correlation:  (10, 10, 10)\n",
        "89.8483240952 % progress\n",
        "DENSITY FIELD MEAN: "
       ]
      },
      {
       "output_type": "stream",
       "stream": "stdout",
       "text": [
        " 1011.7173479\n",
        "Corr size:"
       ]
      },
      {
       "output_type": "stream",
       "stream": "stdout",
       "text": [
        " 1000\n",
        "1000\n",
        "[ 1.         -0.15762637 -0.02178115  0.03689821 -0.10233041  0.06583417\n",
        " -0.10233041  0.03689821 -0.02178115 -0.15762637]\n",
        "Shape of Correlation:  (10, 10, 10)\n",
        "DENSITY FIELD MEAN: "
       ]
      },
      {
       "output_type": "stream",
       "stream": "stdout",
       "text": [
        " 1003.08370197\n",
        "Corr size:"
       ]
      },
      {
       "output_type": "stream",
       "stream": "stdout",
       "text": [
        " 1000\n",
        "1000\n",
        "[  1.00000000e+00  -1.42795260e-01  -7.39856811e-03   1.77136666e-04\n",
        "   1.89974795e-02  -1.44056849e-03   1.89974795e-02   1.77136666e-04\n",
        "  -7.39856811e-03  -1.42795260e-01]\n",
        "Shape of Correlation:  (10, 10, 10)\n",
        "DENSITY FIELD MEAN: "
       ]
      },
      {
       "output_type": "stream",
       "stream": "stdout",
       "text": [
        " 992.924214604\n",
        "Corr size:"
       ]
      },
      {
       "output_type": "stream",
       "stream": "stdout",
       "text": [
        " 1000\n",
        "1000\n",
        "[ 1.         -0.11742073  0.01027653 -0.01377746 -0.03931409  0.0144355\n",
        " -0.03931409 -0.01377746  0.01027653 -0.11742073]\n",
        "Shape of Correlation:  (10, 10, 10)\n",
        "DENSITY FIELD MEAN: "
       ]
      },
      {
       "output_type": "stream",
       "stream": "stdout",
       "text": [
        " 1010.27445702\n",
        "Corr size:"
       ]
      },
      {
       "output_type": "stream",
       "stream": "stdout",
       "text": [
        " 1000\n",
        "1000\n",
        "[ 1.         -0.12168919 -0.01084994  0.00399816 -0.04689297  0.05829164\n",
        " -0.04689297  0.00399816 -0.01084994 -0.12168919]\n",
        "Shape of Correlation:  (10, 10, 10)\n",
        "DENSITY FIELD MEAN: "
       ]
      },
      {
       "output_type": "stream",
       "stream": "stdout",
       "text": [
        " 992.685216969\n",
        "Corr size:"
       ]
      },
      {
       "output_type": "stream",
       "stream": "stdout",
       "text": [
        " 1000\n",
        "1000\n",
        "[  1.00000000e+00  -1.15554830e-01  -2.35420291e-02  -8.95084497e-04\n",
        "  -8.29504350e-03  -2.78009646e-02  -8.29504350e-03  -8.95084497e-04\n",
        "  -2.35420291e-02  -1.15554830e-01]\n",
        "Shape of Correlation:  (10, 10, 10)\n",
        "90.8466076937 % progress\n",
        "DENSITY FIELD MEAN: "
       ]
      },
      {
       "output_type": "stream",
       "stream": "stdout",
       "text": [
        " 996.41547202\n",
        "Corr size:"
       ]
      },
      {
       "output_type": "stream",
       "stream": "stdout",
       "text": [
        " 1000\n",
        "1000\n",
        "[ 1.         -0.19086623  0.02834746 -0.0107792  -0.02546029  0.00974779\n",
        " -0.02546029 -0.0107792   0.02834746 -0.19086623]\n",
        "Shape of Correlation:  (10, 10, 10)\n",
        "DENSITY FIELD MEAN: "
       ]
      },
      {
       "output_type": "stream",
       "stream": "stdout",
       "text": [
        " 995.155709079\n",
        "Corr size:"
       ]
      },
      {
       "output_type": "stream",
       "stream": "stdout",
       "text": [
        " 1000\n",
        "1000\n",
        "[ 1.         -0.13078865 -0.01868911  0.06059508  0.01455656 -0.0298825\n",
        "  0.01455656  0.06059508 -0.01868911 -0.13078865]\n",
        "Shape of Correlation:  (10, 10, 10)\n",
        "DENSITY FIELD MEAN: "
       ]
      },
      {
       "output_type": "stream",
       "stream": "stdout",
       "text": [
        " 994.548012651\n",
        "Corr size:"
       ]
      },
      {
       "output_type": "stream",
       "stream": "stdout",
       "text": [
        " 1000\n",
        "1000\n",
        "[ 1.         -0.14901444  0.02135244 -0.02739061  0.0127633  -0.04149892\n",
        "  0.0127633  -0.02739061  0.02135244 -0.14901444]\n",
        "Shape of Correlation:  (10, 10, 10)\n",
        "DENSITY FIELD MEAN: "
       ]
      },
      {
       "output_type": "stream",
       "stream": "stdout",
       "text": [
        " 985.728339372\n",
        "Corr size:"
       ]
      },
      {
       "output_type": "stream",
       "stream": "stdout",
       "text": [
        " 1000\n",
        "1000\n",
        "[ 1.         -0.14715586  0.02843081  0.07070155 -0.03452218  0.06318224\n",
        " -0.03452218  0.07070155  0.02843081 -0.14715586]\n",
        "Shape of Correlation:  (10, 10, 10)\n",
        "DENSITY FIELD MEAN: "
       ]
      },
      {
       "output_type": "stream",
       "stream": "stdout",
       "text": [
        " 992.932751653\n",
        "Corr size:"
       ]
      },
      {
       "output_type": "stream",
       "stream": "stdout",
       "text": [
        " 1000\n",
        "1000\n",
        "[ 1.         -0.13097113  0.0196857  -0.02525405 -0.07363995  0.04472175\n",
        " -0.07363995 -0.02525405  0.0196857  -0.13097113]\n",
        "Shape of Correlation:  (10, 10, 10)\n",
        "91.8392908231 % progress\n",
        "DENSITY FIELD MEAN: "
       ]
      },
      {
       "output_type": "stream",
       "stream": "stdout",
       "text": [
        " 994.419689395\n",
        "Corr size:"
       ]
      },
      {
       "output_type": "stream",
       "stream": "stdout",
       "text": [
        " 1000\n",
        "1000\n",
        "[ 1.         -0.13628021  0.03339051 -0.01137318 -0.04711568  0.07742389\n",
        " -0.04711568 -0.01137318  0.03339051 -0.13628021]\n",
        "Shape of Correlation:  (10, 10, 10)\n",
        "DENSITY FIELD MEAN: "
       ]
      },
      {
       "output_type": "stream",
       "stream": "stdout",
       "text": [
        " 1004.96389315\n",
        "Corr size:"
       ]
      },
      {
       "output_type": "stream",
       "stream": "stdout",
       "text": [
        " 1000\n",
        "1000\n",
        "[ 1.         -0.15924391  0.00486045 -0.04218343  0.02234007  0.04125456\n",
        "  0.02234007 -0.04218343  0.00486045 -0.15924391]\n",
        "Shape of Correlation:  (10, 10, 10)\n",
        "DENSITY FIELD MEAN: "
       ]
      },
      {
       "output_type": "stream",
       "stream": "stdout",
       "text": [
        " 1006.17072486\n",
        "Corr size:"
       ]
      },
      {
       "output_type": "stream",
       "stream": "stdout",
       "text": [
        " 1000\n",
        "1000\n",
        "[ 1.         -0.10118448 -0.03989147  0.01917392 -0.02435759  0.02294432\n",
        " -0.02435759  0.01917392 -0.03989147 -0.10118448]\n",
        "Shape of Correlation:  (10, 10, 10)\n",
        "DENSITY FIELD MEAN: "
       ]
      },
      {
       "output_type": "stream",
       "stream": "stdout",
       "text": [
        " 996.055322886\n",
        "Corr size:"
       ]
      },
      {
       "output_type": "stream",
       "stream": "stdout",
       "text": [
        " 1000\n",
        "1000\n",
        "[ 1.         -0.10213038  0.0161138  -0.07219364 -0.02737185  0.07124268\n",
        " -0.02737185 -0.07219364  0.0161138  -0.10213038]\n",
        "Shape of Correlation:  (10, 10, 10)\n",
        "DENSITY FIELD MEAN: "
       ]
      },
      {
       "output_type": "stream",
       "stream": "stdout",
       "text": [
        " 984.984708117\n",
        "Corr size:"
       ]
      },
      {
       "output_type": "stream",
       "stream": "stdout",
       "text": [
        " 1000\n",
        "1000\n",
        "[ 1.         -0.19707853  0.01724538 -0.03438096  0.06943797 -0.06909637\n",
        "  0.06943797 -0.03438096  0.01724538 -0.19707853]\n",
        "Shape of Correlation:  (10, 10, 10)\n",
        "92.8417747733 % progress\n",
        "DENSITY FIELD MEAN: "
       ]
      },
      {
       "output_type": "stream",
       "stream": "stdout",
       "text": [
        " 985.373331113\n",
        "Corr size:"
       ]
      },
      {
       "output_type": "stream",
       "stream": "stdout",
       "text": [
        " 1000\n",
        "1000\n",
        "[ 1.         -0.11129936  0.02724386 -0.02928704 -0.03073546 -0.00927844\n",
        " -0.03073546 -0.02928704  0.02724386 -0.11129936]\n",
        "Shape of Correlation:  (10, 10, 10)\n",
        "DENSITY FIELD MEAN: "
       ]
      },
      {
       "output_type": "stream",
       "stream": "stdout",
       "text": [
        " 996.5698748\n",
        "Corr size:"
       ]
      },
      {
       "output_type": "stream",
       "stream": "stdout",
       "text": [
        " 1000\n",
        "1000\n",
        "[ 1.         -0.12994943 -0.00391956 -0.08963537  0.02815592 -0.01265692\n",
        "  0.02815592 -0.08963537 -0.00391956 -0.12994943]\n",
        "Shape of Correlation:  (10, 10, 10)\n",
        "DENSITY FIELD MEAN: "
       ]
      },
      {
       "output_type": "stream",
       "stream": "stdout",
       "text": [
        " 997.574270877\n",
        "Corr size:"
       ]
      },
      {
       "output_type": "stream",
       "stream": "stdout",
       "text": [
        " 1000\n",
        "1000\n",
        "[ 1.         -0.15850601  0.01777976 -0.01823441 -0.01628745  0.02607646\n",
        " -0.01628745 -0.01823441  0.01777976 -0.15850601]\n",
        "Shape of Correlation:  (10, 10, 10)\n",
        "DENSITY FIELD MEAN: "
       ]
      },
      {
       "output_type": "stream",
       "stream": "stdout",
       "text": [
        " 998.812304385\n",
        "Corr size:"
       ]
      },
      {
       "output_type": "stream",
       "stream": "stdout",
       "text": [
        " 1000\n",
        "1000\n",
        "[ 1.         -0.18528247  0.04264777  0.02197634 -0.0307451   0.06806496\n",
        " -0.0307451   0.02197634  0.04264777 -0.18528247]\n",
        "Shape of Correlation:  (10, 10, 10)\n",
        "DENSITY FIELD MEAN: "
       ]
      },
      {
       "output_type": "stream",
       "stream": "stdout",
       "text": [
        " 998.304806956\n",
        "Corr size:"
       ]
      },
      {
       "output_type": "stream",
       "stream": "stdout",
       "text": [
        " 1000\n",
        "1000\n",
        "[ 1.         -0.13255524  0.02573225  0.04762082 -0.00601196 -0.04015067\n",
        " -0.00601196  0.04762082  0.02573225 -0.13255524]\n",
        "Shape of Correlation:  (10, 10, 10)\n",
        "93.8386582545 % progress\n",
        "DENSITY FIELD MEAN: "
       ]
      },
      {
       "output_type": "stream",
       "stream": "stdout",
       "text": [
        " 997.720321056\n",
        "Corr size:"
       ]
      },
      {
       "output_type": "stream",
       "stream": "stdout",
       "text": [
        " 1000\n",
        "1000\n",
        "[ 1.         -0.17242418  0.01263047  0.00540791 -0.03185543  0.08996501\n",
        " -0.03185543  0.00540791  0.01263047 -0.17242418]\n",
        "Shape of Correlation:  (10, 10, 10)\n",
        "DENSITY FIELD MEAN: "
       ]
      },
      {
       "output_type": "stream",
       "stream": "stdout",
       "text": [
        " 1014.78713384\n",
        "Corr size:"
       ]
      },
      {
       "output_type": "stream",
       "stream": "stdout",
       "text": [
        " 1000\n",
        "1000\n",
        "[ 1.         -0.1724541   0.03956771  0.04017569  0.02817005 -0.04455281\n",
        "  0.02817005  0.04017569  0.03956771 -0.1724541 ]\n",
        "Shape of Correlation:  (10, 10, 10)\n",
        "DENSITY FIELD MEAN: "
       ]
      },
      {
       "output_type": "stream",
       "stream": "stdout",
       "text": [
        " 994.308493762\n",
        "Corr size:"
       ]
      },
      {
       "output_type": "stream",
       "stream": "stdout",
       "text": [
        " 1000\n",
        "1000\n",
        "[ 1.         -0.14283808  0.00376874 -0.01927198 -0.02338665  0.02228372\n",
        " -0.02338665 -0.01927198  0.00376874 -0.14283808]\n",
        "Shape of Correlation:  (10, 10, 10)\n",
        "DENSITY FIELD MEAN: "
       ]
      },
      {
       "output_type": "stream",
       "stream": "stdout",
       "text": [
        " 1005.32834376\n",
        "Corr size:"
       ]
      },
      {
       "output_type": "stream",
       "stream": "stdout",
       "text": [
        " 1000\n",
        "1000\n",
        "[ 1.         -0.22792406  0.05363004 -0.08110915  0.03556139 -0.00225441\n",
        "  0.03556139 -0.08110915  0.05363004 -0.22792406]\n",
        "Shape of Correlation:  (10, 10, 10)\n",
        "DENSITY FIELD MEAN: "
       ]
      },
      {
       "output_type": "stream",
       "stream": "stdout",
       "text": [
        " 1009.11339605\n",
        "Corr size:"
       ]
      },
      {
       "output_type": "stream",
       "stream": "stdout",
       "text": [
        " 1000\n",
        "1000\n",
        "[ 1.         -0.14784868 -0.02072656  0.05907745  0.04793209 -0.0071119\n",
        "  0.04793209  0.05907745 -0.02072656 -0.14784868]\n",
        "Shape of Correlation:  (10, 10, 10)\n",
        "94.8355417357 % progress\n",
        "DENSITY FIELD MEAN: "
       ]
      },
      {
       "output_type": "stream",
       "stream": "stdout",
       "text": [
        " 987.861974192\n",
        "Corr size:"
       ]
      },
      {
       "output_type": "stream",
       "stream": "stdout",
       "text": [
        " 1000\n",
        "1000\n",
        "[ 1.         -0.12901243 -0.02712396  0.00198351 -0.02908697  0.06975282\n",
        " -0.02908697  0.00198351 -0.02712396 -0.12901243]\n",
        "Shape of Correlation:  (10, 10, 10)\n",
        "DENSITY FIELD MEAN: "
       ]
      },
      {
       "output_type": "stream",
       "stream": "stdout",
       "text": [
        " 1001.19093407\n",
        "Corr size:"
       ]
      },
      {
       "output_type": "stream",
       "stream": "stdout",
       "text": [
        " 1000\n",
        "1000\n",
        "[ 1.         -0.12207237 -0.00116866  0.06584904 -0.02266798  0.04576623\n",
        " -0.02266798  0.06584904 -0.00116866 -0.12207237]\n",
        "Shape of Correlation:  (10, 10, 10)\n",
        "DENSITY FIELD MEAN: "
       ]
      },
      {
       "output_type": "stream",
       "stream": "stdout",
       "text": [
        " 993.95790842\n",
        "Corr size:"
       ]
      },
      {
       "output_type": "stream",
       "stream": "stdout",
       "text": [
        " 1000\n",
        "1000\n",
        "[ 1.         -0.1058926  -0.01212883 -0.03134026  0.02800102 -0.05683264\n",
        "  0.02800102 -0.03134026 -0.01212883 -0.1058926 ]\n",
        "Shape of Correlation:  (10, 10, 10)\n",
        "DENSITY FIELD MEAN: "
       ]
      },
      {
       "output_type": "stream",
       "stream": "stdout",
       "text": [
        " 996.01245955\n",
        "Corr size:"
       ]
      },
      {
       "output_type": "stream",
       "stream": "stdout",
       "text": [
        " 1000\n",
        "1000\n",
        "[ 1.         -0.13524314  0.00890935  0.01112728 -0.02252089  0.00516756\n",
        " -0.02252089  0.01112728  0.00890935 -0.13524314]\n",
        "Shape of Correlation:  (10, 10, 10)\n",
        "DENSITY FIELD MEAN: "
       ]
      },
      {
       "output_type": "stream",
       "stream": "stdout",
       "text": [
        " 995.172834457\n",
        "Corr size:"
       ]
      },
      {
       "output_type": "stream",
       "stream": "stdout",
       "text": [
        " 1000\n",
        "1000\n",
        "[  1.00000000e+00  -1.51837308e-01   1.69167161e-02   5.94990846e-04\n",
        "  -3.64152929e-02   7.51378093e-02  -3.64152929e-02   5.94990846e-04\n",
        "   1.69167161e-02  -1.51837308e-01]\n",
        "Shape of Correlation:  (10, 10, 10)\n",
        "95.8338253342 % progress\n",
        "DENSITY FIELD MEAN: "
       ]
      },
      {
       "output_type": "stream",
       "stream": "stdout",
       "text": [
        " 1001.46720565\n",
        "Corr size:"
       ]
      },
      {
       "output_type": "stream",
       "stream": "stdout",
       "text": [
        " 1000\n",
        "1000\n",
        "[ 1.         -0.16719412  0.0470318   0.01559557 -0.01288729 -0.05260697\n",
        " -0.01288729  0.01559557  0.0470318  -0.16719412]\n",
        "Shape of Correlation:  (10, 10, 10)\n",
        "DENSITY FIELD MEAN: "
       ]
      },
      {
       "output_type": "stream",
       "stream": "stdout",
       "text": [
        " 1012.30403344\n",
        "Corr size:"
       ]
      },
      {
       "output_type": "stream",
       "stream": "stdout",
       "text": [
        " 1000\n",
        "1000\n",
        "[ 1.         -0.17160475 -0.0427982  -0.02533846 -0.00460419  0.06880756\n",
        " -0.00460419 -0.02533846 -0.0427982  -0.17160475]\n",
        "Shape of Correlation:  (10, 10, 10)\n",
        "DENSITY FIELD MEAN: "
       ]
      },
      {
       "output_type": "stream",
       "stream": "stdout",
       "text": [
        " 999.759404933\n",
        "Corr size:"
       ]
      },
      {
       "output_type": "stream",
       "stream": "stdout",
       "text": [
        " 1000\n",
        "1000\n",
        "[  1.00000000e+00  -1.46241728e-01  -4.99989012e-04  -5.52809944e-02\n",
        "   1.82334822e-02  -8.79273226e-03   1.82334822e-02  -5.52809944e-02\n",
        "  -4.99989012e-04  -1.46241728e-01]\n",
        "Shape of Correlation:  (10, 10, 10)\n",
        "DENSITY FIELD MEAN: "
       ]
      },
      {
       "output_type": "stream",
       "stream": "stdout",
       "text": [
        " 998.906960593\n",
        "Corr size:"
       ]
      },
      {
       "output_type": "stream",
       "stream": "stdout",
       "text": [
        " 1000\n",
        "1000\n",
        "[ 1.         -0.10490883  0.0093133  -0.05614747 -0.04284839 -0.00940912\n",
        " -0.04284839 -0.05614747  0.0093133  -0.10490883]\n",
        "Shape of Correlation:  (10, 10, 10)\n",
        "DENSITY FIELD MEAN: "
       ]
      },
      {
       "output_type": "stream",
       "stream": "stdout",
       "text": [
        " 1002.19290232\n",
        "Corr size:"
       ]
      },
      {
       "output_type": "stream",
       "stream": "stdout",
       "text": [
        " 1000\n",
        "1000\n",
        "[ 1.         -0.13424367 -0.04652242 -0.01823945  0.01864122  0.0566482\n",
        "  0.01864122 -0.01823945 -0.04652242 -0.13424367]\n",
        "Shape of Correlation:  (10, 10, 10)\n",
        "96.8335090499 % progress\n",
        "DENSITY FIELD MEAN: "
       ]
      },
      {
       "output_type": "stream",
       "stream": "stdout",
       "text": [
        " 989.423757338\n",
        "Corr size:"
       ]
      },
      {
       "output_type": "stream",
       "stream": "stdout",
       "text": [
        " 1000\n",
        "1000\n",
        "[ 1.         -0.10773897  0.00378912 -0.01765489  0.00232956  0.00296961\n",
        "  0.00232956 -0.01765489  0.00378912 -0.10773897]\n",
        "Shape of Correlation:  (10, 10, 10)\n",
        "DENSITY FIELD MEAN: "
       ]
      },
      {
       "output_type": "stream",
       "stream": "stdout",
       "text": [
        " 990.733433686\n",
        "Corr size:"
       ]
      },
      {
       "output_type": "stream",
       "stream": "stdout",
       "text": [
        " 1000\n",
        "1000\n",
        "[ 1.         -0.18340972  0.0622703  -0.06436916  0.05109629  0.04753173\n",
        "  0.05109629 -0.06436916  0.0622703  -0.18340972]\n",
        "Shape of Correlation:  (10, 10, 10)\n",
        "DENSITY FIELD MEAN: "
       ]
      },
      {
       "output_type": "stream",
       "stream": "stdout",
       "text": [
        " 1005.95352634\n",
        "Corr size:"
       ]
      },
      {
       "output_type": "stream",
       "stream": "stdout",
       "text": [
        " 1000\n",
        "1000\n",
        "[ 1.         -0.13010293 -0.02745828 -0.01326004 -0.00497087  0.00198169\n",
        " -0.00497087 -0.01326004 -0.02745828 -0.13010293]\n",
        "Shape of Correlation:  (10, 10, 10)\n",
        "DENSITY FIELD MEAN: "
       ]
      },
      {
       "output_type": "stream",
       "stream": "stdout",
       "text": [
        " 996.5698748\n",
        "Corr size:"
       ]
      },
      {
       "output_type": "stream",
       "stream": "stdout",
       "text": [
        " 1000\n",
        "1000\n",
        "[ 1.         -0.13764171  0.0371278  -0.03937703  0.03868523 -0.00305737\n",
        "  0.03868523 -0.03937703  0.0371278  -0.13764171]\n",
        "Shape of Correlation:  (10, 10, 10)\n",
        "DENSITY FIELD MEAN: "
       ]
      },
      {
       "output_type": "stream",
       "stream": "stdout",
       "text": [
        " 994.317046684\n",
        "Corr size:"
       ]
      },
      {
       "output_type": "stream",
       "stream": "stdout",
       "text": [
        " 1000\n",
        "1000\n",
        "[ 1.         -0.11824427  0.00150662 -0.08211519  0.04231547 -0.03843858\n",
        "  0.04231547 -0.08211519  0.00150662 -0.11824427]\n",
        "Shape of Correlation:  (10, 10, 10)\n",
        "97.8317926483 % progress\n",
        "DENSITY FIELD MEAN: "
       ]
      },
      {
       "output_type": "stream",
       "stream": "stdout",
       "text": [
        " 1000.90613543\n",
        "Corr size:"
       ]
      },
      {
       "output_type": "stream",
       "stream": "stdout",
       "text": [
        " 1000\n",
        "1000\n",
        "[ 1.         -0.16436997 -0.00579497 -0.01081618  0.00849115  0.02796238\n",
        "  0.00849115 -0.01081618 -0.00579497 -0.16436997]\n",
        "Shape of Correlation:  (10, 10, 10)\n",
        "DENSITY FIELD MEAN: "
       ]
      },
      {
       "output_type": "stream",
       "stream": "stdout",
       "text": [
        " 990.188872079\n",
        "Corr size:"
       ]
      },
      {
       "output_type": "stream",
       "stream": "stdout",
       "text": [
        " 1000\n",
        "1000\n",
        "[ 1.         -0.11799256  0.04567733 -0.04550394 -0.01982391 -0.01474624\n",
        " -0.01982391 -0.04550394  0.04567733 -0.11799256]\n",
        "Shape of Correlation:  (10, 10, 10)\n",
        "DENSITY FIELD MEAN: "
       ]
      },
      {
       "output_type": "stream",
       "stream": "stdout",
       "text": [
        " 1003.69836309\n",
        "Corr size:"
       ]
      },
      {
       "output_type": "stream",
       "stream": "stdout",
       "text": [
        " 1000\n",
        "1000\n",
        "[  1.00000000e+00  -1.32109900e-01  -7.36987492e-03   1.58003935e-02\n",
        "  -1.07514312e-02   9.69489470e-04  -1.07514312e-02   1.58003935e-02\n",
        "  -7.36987492e-03  -1.32109900e-01]\n",
        "Shape of Correlation:  (10, 10, 10)\n",
        "DENSITY FIELD MEAN: "
       ]
      },
      {
       "output_type": "stream",
       "stream": "stdout",
       "text": [
        " 994.659244\n",
        "Corr size:"
       ]
      },
      {
       "output_type": "stream",
       "stream": "stdout",
       "text": [
        " 1000\n",
        "1000\n",
        "[ 1.         -0.1165359  -0.03975915 -0.01480535  0.00760617 -0.04875266\n",
        "  0.00760617 -0.01480535 -0.03975915 -0.1165359 ]\n",
        "Shape of Correlation:  (10, 10, 10)\n",
        "DENSITY FIELD MEAN: "
       ]
      },
      {
       "output_type": "stream",
       "stream": "stdout",
       "text": [
        " 995.98674273\n",
        "Corr size:"
       ]
      },
      {
       "output_type": "stream",
       "stream": "stdout",
       "text": [
        " 1000\n",
        "1000\n",
        "[ 1.         -0.1486571  -0.02289568  0.03883158 -0.01353366 -0.03299615\n",
        " -0.01353366  0.03883158 -0.02289568 -0.1486571 ]\n",
        "Shape of Correlation:  (10, 10, 10)\n",
        "98.825875895 % progress\n",
        "DENSITY FIELD MEAN: "
       ]
      },
      {
       "output_type": "stream",
       "stream": "stdout",
       "text": [
        " 1004.053537\n",
        "Corr size:"
       ]
      },
      {
       "output_type": "stream",
       "stream": "stdout",
       "text": [
        " 1000\n",
        "1000\n",
        "[ 1.         -0.14668894  0.04068946  0.01824802 -0.01879642  0.06947318\n",
        " -0.01879642  0.01824802  0.04068946 -0.14668894]\n",
        "Shape of Correlation:  (10, 10, 10)\n",
        "DENSITY FIELD MEAN: "
       ]
      },
      {
       "output_type": "stream",
       "stream": "stdout",
       "text": [
        " 986.083518188\n",
        "Corr size:"
       ]
      },
      {
       "output_type": "stream",
       "stream": "stdout",
       "text": [
        " 1000\n",
        "1000\n",
        "[ 1.         -0.13876558 -0.04130307  0.0162645   0.00263359 -0.02881715\n",
        "  0.00263359  0.0162645  -0.04130307 -0.13876558]\n",
        "Shape of Correlation:  (10, 10, 10)\n",
        "DENSITY FIELD MEAN: "
       ]
      },
      {
       "output_type": "stream",
       "stream": "stdout",
       "text": [
        " 987.327988649\n",
        "Corr size:"
       ]
      },
      {
       "output_type": "stream",
       "stream": "stdout",
       "text": [
        " 1000\n",
        "1000\n",
        "[ 1.         -0.11828555  0.00678766  0.03637091 -0.01879758 -0.02692461\n",
        " -0.01879758  0.03637091  0.00678766 -0.11828555]\n",
        "Shape of Correlation:  (10, 10, 10)\n",
        "DENSITY FIELD MEAN: "
       ]
      },
      {
       "output_type": "stream",
       "stream": "stdout",
       "text": [
        " 1003.03178177\n",
        "Corr size:"
       ]
      },
      {
       "output_type": "stream",
       "stream": "stdout",
       "text": [
        " 1000\n",
        "1000\n",
        "[  1.00000000e+00  -1.23298624e-01  -4.24042293e-02  -7.20672877e-03\n",
        "   1.26397845e-04   1.26434140e-02   1.26397845e-04  -7.20672877e-03\n",
        "  -4.24042293e-02  -1.23298624e-01]\n",
        "Shape of Correlation:  (10, 10, 10)\n",
        "DENSITY FIELD MEAN: "
       ]
      },
      {
       "output_type": "stream",
       "stream": "stdout",
       "text": [
        " 994.625017203\n",
        "Corr size:"
       ]
      },
      {
       "output_type": "stream",
       "stream": "stdout",
       "text": [
        " 1000\n",
        "1000\n",
        "[ 1.         -0.12230352  0.00829995  0.02973443  0.02208099  0.07161383\n",
        "  0.02208099  0.02973443  0.00829995 -0.12230352]\n",
        "Shape of Correlation:  (10, 10, 10)\n",
        "99.8241594935 % progress\n",
        "DENSITY FIELD MEAN: "
       ]
      },
      {
       "output_type": "stream",
       "stream": "stdout",
       "text": [
        " 989.296314859\n",
        "Corr size:"
       ]
      },
      {
       "output_type": "stream",
       "stream": "stdout",
       "text": [
        " 1000\n",
        "1000\n",
        "[ 1.         -0.09741095 -0.01976467 -0.01009353  0.0177352  -0.02168189\n",
        "  0.0177352  -0.01009353 -0.01976467 -0.09741095]\n",
        "Shape of Correlation:  (10, 10, 10)\n",
        "\n",
        "Number of time points: 501\n"
       ]
      }
     ],
     "prompt_number": 145
    },
    {
     "cell_type": "code",
     "collapsed": false,
     "input": [
      "import matplotlib.pyplot as plt\n",
      "\n",
      "my_new_len = corr_N*corr_N*corr_N\n",
      "Corr.shape = (corr_N*corr_N*corr_N)\n",
      "Mtx = np.zeros((corr_N*corr_N*corr_N, corr_N*corr_N*corr_N))\n",
      "\n",
      "for x in xrange(my_new_len):\n",
      "    for y in xrange(my_new_len):\n",
      "        Mtx[x][y] = Corr[abs(x-y)]\n",
      "\n",
      "#plt.imshow(Mtx)\n",
      "#plt.colorbar()\n",
      "#plt.show()\n",
      "\n",
      "\n",
      "w,v = np.linalg.eig(Mtx)\n"
     ],
     "language": "python",
     "metadata": {},
     "outputs": [],
     "prompt_number": 146
    },
    {
     "cell_type": "code",
     "collapsed": false,
     "input": [
      "import math\n",
      "\n",
      "w = np.array(w)\n",
      "#plt.plot(v[w.index(max(w))])\n",
      "#plt.plot(v[w.index(min(w))])\n",
      "\n",
      "spectrum = [math.log(abs(x)) for x in w]\n",
      "\n",
      "\n",
      "plt.plot(spectrum)\n",
      "\n",
      "plt.show()"
     ],
     "language": "python",
     "metadata": {},
     "outputs": [],
     "prompt_number": 72
    },
    {
     "cell_type": "code",
     "collapsed": false,
     "input": [
      "from mpl_toolkits.mplot3d import Axes3D\n",
      "import matplotlib.pyplot as plt\n",
      "\n",
      "\n",
      "print corr_N\n",
      "conv_to_x = lambda ind: ind % corr_N\n",
      "conv_to_y = lambda ind: (ind/corr_N) % corr_N\n",
      "\n",
      "x_vals = xrange(10)\n",
      "y_vals = xrange(10)\n",
      "x_vals, y_vals = np.meshgrid(x_vals, y_vals)\n",
      "print 'x-values: ', x_vals\n",
      "print 'y-values: ', y_vals\n",
      "fig = plt.figure()\n",
      "\n",
      "splot_array = np.array((331,332,333,334,335,336,337,338,339))\n",
      "for ind,splot in enumerate(splot_array):\n",
      "    print \"Splot:\", splot\n",
      "    ax = fig.add_subplot(splot, projection='3d')\n",
      "\n",
      "    z = np.array([x for x in v[ind,:100]])\n",
      "    z.shape = (10,10)\n",
      "    print z\n",
      "\n",
      "    ax.plot_surface(x_vals, y_vals, z, rstride = 1, cstride = 1)\n",
      "\n",
      "plt.show()\n"
     ],
     "language": "python",
     "metadata": {},
     "outputs": [
      {
       "output_type": "stream",
       "stream": "stdout",
       "text": [
        "10\n",
        "x-values:  [[0 1 2 3 4 5 6 7 8 9]\n",
        " [0 1 2 3 4 5 6 7 8 9]\n",
        " [0 1 2 3 4 5 6 7 8 9]\n",
        " [0 1 2 3 4 5 6 7 8 9]\n",
        " [0 1 2 3 4 5 6 7 8 9]\n",
        " [0 1 2 3 4 5 6 7 8 9]\n",
        " [0 1 2 3 4 5 6 7 8 9]\n",
        " [0 1 2 3 4 5 6 7 8 9]\n",
        " [0 1 2 3 4 5 6 7 8 9]\n",
        " [0 1 2 3 4 5 6 7 8 9]]\n",
        "y-values:  [[0 0 0 0 0 0 0 0 0 0]\n",
        " [1 1 1 1 1 1 1 1 1 1]\n",
        " [2 2 2 2 2 2 2 2 2 2]\n",
        " [3 3 3 3 3 3 3 3 3 3]\n",
        " [4 4 4 4 4 4 4 4 4 4]\n",
        " [5 5 5 5 5 5 5 5 5 5]\n",
        " [6 6 6 6 6 6 6 6 6 6]\n",
        " [7 7 7 7 7 7 7 7 7 7]\n",
        " [8 8 8 8 8 8 8 8 8 8]\n",
        " [9 9 9 9 9 9 9 9 9 9]]\n",
        "Splot: 331\n",
        "[[-0.01658586  0.00548584 -0.01699396  0.00433293  0.02252351 -0.01328673\n",
        "   0.00011692  0.01318156  0.0065263  -0.00943916]\n",
        " [ 0.00390611  0.00829091  0.02617089  0.01739042  0.01194963 -0.03731796\n",
        "  -0.00925832  0.00732282  0.02748685  0.01342588]\n",
        " [-0.01757185  0.00088851 -0.01855878  0.00172482  0.02087927  0.02069782\n",
        "   0.00552175  0.00729189 -0.01039918  0.02734297]\n",
        " [ 0.00479707 -0.01209115 -0.00733654 -0.01789561  0.02795102  0.01195908\n",
        "  -0.01942341  0.02914208 -0.04044304  0.01980266]\n",
        " [-0.00164719 -0.00741472 -0.0051097   0.01861833 -0.0118821  -0.01969452\n",
        "  -0.00772573  0.01222766  0.01392007  0.00915329]\n",
        " [-0.00967768  0.04170545  0.01561084  0.03768723 -0.00822063 -0.01614225\n",
        "   0.02060628  0.01572286  0.00555224 -0.03576505]\n",
        " [-0.00154888 -0.04345154 -0.0055297  -0.03151129 -0.01225084  0.00467966\n",
        "  -0.00211693 -0.01638758 -0.01581799 -0.01368687]\n",
        " [-0.03263819  0.03361012 -0.01635687  0.03395022  0.01257466  0.00534827\n",
        "  -0.01212601 -0.02095113 -0.01251098  0.00313841]\n",
        " [ 0.02447226  0.01375141  0.00907339 -0.03065633  0.03513623 -0.0154574\n",
        "   0.02568585  0.00713847 -0.02902533 -0.04462936]\n",
        " [-0.01648476  0.00266406 -0.00244224  0.03836144  0.02964784 -0.01361913\n",
        "  -0.01166636  0.03164211 -0.0017014   0.03929955]]\n",
        "Splot:"
       ]
      },
      {
       "output_type": "stream",
       "stream": "stdout",
       "text": [
        " 332\n",
        "[[-0.0182628   0.00664215 -0.01347562  0.01395389  0.02562989 -0.01523478\n",
        "   0.00096635  0.00877567  0.01474893 -0.01171567]\n",
        " [-0.00206656  0.01162684  0.02933397  0.00805947  0.02244063 -0.0303135\n",
        "  -0.03079598  0.00974264  0.03236877  0.01728462]\n",
        " [-0.015763    0.00966737 -0.01877327 -0.01010827  0.02547601  0.02541346\n",
        "  -0.00523037 -0.00868377  0.01477345 -0.02100425]\n",
        " [-0.02125336 -0.00082576 -0.01629498 -0.02465679  0.03779421  0.02223048\n",
        "   0.00453066  0.04837718 -0.02285472 -0.02281361]\n",
        " [ 0.00020543 -0.00229998 -0.00871756  0.02041129  0.01205656  0.01120405\n",
        "   0.02050552  0.01858652 -0.00622678  0.01541896]\n",
        " [-0.00208948  0.03432205  0.0389911  -0.03002453  0.02878658 -0.02868924\n",
        "   0.00786412 -0.00881603 -0.01700807  0.03265962]\n",
        " [ 0.0244824  -0.04317801 -0.02985104  0.03782539  0.01474476  0.00409796\n",
        "   0.00423789 -0.01510846  0.01884577  0.01478218]\n",
        " [-0.03377254 -0.00169098 -0.04532203 -0.00120724  0.01532624  0.00709015\n",
        "   0.03581364  0.01429276  0.02544366  0.00224593]\n",
        " [ 0.02862168  0.0043746   0.02225076 -0.05042472 -0.01092589  0.03511492\n",
        "   0.02207049  0.0235048   0.01174089 -0.03691448]\n",
        " [-0.04269645  0.00039051 -0.0050305   0.04658973  0.02757763  0.00187104\n",
        "  -0.01740861  0.02953169 -0.02628612 -0.0177061 ]]\n",
        "Splot:"
       ]
      },
      {
       "output_type": "stream",
       "stream": "stdout",
       "text": [
        " 333\n",
        "[[-0.01846616  0.00701961 -0.00308558  0.01921498  0.02623162 -0.01559386\n",
        "   0.00193997 -0.00130419  0.01750706 -0.00878884]\n",
        " [-0.00868196  0.01377804  0.02903436 -0.00799914  0.02256587 -0.00700162\n",
        "  -0.04291884  0.0110731   0.03330842  0.01772001]\n",
        " [-0.00652613  0.01621921 -0.00853728 -0.02018538  0.02676488  0.02023027\n",
        "  -0.01989303  0.00914335 -0.0162268   0.00125016]\n",
        " [ 0.02901181  0.01257303 -0.00795809 -0.0215888   0.04473033  0.0002758\n",
        "   0.023923    0.04636775  0.00898337  0.0230395 ]\n",
        " [ 0.00193107  0.005135   -0.00764569 -0.00578273  0.02237021  0.00680038\n",
        "  -0.02229537 -0.00115324 -0.01926634  0.01342722]\n",
        " [ 0.00922771  0.00824307  0.05168914  0.00400228 -0.03948528 -0.0260018\n",
        "  -0.01408021 -0.00651718  0.01825913 -0.0103216 ]\n",
        " [-0.03929539 -0.02061498 -0.04950525 -0.04141801 -0.00941888 -0.01254833\n",
        "  -0.0064001  -0.00848006 -0.01651405 -0.01417004]\n",
        " [-0.02952526 -0.04603501 -0.01849423 -0.03317129  0.01535921  0.00842116\n",
        "  -0.00787261  0.00259151 -0.03104079 -0.0006395 ]\n",
        " [ 0.03359803 -0.01323746  0.01551213 -0.00354319 -0.04640939 -0.03232971\n",
        "   0.00670959  0.03348612  0.01926009 -0.00841965]\n",
        " [-0.05708227 -0.00369329 -0.00232403  0.02762327  0.02593848  0.01803639\n",
        "  -0.02286157 -0.01630616 -0.03337205 -0.05087892]]\n",
        "Splot:"
       ]
      },
      {
       "output_type": "stream",
       "stream": "stdout",
       "text": [
        " 334\n",
        "[[-0.01850827  0.0071541   0.00871031  0.01730394  0.02642929 -0.01561257\n",
        "   0.00294095 -0.01137346  0.01301713 -0.00252271]\n",
        " [-0.01236052  0.01550196  0.02807807 -0.02069202  0.01170683  0.0197623\n",
        "  -0.03877572  0.01236282  0.03328289  0.01629903]\n",
        " [ 0.00539994  0.01695503  0.00639132 -0.02139789  0.026804    0.00706073\n",
        "  -0.03019327 -0.00952972  0.01563018  0.01916641]\n",
        " [-0.0219819   0.00925984  0.00758304 -0.01699371  0.04891538 -0.02437722\n",
        "   0.0084069   0.02371377  0.03436461 -0.02282575]\n",
        " [-0.00415902  0.00927029 -0.0026406  -0.02407494  0.00081739 -0.02090911\n",
        "   0.0106591  -0.01860008 -0.00303993  0.00355412]\n",
        " [ 0.01569452 -0.0212254   0.04767452  0.02384323  0.03296859 -0.00931698\n",
        "  -0.0289679   0.01743981 -0.00674752 -0.0159742 ]\n",
        " [ 0.03399303  0.00909546 -0.05291308  0.04551604  0.00071629  0.01272493\n",
        "   0.0089656  -0.00748901  0.0137707   0.01428569]\n",
        " [-0.03083075 -0.03430046  0.03451763  0.0127771   0.01398338  0.01056667\n",
        "  -0.02879671 -0.02291721  0.0236141  -0.00356312]\n",
        " [ 0.03895286 -0.00943762 -0.00142058  0.0439202  -0.01168923  0.00649013\n",
        "  -0.01458439  0.03056085 -0.03842289  0.02259211]\n",
        " [-0.05262255 -0.00330412  0.00343341  0.00860004  0.03512922  0.01265923\n",
        "  -0.02716336 -0.04823701 -0.00839247 -0.00333144]]\n",
        "Splot:"
       ]
      },
      {
       "output_type": "stream",
       "stream": "stdout",
       "text": [
        " 335\n",
        "[[-0.0185339   0.00716311  0.01719855  0.00881283  0.02650786 -0.01546843\n",
        "   0.00394353 -0.01682393  0.00299808  0.00446892]\n",
        " [-0.01159555  0.01701345  0.02698427 -0.02337661 -0.00509048  0.03883202\n",
        "  -0.01967747  0.01389149  0.0329687   0.01370021]\n",
        " [ 0.01581023  0.01128777  0.01875015 -0.01232336  0.02615104 -0.00972758\n",
        "  -0.03052443  0.0099467  -0.01374912 -0.02975271]\n",
        " [ 0.00335948 -0.0062557   0.00975317 -0.01844963  0.04892214 -0.01671817\n",
        "  -0.01858198 -0.01025988  0.04028169  0.02226667]\n",
        " [ 0.0063166   0.00829066  0.00329421 -0.00833065 -0.02298506  0.02236406\n",
        "   0.00748703 -0.00724036  0.0180106  -0.00907307]\n",
        " [ 0.01296967 -0.04308816  0.02837362 -0.04037003 -0.01175712  0.01168076\n",
        "  -0.028037   -0.01572807 -0.00976984  0.03193268]\n",
        " [-0.01066759  0.03193733 -0.0382699  -0.04811156  0.00504708 -0.00404211\n",
        "  -0.0120034  -0.01917331 -0.01304591 -0.01436743]\n",
        " [-0.03602079  0.02044585  0.0422138   0.02469929  0.01193155  0.01297257\n",
        "   0.01412212  0.03475877 -0.00240097 -0.0053311 ]\n",
        " [ 0.03711365  0.01084754 -0.00030765  0.02256218  0.03847436  0.02509982\n",
        "  -0.03863861  0.01157358  0.03131095  0.04138351]\n",
        " [-0.0320724   0.00088798  0.00537096  0.01241351  0.04403383 -0.00846003\n",
        "  -0.02739943 -0.02730365  0.02097977  0.05041709]]\n",
        "Splot:"
       ]
      },
      {
       "output_type": "stream",
       "stream": "stdout",
       "text": [
        " 336\n",
        "[[-0.01857116  0.00711077  0.01908642 -0.00304562  0.02653016 -0.01521102\n",
        "   0.00493463 -0.01513402 -0.00834626  0.0095494 ]\n",
        " [-0.00672994  0.0183815   0.02590092 -0.01446305 -0.01984589  0.04266559\n",
        "   0.00684661  0.01549537  0.03261641  0.01019982]\n",
        " [ 0.02123386  0.00109959  0.02252476  0.00286202  0.02522143 -0.02425958\n",
        "  -0.02057923 -0.01047975  0.01165345  0.02492791]\n",
        " [ 0.01743854 -0.01279408 -0.00383019 -0.02379804  0.04445872  0.00980479\n",
        "  -0.01654605 -0.04039054  0.02348949 -0.02149163]\n",
        " [-0.00838042  0.00401626  0.00728231  0.01955262 -0.01543053 -0.01007118\n",
        "  -0.02107457  0.01545436  0.01160025 -0.01693008]\n",
        " [ 0.00232956 -0.0507163   0.00037301  0.03774943 -0.01452145  0.02547038\n",
        "  -0.01243798  0.00204002  0.0195843  -0.02875217]\n",
        " [-0.01782346  0.03923696 -0.01305514  0.04783889 -0.00360626 -0.00726292\n",
        "   0.01519666 -0.03968699  0.0132669   0.01352621]\n",
        " [-0.03566237  0.04434504 -0.00590852 -0.01499678  0.00983347  0.01473175\n",
        "   0.02416401 -0.027568   -0.02142137 -0.00646704]\n",
        " [ 0.02945196  0.01460899  0.01876562 -0.02931586  0.02603875 -0.03982229\n",
        "  -0.05021953 -0.02006544 -0.00109762  0.04025585]\n",
        " [-0.00567986  0.00291673  0.00213321  0.03463928  0.0412343  -0.01947026\n",
        "  -0.026432    0.01393392  0.02408097  0.02501046]]\n",
        "Splot:"
       ]
      },
      {
       "output_type": "stream",
       "stream": "stdout",
       "text": [
        " 337\n",
        "[[-0.01858102  0.00710305  0.01367652 -0.01376717  0.02646535 -0.01483985\n",
        "   0.0059018  -0.0069136  -0.01613962  0.01086738]\n",
        " [ 0.00033182  0.01970044  0.02478119  0.00194607 -0.02541293  0.03001986\n",
        "   0.03041052  0.01691642  0.03221822  0.00618503]\n",
        " [ 0.0199531  -0.01018258  0.01591513  0.0168655   0.02435466 -0.03174925\n",
        "  -0.00455724  0.01101909 -0.01052178 -0.00748373]\n",
        " [-0.02994338 -0.00140118 -0.01394608 -0.02593033  0.0367547   0.01344106\n",
        "   0.01126227 -0.05244049 -0.00782063  0.02024143]\n",
        " [ 0.01033307 -0.00034185  0.00828328  0.02029807  0.01292538 -0.0082659\n",
        "   0.02181326  0.01454475 -0.01251125 -0.01483933]\n",
        " [-0.01030106 -0.04195434 -0.02719572 -0.01792603  0.03398635  0.0250909\n",
        "   0.00905316  0.01396322 -0.01553756  0.00876993]\n",
        " [ 0.03597854  0.02961311  0.01041368 -0.0445984  -0.00385785  0.01313853\n",
        "  -0.01811832 -0.05674316 -0.0122408  -0.01176455]\n",
        " [-0.02535816  0.0044049  -0.04268187 -0.02459139  0.00772109  0.01585941\n",
        "  -0.01793753  0.00658573  0.03288679 -0.00817202]\n",
        " [ 0.02627463 -0.00591477  0.02529953 -0.02887346 -0.0261379   0.02641872\n",
        "  -0.032892   -0.04968626 -0.03010249  0.02335228]\n",
        " [ 0.01476212  0.00076655 -0.00099587  0.05037288  0.03255149 -0.00611483\n",
        "  -0.02958746  0.02157094  0.00656269 -0.0443373 ]]\n",
        "Splot:"
       ]
      },
      {
       "output_type": "stream",
       "stream": "stdout",
       "text": [
        " 338\n",
        "[[-0.01860603  0.00720617  0.00294964 -0.01925727  0.02644261 -0.01445465\n",
        "   0.00683824  0.00447243 -0.01693427  0.00802298]\n",
        " [ 0.00695759  0.02104355  0.02372759  0.0181924  -0.01889984  0.00584233\n",
        "   0.04188437  0.01802759  0.03192703  0.00240479]\n",
        " [ 0.01227523 -0.01882375  0.00191923  0.02306415  0.02409101 -0.02978644\n",
        "   0.01213869 -0.01160605  0.01098447 -0.01406817]\n",
        " [ 0.02786287  0.01207733 -0.00616191 -0.02412175  0.02851109 -0.0128714\n",
        "   0.02250798 -0.0412151  -0.03883353 -0.01884304]\n",
        " [-0.01217862 -0.00258558  0.00711144 -0.00717875  0.02180343  0.021816\n",
        "  -0.00919012 -0.00856669 -0.01711643 -0.003901  ]\n",
        " [-0.01799249 -0.01864704 -0.04529934 -0.01037174 -0.03785761  0.01116327\n",
        "   0.02579614 -0.02108551  0.00012738  0.01763147]\n",
        " [-0.03420599  0.00757267  0.02144502  0.04100457  0.01204847 -0.00942724\n",
        "   0.02054965 -0.06070282  0.00946564  0.01048977]\n",
        " [-0.01215358 -0.04459729 -0.01603984  0.0236852   0.00534665  0.0167874\n",
        "  -0.0238345   0.01374726 -0.02811039 -0.01067975]\n",
        " [ 0.03164167 -0.01895996  0.00674116  0.0192424  -0.03283874  0.00564997\n",
        "   0.00633168 -0.05924642  0.03958933  0.00297503]\n",
        " [ 0.02316227 -0.00155013 -0.00037919  0.0414607   0.03127382  0.01570475\n",
        "  -0.03510327 -0.00453007 -0.00315595 -0.0534756 ]]\n",
        "Splot:"
       ]
      },
      {
       "output_type": "stream",
       "stream": "stdout",
       "text": [
        " 339\n",
        "[[-0.01877511  0.00754984 -0.0092339  -0.01733921  0.02680225 -0.01428615\n",
        "   0.00774296  0.01436161 -0.0100972   0.00190791]\n",
        " [ 0.01074041  0.02267268  0.02310409  0.02669761 -0.00283488 -0.02099305\n",
        "   0.03679577  0.01917202  0.03227197  0.00031739]\n",
        " [ 0.00026587 -0.02204692 -0.01344655  0.01882605  0.02526709 -0.0182199\n",
        "   0.02549121  0.0123704  -0.01325813  0.02952114]\n",
        " [-0.01211907  0.00838471  0.00885383 -0.02574448  0.02319151 -0.03026243\n",
        "  -0.00086359 -0.01214583 -0.05631895  0.01790785]\n",
        " [ 0.01384115 -0.00295171  0.00513722 -0.02343203 -0.00173859 -0.02285852\n",
        "  -0.00950039 -0.01774978  0.00535495  0.0096323 ]\n",
        " [-0.0166939   0.01313918 -0.04710998  0.03515609  0.02417109 -0.00989435\n",
        "   0.03026652  0.01423409  0.01624845 -0.03732822]\n",
        " [ 0.01403873 -0.01876736  0.01611558 -0.0400242  -0.01535279 -0.00094521\n",
        "  -0.02272037 -0.05391826 -0.0075208  -0.01064608]\n",
        " [-0.00614274 -0.03432195  0.03789888  0.02049721  0.00301901  0.01763025\n",
        "   0.02926239 -0.02570575  0.01372926 -0.0129371 ]\n",
        " [ 0.03727957 -0.00212994 -0.00904036  0.03244187  0.0169439  -0.03405827\n",
        "   0.04154651 -0.04240105 -0.02185693 -0.01128347]\n",
        " [ 0.02071914 -0.00057755  0.00140277  0.01993609  0.04139001  0.01816522\n",
        "  -0.0372085  -0.01500889  0.00293893  0.0152928 ]]\n"
       ]
      }
     ],
     "prompt_number": 157
    },
    {
     "cell_type": "code",
     "collapsed": false,
     "input": [
      "x_vals = xrange(10)\n",
      "y_vals = xrange(10)\n",
      "x_vals, y_vals = np.meshgrid(x_vals, y_vals)\n",
      "fig = plt.figure()\n",
      "\n",
      "x_vals = x_vals * .35\n",
      "y_vals = y_vals * .35\n",
      "\n",
      "z = np.array([x for x in Corr[:100]])\n",
      "z.shape = (10,10)\n",
      "print z\n",
      "\n",
      "ax = fig.add_subplot(111, projection='3d')\n",
      "ax.plot_surface(x_vals, y_vals, z, rstride=1, cstride=1)\n",
      "\n",
      "\n",
      "plt.show()"
     ],
     "language": "python",
     "metadata": {},
     "outputs": [
      {
       "output_type": "stream",
       "stream": "stdout",
       "text": [
        "[[  1.00000000e+00  -1.32529810e-01   3.60270395e-04  -1.27087234e-03\n",
        "   -1.50854865e-03  -2.12433285e-04  -1.50854865e-03  -1.27087234e-03\n",
        "    3.60270395e-04  -1.32529810e-01]\n",
        " [ -1.31952439e-01   4.50618129e-04  -3.99727068e-04  -3.71743459e-04\n",
        "    5.26753090e-04  -2.25257941e-03   4.25035977e-04   8.11855619e-04\n",
        "   -7.09752626e-04   2.28201225e-04]\n",
        " [ -2.92536929e-03  -1.50537073e-03  -1.34045227e-03  -6.63359135e-05\n",
        "   -7.21220517e-04   2.36739286e-03  -1.86710114e-03   4.31415797e-04\n",
        "   -1.98968194e-03   1.70572958e-03]\n",
        " [ -9.17980773e-04   3.48402736e-04  -2.24468296e-03  -3.50143091e-04\n",
        "    9.52004340e-05  -1.23783021e-03   2.02082393e-03  -1.28124823e-03\n",
        "    3.30077846e-04   1.64549469e-04]\n",
        " [ -2.16201756e-03  -2.62767941e-04  -2.49907651e-03   2.04419252e-03\n",
        "    1.17081086e-03  -1.04496145e-03  -1.25322943e-03  -7.27361759e-04\n",
        "    2.52002757e-03  -8.39588196e-04]\n",
        " [ -5.58143404e-04  -7.82686905e-04  -6.56944722e-04   6.34699319e-04\n",
        "   -9.30250465e-04  -2.73793373e-04  -9.30250465e-04   6.34699319e-04\n",
        "   -6.56944722e-04  -7.82686905e-04]\n",
        " [ -2.16201756e-03  -8.39588196e-04   2.52002757e-03  -7.27361759e-04\n",
        "   -1.25322943e-03  -1.04496145e-03   1.17081086e-03   2.04419252e-03\n",
        "   -2.49907651e-03  -2.62767941e-04]\n",
        " [ -9.17980773e-04   1.64549469e-04   3.30077846e-04  -1.28124823e-03\n",
        "    2.02082393e-03  -1.23783021e-03   9.52004340e-05  -3.50143091e-04\n",
        "   -2.24468296e-03   3.48402736e-04]\n",
        " [ -2.92536929e-03   1.70572958e-03  -1.98968194e-03   4.31415797e-04\n",
        "   -1.86710114e-03   2.36739286e-03  -7.21220517e-04  -6.63359135e-05\n",
        "   -1.34045227e-03  -1.50537073e-03]\n",
        " [ -1.31952439e-01   2.28201225e-04  -7.09752626e-04   8.11855619e-04\n",
        "    4.25035977e-04  -2.25257941e-03   5.26753090e-04  -3.71743459e-04\n",
        "   -3.99727068e-04   4.50618129e-04]]\n"
       ]
      }
     ],
     "prompt_number": 163
    },
    {
     "cell_type": "code",
     "collapsed": false,
     "input": [],
     "language": "python",
     "metadata": {},
     "outputs": []
    }
   ],
   "metadata": {}
  }
 ]
}